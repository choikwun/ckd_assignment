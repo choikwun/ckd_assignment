{
 "cells": [
  {
   "cell_type": "markdown",
   "id": "88252afe",
   "metadata": {},
   "source": [
    "# Introduction\n",
    "State notebook purpose here"
   ]
  },
  {
   "cell_type": "markdown",
   "id": "3fc1cd35",
   "metadata": {},
   "source": [
    "### Imports\n",
    "Import libraries and write settings here."
   ]
  },
  {
   "cell_type": "code",
   "execution_count": 159,
   "id": "41448ec9",
   "metadata": {
    "ExecuteTime": {
     "end_time": "2021-09-17T03:57:59.803729Z",
     "start_time": "2021-09-17T03:57:59.748189Z"
    }
   },
   "outputs": [
    {
     "data": {
      "text/html": [
       "        <script type=\"text/javascript\">\n",
       "        window.PlotlyConfig = {MathJaxConfig: 'local'};\n",
       "        if (window.MathJax) {MathJax.Hub.Config({SVG: {font: \"STIX-Web\"}});}\n",
       "        if (typeof require !== 'undefined') {\n",
       "        require.undef(\"plotly\");\n",
       "        requirejs.config({\n",
       "            paths: {\n",
       "                'plotly': ['https://cdn.plot.ly/plotly-latest.min']\n",
       "            }\n",
       "        });\n",
       "        require(['plotly'], function(Plotly) {\n",
       "            window._Plotly = Plotly;\n",
       "        });\n",
       "        }\n",
       "        </script>\n",
       "        "
      ]
     },
     "metadata": {},
     "output_type": "display_data"
    }
   ],
   "source": [
    "# Data manipulation\n",
    "import cufflinks as cf\n",
    "import altair as alt\n",
    "from IPython import get_ipython\n",
    "from IPython.core.interactiveshell import InteractiveShell\n",
    "import pandas as pd\n",
    "import numpy as np\n",
    "import matplotlib.pyplot as plt\n",
    "#from sklearnex import patch_sklearn\n",
    "\n",
    "# Additional packages\n",
    "from sklearn import preprocessing\n",
    "import lazypredict\n",
    "\n",
    "# Options for pandas\n",
    "pd.options.display.max_columns = 50\n",
    "pd.options.display.max_rows = 30\n",
    "\n",
    "ipython = get_ipython()\n",
    "\n",
    "# autoreload extension\n",
    "if 'autoreload' not in ipython.extension_manager.loaded:\n",
    "    %load_ext autoreload\n",
    "\n",
    "%autoreload 2\n",
    "\n",
    "# Visualizations\n",
    "alt.renderers.enable('notebook')\n",
    "alt.renderers.enable('html')\n",
    "\n",
    "cf.go_offline(connected=True)\n",
    "cf.set_config_file(theme='white')"
   ]
  },
  {
   "cell_type": "markdown",
   "id": "f6db66ff",
   "metadata": {},
   "source": [
    "# Data Wrangling"
   ]
  },
  {
   "cell_type": "markdown",
   "id": "bcefb343",
   "metadata": {},
   "source": [
    "## Basic Data Manipulation"
   ]
  },
  {
   "cell_type": "code",
   "execution_count": 160,
   "id": "811fe6b9",
   "metadata": {
    "ExecuteTime": {
     "end_time": "2021-09-17T03:57:59.870329Z",
     "start_time": "2021-09-17T03:57:59.805950Z"
    }
   },
   "outputs": [],
   "source": [
    "# Reading in data\n",
    "demographics = pd.read_csv(\"dataScienceTask/T_demo.csv\")\n",
    "dbp = pd.read_csv(\"dataScienceTask/T_DBP.csv\")\n",
    "sbp = pd.read_csv(\"dataScienceTask/T_SBP.csv\")\n",
    "creatinine = pd.read_csv(\"dataScienceTask/T_creatinine.csv\")\n",
    "glucose = pd.read_csv(\"dataScienceTask/T_glucose.csv\")\n",
    "meds = pd.read_csv(\"dataScienceTask/T_meds.csv\")\n",
    "hgb = pd.read_csv(\"dataScienceTask/T_HGB.csv\")\n",
    "ldl = pd.read_csv(\"dataScienceTask/T_ldl.csv\")\n",
    "stage = pd.read_csv(\"dataScienceTask/T_stage.csv\")"
   ]
  },
  {
   "cell_type": "code",
   "execution_count": 161,
   "id": "598d01c1",
   "metadata": {
    "ExecuteTime": {
     "end_time": "2021-09-17T03:58:04.873656Z",
     "start_time": "2021-09-17T03:57:59.872722Z"
    }
   },
   "outputs": [
    {
     "data": {
      "text/html": [
       "<div>\n",
       "<style scoped>\n",
       "    .dataframe tbody tr th:only-of-type {\n",
       "        vertical-align: middle;\n",
       "    }\n",
       "\n",
       "    .dataframe tbody tr th {\n",
       "        vertical-align: top;\n",
       "    }\n",
       "\n",
       "    .dataframe thead th {\n",
       "        text-align: right;\n",
       "    }\n",
       "</style>\n",
       "<table border=\"1\" class=\"dataframe\">\n",
       "  <thead>\n",
       "    <tr style=\"text-align: right;\">\n",
       "      <th></th>\n",
       "      <th>time</th>\n",
       "      <th>value_dbp</th>\n",
       "      <th>value_sbp</th>\n",
       "      <th>value_creatinine</th>\n",
       "      <th>value_glucose</th>\n",
       "      <th>value_hgb</th>\n",
       "      <th>value_ldl</th>\n",
       "      <th>id</th>\n",
       "      <th>gender</th>\n",
       "      <th>race</th>\n",
       "    </tr>\n",
       "  </thead>\n",
       "  <tbody>\n",
       "    <tr>\n",
       "      <th>0</th>\n",
       "      <td>0</td>\n",
       "      <td>95.32</td>\n",
       "      <td>134.11</td>\n",
       "      <td>1.29</td>\n",
       "      <td>6.24</td>\n",
       "      <td>13.51</td>\n",
       "      <td>161.49</td>\n",
       "      <td>0</td>\n",
       "      <td>Male</td>\n",
       "      <td>Unknown</td>\n",
       "    </tr>\n",
       "    <tr>\n",
       "      <th>1</th>\n",
       "      <td>98</td>\n",
       "      <td>83.98</td>\n",
       "      <td>133.75</td>\n",
       "      <td>NaN</td>\n",
       "      <td>NaN</td>\n",
       "      <td>NaN</td>\n",
       "      <td>NaN</td>\n",
       "      <td>0</td>\n",
       "      <td>Male</td>\n",
       "      <td>Unknown</td>\n",
       "    </tr>\n",
       "    <tr>\n",
       "      <th>2</th>\n",
       "      <td>107</td>\n",
       "      <td>NaN</td>\n",
       "      <td>NaN</td>\n",
       "      <td>1.15</td>\n",
       "      <td>7.20</td>\n",
       "      <td>13.39</td>\n",
       "      <td>111.39</td>\n",
       "      <td>0</td>\n",
       "      <td>Male</td>\n",
       "      <td>Unknown</td>\n",
       "    </tr>\n",
       "    <tr>\n",
       "      <th>3</th>\n",
       "      <td>279</td>\n",
       "      <td>65.97</td>\n",
       "      <td>125.08</td>\n",
       "      <td>NaN</td>\n",
       "      <td>NaN</td>\n",
       "      <td>NaN</td>\n",
       "      <td>NaN</td>\n",
       "      <td>0</td>\n",
       "      <td>Male</td>\n",
       "      <td>Unknown</td>\n",
       "    </tr>\n",
       "    <tr>\n",
       "      <th>4</th>\n",
       "      <td>286</td>\n",
       "      <td>NaN</td>\n",
       "      <td>NaN</td>\n",
       "      <td>1.44</td>\n",
       "      <td>7.01</td>\n",
       "      <td>12.84</td>\n",
       "      <td>NaN</td>\n",
       "      <td>0</td>\n",
       "      <td>Male</td>\n",
       "      <td>Unknown</td>\n",
       "    </tr>\n",
       "    <tr>\n",
       "      <th>...</th>\n",
       "      <td>...</td>\n",
       "      <td>...</td>\n",
       "      <td>...</td>\n",
       "      <td>...</td>\n",
       "      <td>...</td>\n",
       "      <td>...</td>\n",
       "      <td>...</td>\n",
       "      <td>...</td>\n",
       "      <td>...</td>\n",
       "      <td>...</td>\n",
       "    </tr>\n",
       "    <tr>\n",
       "      <th>4756</th>\n",
       "      <td>621</td>\n",
       "      <td>72.52</td>\n",
       "      <td>113.38</td>\n",
       "      <td>NaN</td>\n",
       "      <td>NaN</td>\n",
       "      <td>NaN</td>\n",
       "      <td>NaN</td>\n",
       "      <td>299</td>\n",
       "      <td>Male</td>\n",
       "      <td>Asian</td>\n",
       "    </tr>\n",
       "    <tr>\n",
       "      <th>4757</th>\n",
       "      <td>652</td>\n",
       "      <td>NaN</td>\n",
       "      <td>NaN</td>\n",
       "      <td>0.82</td>\n",
       "      <td>NaN</td>\n",
       "      <td>NaN</td>\n",
       "      <td>NaN</td>\n",
       "      <td>299</td>\n",
       "      <td>Male</td>\n",
       "      <td>Asian</td>\n",
       "    </tr>\n",
       "    <tr>\n",
       "      <th>4758</th>\n",
       "      <td>659</td>\n",
       "      <td>NaN</td>\n",
       "      <td>NaN</td>\n",
       "      <td>NaN</td>\n",
       "      <td>6.20</td>\n",
       "      <td>14.43</td>\n",
       "      <td>79.02</td>\n",
       "      <td>299</td>\n",
       "      <td>Male</td>\n",
       "      <td>Asian</td>\n",
       "    </tr>\n",
       "    <tr>\n",
       "      <th>4759</th>\n",
       "      <td>1069</td>\n",
       "      <td>NaN</td>\n",
       "      <td>NaN</td>\n",
       "      <td>NaN</td>\n",
       "      <td>NaN</td>\n",
       "      <td>14.90</td>\n",
       "      <td>NaN</td>\n",
       "      <td>299</td>\n",
       "      <td>Male</td>\n",
       "      <td>Asian</td>\n",
       "    </tr>\n",
       "    <tr>\n",
       "      <th>4760</th>\n",
       "      <td>1295</td>\n",
       "      <td>NaN</td>\n",
       "      <td>NaN</td>\n",
       "      <td>NaN</td>\n",
       "      <td>NaN</td>\n",
       "      <td>14.53</td>\n",
       "      <td>NaN</td>\n",
       "      <td>299</td>\n",
       "      <td>Male</td>\n",
       "      <td>Asian</td>\n",
       "    </tr>\n",
       "  </tbody>\n",
       "</table>\n",
       "<p>4761 rows × 10 columns</p>\n",
       "</div>"
      ],
      "text/plain": [
       "      time  value_dbp  value_sbp  value_creatinine  value_glucose  value_hgb  \\\n",
       "0        0      95.32     134.11              1.29           6.24      13.51   \n",
       "1       98      83.98     133.75               NaN            NaN        NaN   \n",
       "2      107        NaN        NaN              1.15           7.20      13.39   \n",
       "3      279      65.97     125.08               NaN            NaN        NaN   \n",
       "4      286        NaN        NaN              1.44           7.01      12.84   \n",
       "...    ...        ...        ...               ...            ...        ...   \n",
       "4756   621      72.52     113.38               NaN            NaN        NaN   \n",
       "4757   652        NaN        NaN              0.82            NaN        NaN   \n",
       "4758   659        NaN        NaN               NaN           6.20      14.43   \n",
       "4759  1069        NaN        NaN               NaN            NaN      14.90   \n",
       "4760  1295        NaN        NaN               NaN            NaN      14.53   \n",
       "\n",
       "      value_ldl   id gender     race  \n",
       "0        161.49    0   Male  Unknown  \n",
       "1           NaN    0   Male  Unknown  \n",
       "2        111.39    0   Male  Unknown  \n",
       "3           NaN    0   Male  Unknown  \n",
       "4           NaN    0   Male  Unknown  \n",
       "...         ...  ...    ...      ...  \n",
       "4756        NaN  299   Male    Asian  \n",
       "4757        NaN  299   Male    Asian  \n",
       "4758      79.02  299   Male    Asian  \n",
       "4759        NaN  299   Male    Asian  \n",
       "4760        NaN  299   Male    Asian  \n",
       "\n",
       "[4761 rows x 10 columns]"
      ]
     },
     "execution_count": 161,
     "metadata": {},
     "output_type": "execute_result"
    }
   ],
   "source": [
    "# Aggregating data into 1 dataframe\n",
    "df = pd.DataFrame()\n",
    "\n",
    "for i in demographics['id']:\n",
    "    temp = dbp.loc[dbp['id'] == i][['time', 'value']].merge(sbp.loc[sbp['id'] == i][[\n",
    "        'value', 'time']], left_on='time', right_on='time', suffixes=('_dbp', '_sbp'), how='outer')\n",
    "    temp = temp.merge(creatinine.loc[creatinine['id'] == i][['time', 'value']], left_on='time',\n",
    "                      right_on='time', how='outer').rename(columns={\"value\": \"value_creatinine\"})\n",
    "    temp = temp.merge(glucose.loc[glucose['id'] == i][['time', 'value']], left_on='time',\n",
    "                      right_on='time', how='outer').rename(columns={\"value\": \"value_glucose\"})\n",
    "    temp = temp.merge(hgb.loc[hgb['id'] == i][['time', 'value']], left_on='time',\n",
    "                      right_on='time', how='outer').rename(columns={\"value\": \"value_hgb\"})\n",
    "    temp = temp.merge(ldl.loc[ldl['id'] == i][['time', 'value']], left_on='time',\n",
    "                      right_on='time', how='outer').rename(columns={\"value\": \"value_ldl\"})\n",
    "    temp = temp.sort_values(by=['time'])\n",
    "    temp['id'] = i\n",
    "    df = df.append(temp)\n",
    "\n",
    "df = df.merge(demographics[['id', 'gender', 'race']],\n",
    "              left_on='id', right_on='id')\n",
    "\n",
    "df"
   ]
  },
  {
   "cell_type": "code",
   "execution_count": 162,
   "id": "1abe59ff",
   "metadata": {
    "ExecuteTime": {
     "end_time": "2021-09-17T03:58:04.943620Z",
     "start_time": "2021-09-17T03:58:04.877137Z"
    }
   },
   "outputs": [
    {
     "data": {
      "text/html": [
       "<div>\n",
       "<style scoped>\n",
       "    .dataframe tbody tr th:only-of-type {\n",
       "        vertical-align: middle;\n",
       "    }\n",
       "\n",
       "    .dataframe tbody tr th {\n",
       "        vertical-align: top;\n",
       "    }\n",
       "\n",
       "    .dataframe thead th {\n",
       "        text-align: right;\n",
       "    }\n",
       "</style>\n",
       "<table border=\"1\" class=\"dataframe\">\n",
       "  <thead>\n",
       "    <tr style=\"text-align: right;\">\n",
       "      <th></th>\n",
       "      <th>time</th>\n",
       "      <th>value_dbp</th>\n",
       "      <th>value_sbp</th>\n",
       "      <th>value_creatinine</th>\n",
       "      <th>value_glucose</th>\n",
       "      <th>value_hgb</th>\n",
       "      <th>value_ldl</th>\n",
       "      <th>id</th>\n",
       "    </tr>\n",
       "  </thead>\n",
       "  <tbody>\n",
       "    <tr>\n",
       "      <th>count</th>\n",
       "      <td>4761.00000</td>\n",
       "      <td>1821.000000</td>\n",
       "      <td>1809.000000</td>\n",
       "      <td>1439.000000</td>\n",
       "      <td>1556.000000</td>\n",
       "      <td>2025.000000</td>\n",
       "      <td>1261.000000</td>\n",
       "      <td>4761.000000</td>\n",
       "    </tr>\n",
       "    <tr>\n",
       "      <th>mean</th>\n",
       "      <td>462.41924</td>\n",
       "      <td>79.518583</td>\n",
       "      <td>134.155368</td>\n",
       "      <td>1.328999</td>\n",
       "      <td>6.694833</td>\n",
       "      <td>13.825185</td>\n",
       "      <td>87.558795</td>\n",
       "      <td>148.060912</td>\n",
       "    </tr>\n",
       "    <tr>\n",
       "      <th>std</th>\n",
       "      <td>334.49964</td>\n",
       "      <td>10.178676</td>\n",
       "      <td>14.765817</td>\n",
       "      <td>0.357971</td>\n",
       "      <td>1.599058</td>\n",
       "      <td>1.644946</td>\n",
       "      <td>28.156104</td>\n",
       "      <td>88.343602</td>\n",
       "    </tr>\n",
       "    <tr>\n",
       "      <th>min</th>\n",
       "      <td>0.00000</td>\n",
       "      <td>44.950000</td>\n",
       "      <td>91.990000</td>\n",
       "      <td>0.240000</td>\n",
       "      <td>2.890000</td>\n",
       "      <td>8.820000</td>\n",
       "      <td>26.100000</td>\n",
       "      <td>0.000000</td>\n",
       "    </tr>\n",
       "    <tr>\n",
       "      <th>25%</th>\n",
       "      <td>196.00000</td>\n",
       "      <td>72.830000</td>\n",
       "      <td>124.630000</td>\n",
       "      <td>1.080000</td>\n",
       "      <td>5.620000</td>\n",
       "      <td>12.670000</td>\n",
       "      <td>67.290000</td>\n",
       "      <td>70.000000</td>\n",
       "    </tr>\n",
       "    <tr>\n",
       "      <th>50%</th>\n",
       "      <td>414.00000</td>\n",
       "      <td>79.050000</td>\n",
       "      <td>133.440000</td>\n",
       "      <td>1.290000</td>\n",
       "      <td>6.360000</td>\n",
       "      <td>13.920000</td>\n",
       "      <td>83.960000</td>\n",
       "      <td>147.000000</td>\n",
       "    </tr>\n",
       "    <tr>\n",
       "      <th>75%</th>\n",
       "      <td>640.00000</td>\n",
       "      <td>86.170000</td>\n",
       "      <td>143.160000</td>\n",
       "      <td>1.530000</td>\n",
       "      <td>7.440000</td>\n",
       "      <td>14.980000</td>\n",
       "      <td>105.140000</td>\n",
       "      <td>227.000000</td>\n",
       "    </tr>\n",
       "    <tr>\n",
       "      <th>max</th>\n",
       "      <td>1429.00000</td>\n",
       "      <td>112.930000</td>\n",
       "      <td>211.090000</td>\n",
       "      <td>3.020000</td>\n",
       "      <td>16.610000</td>\n",
       "      <td>19.000000</td>\n",
       "      <td>198.590000</td>\n",
       "      <td>299.000000</td>\n",
       "    </tr>\n",
       "  </tbody>\n",
       "</table>\n",
       "</div>"
      ],
      "text/plain": [
       "             time    value_dbp    value_sbp  value_creatinine  value_glucose  \\\n",
       "count  4761.00000  1821.000000  1809.000000       1439.000000    1556.000000   \n",
       "mean    462.41924    79.518583   134.155368          1.328999       6.694833   \n",
       "std     334.49964    10.178676    14.765817          0.357971       1.599058   \n",
       "min       0.00000    44.950000    91.990000          0.240000       2.890000   \n",
       "25%     196.00000    72.830000   124.630000          1.080000       5.620000   \n",
       "50%     414.00000    79.050000   133.440000          1.290000       6.360000   \n",
       "75%     640.00000    86.170000   143.160000          1.530000       7.440000   \n",
       "max    1429.00000   112.930000   211.090000          3.020000      16.610000   \n",
       "\n",
       "         value_hgb    value_ldl           id  \n",
       "count  2025.000000  1261.000000  4761.000000  \n",
       "mean     13.825185    87.558795   148.060912  \n",
       "std       1.644946    28.156104    88.343602  \n",
       "min       8.820000    26.100000     0.000000  \n",
       "25%      12.670000    67.290000    70.000000  \n",
       "50%      13.920000    83.960000   147.000000  \n",
       "75%      14.980000   105.140000   227.000000  \n",
       "max      19.000000   198.590000   299.000000  "
      ]
     },
     "execution_count": 162,
     "metadata": {},
     "output_type": "execute_result"
    }
   ],
   "source": [
    "# Brief look at the data\n",
    "df.describe()"
   ]
  },
  {
   "cell_type": "code",
   "execution_count": 163,
   "id": "fc5f0132",
   "metadata": {
    "ExecuteTime": {
     "end_time": "2021-09-17T03:58:04.988524Z",
     "start_time": "2021-09-17T03:58:04.945467Z"
    }
   },
   "outputs": [],
   "source": [
    "# merging demographics and disease stage progression\n",
    "demo_stage = demographics.merge(\n",
    "    stage, left_on='id', right_on='id', how='outer')"
   ]
  },
  {
   "cell_type": "code",
   "execution_count": 164,
   "id": "cb28bb15",
   "metadata": {
    "ExecuteTime": {
     "end_time": "2021-09-17T03:58:05.042242Z",
     "start_time": "2021-09-17T03:58:04.989923Z"
    },
    "scrolled": true
   },
   "outputs": [
    {
     "data": {
      "text/plain": [
       "array(['atorvastatin', 'losartan', 'metformin', 'rosuvastatin',\n",
       "       'pravastatin', 'carvedilol', 'valsartan', 'metoprolol',\n",
       "       'simvastatin', 'bisoprolol', 'atenolol', 'lovastatin',\n",
       "       'olmesartan', 'irbesartan', 'canagliflozin', 'dapagliflozin',\n",
       "       'telmisartan', 'labetalol', 'nebivolol', 'pitavastatin',\n",
       "       'propranolol'], dtype=object)"
      ]
     },
     "execution_count": 164,
     "metadata": {},
     "output_type": "execute_result"
    }
   ],
   "source": [
    "# the medication proved to be most difficult to sort because of the number of medications, variations in dosage, and dates\n",
    "meds.describe()\n",
    "meds['drug'].unique()"
   ]
  },
  {
   "cell_type": "markdown",
   "id": "8683f1f2",
   "metadata": {
    "ExecuteTime": {
     "end_time": "2021-09-15T21:58:38.679763Z",
     "start_time": "2021-09-15T21:58:38.629322Z"
    }
   },
   "source": [
    "Looking at the different medications there are several major groups of medication. Statins (atorvastatin, rosuvastatin, pravastatin, simvastatin, lovastatin, pitavastatin), angiotensin receptor blocker (losartan, valsartan, olmesartan, irbesartan, telmisartan), biguanide antihyperglycemic agent (metformin), beta blocker (carvedilol, metoprolol, bisoprolol, atenolol, labeltalol, nebivolol, propranolol) and sodium-glucose cotransporter-2 (SGLT2) inhibitor (canagliflozin). Statins reduce cholestrol, angiotensin receptor blockers and beta blockers reduce blood pressure, and biguanide antihyperglycemic agent and sodium-glucose cotransporter-2 (SGLT2) inhibitor reduce blood glucose levels. Choice was made to just add the number of medications for each person as a simple initial feature engineering move. The number of medications would be a strong correlation to the number of risk factors the patient has for CKD. "
   ]
  },
  {
   "cell_type": "code",
   "execution_count": 165,
   "id": "0c5bd3ea",
   "metadata": {
    "ExecuteTime": {
     "end_time": "2021-09-17T03:58:05.093005Z",
     "start_time": "2021-09-17T03:58:05.044088Z"
    }
   },
   "outputs": [],
   "source": [
    "aggregate = pd.DataFrame()"
   ]
  },
  {
   "cell_type": "code",
   "execution_count": 166,
   "id": "f52fffc8",
   "metadata": {
    "ExecuteTime": {
     "end_time": "2021-09-17T03:58:07.494889Z",
     "start_time": "2021-09-17T03:58:05.096624Z"
    }
   },
   "outputs": [],
   "source": [
    "for i in demographics['id']:\n",
    "    dbp = df[(df['id'] == i) & (df['value_dbp'] > 85)\n",
    "             ]['value_dbp'].count() / df[(df['id'] == i)]['value_dbp'].count()\n",
    "    sbp = df[(df['id'] == i) & (df['value_sbp'] > 129)\n",
    "             ]['value_sbp'].count() / df[(df['id'] == i)]['value_sbp'].count()\n",
    "    hgb = df[(df['id'] == i) & (df['value_hgb'] < 9)\n",
    "             ]['value_hgb'].count() / df[(df['id'] == i)]['value_hgb'].count()\n",
    "    ldl = df[(df['id'] == i) & (df['value_ldl'] > 160)\n",
    "             ]['value_ldl'].count() / df[(df['id'] == i)]['value_ldl'].count()\n",
    "    glucose = df[(df['id'] == i) & ((df['value_glucose'] > 6.9) | (df['value_glucose'] < 3.8))\n",
    "                 ]['value_glucose'].count() / df[(df['id'] == i)]['value_glucose'].count()\n",
    "    medications = len(meds[meds['id'] == i]['drug'].unique())\n",
    "    if demographics[demographics['id'] == i]['gender'].item() == 'Male':\n",
    "        creatinine = df[(df['id'] == i) & (df['value_creatinine'] > 1.2)]['value_creatinine'].count(\n",
    "        ) / df[(df['id'] == i)]['value_creatinine'].count()\n",
    "    else:\n",
    "        creatinine = df[(df['id'] == i) & (df['value_creatinine'] > 1.0)]['value_creatinine'].count(\n",
    "        ) / df[(df['id'] == i)]['value_creatinine'].count()\n",
    "\n",
    "    temp = pd.DataFrame({'id': i, 'gender': demographics[demographics['id'] == i]['gender'],\n",
    "                        'dbp': dbp, 'sbp': sbp, 'hgb': hgb, 'ldl': ldl, 'glucose': glucose, 'creatinine': creatinine, 'medications': medications})\n",
    "    aggregate = aggregate.append(temp)\n",
    "\n",
    "aggregate = aggregate.merge(\n",
    "    demo_stage[['race', 'age', 'Stage_Progress', 'id']], left_on='id', right_on='id', how='inner')"
   ]
  },
  {
   "cell_type": "code",
   "execution_count": 167,
   "id": "4cd85935",
   "metadata": {
    "ExecuteTime": {
     "end_time": "2021-09-17T03:58:07.568938Z",
     "start_time": "2021-09-17T03:58:07.497447Z"
    }
   },
   "outputs": [
    {
     "data": {
      "text/html": [
       "<div>\n",
       "<style scoped>\n",
       "    .dataframe tbody tr th:only-of-type {\n",
       "        vertical-align: middle;\n",
       "    }\n",
       "\n",
       "    .dataframe tbody tr th {\n",
       "        vertical-align: top;\n",
       "    }\n",
       "\n",
       "    .dataframe thead th {\n",
       "        text-align: right;\n",
       "    }\n",
       "</style>\n",
       "<table border=\"1\" class=\"dataframe\">\n",
       "  <thead>\n",
       "    <tr style=\"text-align: right;\">\n",
       "      <th></th>\n",
       "      <th>id</th>\n",
       "      <th>gender</th>\n",
       "      <th>dbp</th>\n",
       "      <th>sbp</th>\n",
       "      <th>hgb</th>\n",
       "      <th>ldl</th>\n",
       "      <th>glucose</th>\n",
       "      <th>creatinine</th>\n",
       "      <th>medications</th>\n",
       "      <th>race</th>\n",
       "      <th>age</th>\n",
       "      <th>Stage_Progress</th>\n",
       "    </tr>\n",
       "  </thead>\n",
       "  <tbody>\n",
       "    <tr>\n",
       "      <th>0</th>\n",
       "      <td>0</td>\n",
       "      <td>Male</td>\n",
       "      <td>0.375000</td>\n",
       "      <td>0.875000</td>\n",
       "      <td>0.0</td>\n",
       "      <td>0.333333</td>\n",
       "      <td>0.333333</td>\n",
       "      <td>0.666667</td>\n",
       "      <td>3</td>\n",
       "      <td>Unknown</td>\n",
       "      <td>70</td>\n",
       "      <td>True</td>\n",
       "    </tr>\n",
       "    <tr>\n",
       "      <th>1</th>\n",
       "      <td>1</td>\n",
       "      <td>Female</td>\n",
       "      <td>0.285714</td>\n",
       "      <td>1.000000</td>\n",
       "      <td>0.0</td>\n",
       "      <td>0.000000</td>\n",
       "      <td>1.000000</td>\n",
       "      <td>1.000000</td>\n",
       "      <td>1</td>\n",
       "      <td>White</td>\n",
       "      <td>71</td>\n",
       "      <td>False</td>\n",
       "    </tr>\n",
       "    <tr>\n",
       "      <th>2</th>\n",
       "      <td>2</td>\n",
       "      <td>Female</td>\n",
       "      <td>0.750000</td>\n",
       "      <td>1.000000</td>\n",
       "      <td>0.0</td>\n",
       "      <td>0.000000</td>\n",
       "      <td>0.666667</td>\n",
       "      <td>1.000000</td>\n",
       "      <td>1</td>\n",
       "      <td>White</td>\n",
       "      <td>57</td>\n",
       "      <td>True</td>\n",
       "    </tr>\n",
       "    <tr>\n",
       "      <th>3</th>\n",
       "      <td>3</td>\n",
       "      <td>Male</td>\n",
       "      <td>0.000000</td>\n",
       "      <td>0.714286</td>\n",
       "      <td>0.0</td>\n",
       "      <td>0.000000</td>\n",
       "      <td>0.333333</td>\n",
       "      <td>0.200000</td>\n",
       "      <td>1</td>\n",
       "      <td>White</td>\n",
       "      <td>74</td>\n",
       "      <td>False</td>\n",
       "    </tr>\n",
       "    <tr>\n",
       "      <th>4</th>\n",
       "      <td>4</td>\n",
       "      <td>Female</td>\n",
       "      <td>0.857143</td>\n",
       "      <td>0.857143</td>\n",
       "      <td>0.0</td>\n",
       "      <td>0.000000</td>\n",
       "      <td>1.000000</td>\n",
       "      <td>0.833333</td>\n",
       "      <td>3</td>\n",
       "      <td>White</td>\n",
       "      <td>50</td>\n",
       "      <td>True</td>\n",
       "    </tr>\n",
       "    <tr>\n",
       "      <th>...</th>\n",
       "      <td>...</td>\n",
       "      <td>...</td>\n",
       "      <td>...</td>\n",
       "      <td>...</td>\n",
       "      <td>...</td>\n",
       "      <td>...</td>\n",
       "      <td>...</td>\n",
       "      <td>...</td>\n",
       "      <td>...</td>\n",
       "      <td>...</td>\n",
       "      <td>...</td>\n",
       "      <td>...</td>\n",
       "    </tr>\n",
       "    <tr>\n",
       "      <th>295</th>\n",
       "      <td>295</td>\n",
       "      <td>Female</td>\n",
       "      <td>0.250000</td>\n",
       "      <td>0.875000</td>\n",
       "      <td>0.0</td>\n",
       "      <td>0.000000</td>\n",
       "      <td>0.142857</td>\n",
       "      <td>1.000000</td>\n",
       "      <td>0</td>\n",
       "      <td>White</td>\n",
       "      <td>79</td>\n",
       "      <td>True</td>\n",
       "    </tr>\n",
       "    <tr>\n",
       "      <th>296</th>\n",
       "      <td>296</td>\n",
       "      <td>Female</td>\n",
       "      <td>0.714286</td>\n",
       "      <td>0.571429</td>\n",
       "      <td>0.0</td>\n",
       "      <td>0.000000</td>\n",
       "      <td>1.000000</td>\n",
       "      <td>1.000000</td>\n",
       "      <td>2</td>\n",
       "      <td>White</td>\n",
       "      <td>66</td>\n",
       "      <td>False</td>\n",
       "    </tr>\n",
       "    <tr>\n",
       "      <th>297</th>\n",
       "      <td>297</td>\n",
       "      <td>Male</td>\n",
       "      <td>0.000000</td>\n",
       "      <td>0.375000</td>\n",
       "      <td>0.0</td>\n",
       "      <td>0.000000</td>\n",
       "      <td>1.000000</td>\n",
       "      <td>0.666667</td>\n",
       "      <td>5</td>\n",
       "      <td>Unknown</td>\n",
       "      <td>80</td>\n",
       "      <td>True</td>\n",
       "    </tr>\n",
       "    <tr>\n",
       "      <th>298</th>\n",
       "      <td>298</td>\n",
       "      <td>Female</td>\n",
       "      <td>0.000000</td>\n",
       "      <td>0.500000</td>\n",
       "      <td>0.0</td>\n",
       "      <td>0.000000</td>\n",
       "      <td>0.000000</td>\n",
       "      <td>0.600000</td>\n",
       "      <td>2</td>\n",
       "      <td>Asian</td>\n",
       "      <td>72</td>\n",
       "      <td>False</td>\n",
       "    </tr>\n",
       "    <tr>\n",
       "      <th>299</th>\n",
       "      <td>299</td>\n",
       "      <td>Male</td>\n",
       "      <td>0.142857</td>\n",
       "      <td>0.285714</td>\n",
       "      <td>0.0</td>\n",
       "      <td>0.000000</td>\n",
       "      <td>0.000000</td>\n",
       "      <td>0.000000</td>\n",
       "      <td>2</td>\n",
       "      <td>Asian</td>\n",
       "      <td>84</td>\n",
       "      <td>False</td>\n",
       "    </tr>\n",
       "  </tbody>\n",
       "</table>\n",
       "<p>300 rows × 12 columns</p>\n",
       "</div>"
      ],
      "text/plain": [
       "      id  gender       dbp       sbp  hgb       ldl   glucose  creatinine  \\\n",
       "0      0    Male  0.375000  0.875000  0.0  0.333333  0.333333    0.666667   \n",
       "1      1  Female  0.285714  1.000000  0.0  0.000000  1.000000    1.000000   \n",
       "2      2  Female  0.750000  1.000000  0.0  0.000000  0.666667    1.000000   \n",
       "3      3    Male  0.000000  0.714286  0.0  0.000000  0.333333    0.200000   \n",
       "4      4  Female  0.857143  0.857143  0.0  0.000000  1.000000    0.833333   \n",
       "..   ...     ...       ...       ...  ...       ...       ...         ...   \n",
       "295  295  Female  0.250000  0.875000  0.0  0.000000  0.142857    1.000000   \n",
       "296  296  Female  0.714286  0.571429  0.0  0.000000  1.000000    1.000000   \n",
       "297  297    Male  0.000000  0.375000  0.0  0.000000  1.000000    0.666667   \n",
       "298  298  Female  0.000000  0.500000  0.0  0.000000  0.000000    0.600000   \n",
       "299  299    Male  0.142857  0.285714  0.0  0.000000  0.000000    0.000000   \n",
       "\n",
       "     medications     race  age  Stage_Progress  \n",
       "0              3  Unknown   70            True  \n",
       "1              1    White   71           False  \n",
       "2              1    White   57            True  \n",
       "3              1    White   74           False  \n",
       "4              3    White   50            True  \n",
       "..           ...      ...  ...             ...  \n",
       "295            0    White   79            True  \n",
       "296            2    White   66           False  \n",
       "297            5  Unknown   80            True  \n",
       "298            2    Asian   72           False  \n",
       "299            2    Asian   84           False  \n",
       "\n",
       "[300 rows x 12 columns]"
      ]
     },
     "execution_count": 167,
     "metadata": {},
     "output_type": "execute_result"
    }
   ],
   "source": [
    "# looking at some calculated factors in ckd\n",
    "aggregate.describe()\n",
    "aggregate"
   ]
  },
  {
   "cell_type": "markdown",
   "id": "0291e718",
   "metadata": {
    "ExecuteTime": {
     "end_time": "2021-09-15T02:03:58.664819Z",
     "start_time": "2021-09-15T02:03:58.608430Z"
    }
   },
   "source": [
    "## Data Manipulation for Machine Learning"
   ]
  },
  {
   "cell_type": "code",
   "execution_count": 168,
   "id": "4ee06df8",
   "metadata": {
    "ExecuteTime": {
     "end_time": "2021-09-17T03:58:07.617075Z",
     "start_time": "2021-09-17T03:58:07.570832Z"
    }
   },
   "outputs": [
    {
     "data": {
      "text/plain": [
       "array([[0, 'Male', 0.375, ..., 'Unknown', 70, True],\n",
       "       [1, 'Female', 0.2857142857142857, ..., 'White', 71, False],\n",
       "       [2, 'Female', 0.75, ..., 'White', 57, True],\n",
       "       ...,\n",
       "       [297, 'Male', 0.0, ..., 'Unknown', 80, True],\n",
       "       [298, 'Female', 0.0, ..., 'Asian', 72, False],\n",
       "       [299, 'Male', 0.14285714285714285, ..., 'Asian', 84, False]],\n",
       "      dtype=object)"
      ]
     },
     "execution_count": 168,
     "metadata": {},
     "output_type": "execute_result"
    }
   ],
   "source": [
    "# Dealing with categorical data\n",
    "# Checking gender\n",
    "data_array = np.array(aggregate)\n",
    "data_array"
   ]
  },
  {
   "cell_type": "code",
   "execution_count": 169,
   "id": "04249f9c",
   "metadata": {
    "ExecuteTime": {
     "end_time": "2021-09-17T03:58:07.664335Z",
     "start_time": "2021-09-17T03:58:07.618654Z"
    }
   },
   "outputs": [
    {
     "data": {
      "text/plain": [
       "{'categories': 'auto',\n",
       " 'dtype': numpy.float64,\n",
       " 'handle_unknown': 'error',\n",
       " 'unknown_value': None}"
      ]
     },
     "execution_count": 169,
     "metadata": {},
     "output_type": "execute_result"
    }
   ],
   "source": [
    "# Changing gender from categorical to ordinal\n",
    "enc = preprocessing.OrdinalEncoder()\n",
    "enc.fit(data_array[:, 1].reshape(-1, 1))\n",
    "data_array[:, 1] = enc.transform(\n",
    "    data_array[:, 1].reshape(-1, 1)).reshape(1, -1)\n",
    "data_array\n",
    "enc.get_params()"
   ]
  },
  {
   "cell_type": "code",
   "execution_count": 170,
   "id": "f2cdba09",
   "metadata": {
    "ExecuteTime": {
     "end_time": "2021-09-17T03:58:07.710944Z",
     "start_time": "2021-09-17T03:58:07.665963Z"
    }
   },
   "outputs": [
    {
     "data": {
      "text/plain": [
       "{'categories': 'auto',\n",
       " 'dtype': numpy.float64,\n",
       " 'handle_unknown': 'error',\n",
       " 'unknown_value': None}"
      ]
     },
     "execution_count": 170,
     "metadata": {},
     "output_type": "execute_result"
    }
   ],
   "source": [
    "# Changing stage progress from categorical to ordinal\n",
    "enc.fit(data_array[:, -1].reshape(-1, 1))\n",
    "data_array[:, -\n",
    "           1] = enc.transform(data_array[:, -1].reshape(-1, 1)).reshape(1, -1)\n",
    "data_array\n",
    "enc.get_params()"
   ]
  },
  {
   "cell_type": "code",
   "execution_count": 171,
   "id": "a0c570b7",
   "metadata": {
    "ExecuteTime": {
     "end_time": "2021-09-17T03:58:07.764739Z",
     "start_time": "2021-09-17T03:58:07.712930Z"
    }
   },
   "outputs": [
    {
     "data": {
      "text/plain": [
       "array(['x0_Asian', 'x0_Black', 'x0_Hispanic', 'x0_White', 'x0_nan'],\n",
       "      dtype=object)"
      ]
     },
     "execution_count": 171,
     "metadata": {},
     "output_type": "execute_result"
    }
   ],
   "source": [
    "# Do one hot encoding for race (categorical data)\n",
    "# Change \"Unknown\" into np.nan\n",
    "data_array[:, -3] = np.where(data_array[:, -3] ==\n",
    "                             'Unknown', np.nan, data_array[:, -3])\n",
    "# Do one hot encoding for race\n",
    "enc2 = preprocessing.OneHotEncoder()\n",
    "enc2.fit(data_array[:, -3].reshape(-1, 1))\n",
    "race = enc2.transform(data_array[:, -3].reshape(-1, 1)).toarray()\n",
    "enc2.get_feature_names()"
   ]
  },
  {
   "cell_type": "code",
   "execution_count": 172,
   "id": "61e0220c",
   "metadata": {
    "ExecuteTime": {
     "end_time": "2021-09-17T03:58:07.814815Z",
     "start_time": "2021-09-17T03:58:07.766861Z"
    }
   },
   "outputs": [],
   "source": [
    "# Removing original race independent variable and replacing it with one hot encoding array\n",
    "data_array_final = np.delete(data_array, -3, 1)\n",
    "data_array_final = np.insert(data_array_final, [-2], race, 1)\n",
    "# Removing ID from array\n",
    "data_array_final = data_array_final[:, 1:]"
   ]
  },
  {
   "cell_type": "code",
   "execution_count": 173,
   "id": "1977ce34",
   "metadata": {
    "ExecuteTime": {
     "end_time": "2021-09-17T03:58:07.865589Z",
     "start_time": "2021-09-17T03:58:07.816701Z"
    }
   },
   "outputs": [
    {
     "data": {
      "text/plain": [
       "array([[1.0, 0.375, 0.875, ..., 1.0, 70, 1.0],\n",
       "       [0.0, 0.2857142857142857, 1.0, ..., 0.0, 71, 0.0],\n",
       "       [0.0, 0.75, 1.0, ..., 0.0, 57, 1.0],\n",
       "       ...,\n",
       "       [1.0, 0.0, 0.375, ..., 1.0, 80, 1.0],\n",
       "       [0.0, 0.0, 0.5, ..., 0.0, 72, 0.0],\n",
       "       [1.0, 0.14285714285714285, 0.2857142857142857, ..., 0.0, 84, 0.0]],\n",
       "      dtype=object)"
      ]
     },
     "execution_count": 173,
     "metadata": {},
     "output_type": "execute_result"
    }
   ],
   "source": [
    "data_array_final"
   ]
  },
  {
   "cell_type": "code",
   "execution_count": 174,
   "id": "32d75cf5",
   "metadata": {
    "ExecuteTime": {
     "end_time": "2021-09-17T03:58:07.915213Z",
     "start_time": "2021-09-17T03:58:07.867478Z"
    }
   },
   "outputs": [],
   "source": [
    "# get 'column names for array'\n",
    "col_names = ['gender',\n",
    "             'dbp',\n",
    "             'sbp',\n",
    "             'hgb',\n",
    "             'ldl',\n",
    "             'glucose',\n",
    "             'creatinine',\n",
    "             'medications',\n",
    "             'x0_Asian', \n",
    "             'x0_Black', \n",
    "             'x0_Hispanic', \n",
    "             'x0_White', \n",
    "             'x0_nan',\n",
    "             'age']"
   ]
  },
  {
   "cell_type": "markdown",
   "id": "a75cf326",
   "metadata": {
    "ExecuteTime": {
     "end_time": "2021-09-14T21:57:50.345714Z",
     "start_time": "2021-09-14T21:57:50.307723Z"
    }
   },
   "source": [
    "# Basic Data Visualization of the Demographics\n",
    "Looking at basic demographics of the patients"
   ]
  },
  {
   "cell_type": "code",
   "execution_count": 175,
   "id": "44530a25",
   "metadata": {
    "ExecuteTime": {
     "end_time": "2021-09-17T03:58:07.988699Z",
     "start_time": "2021-09-17T03:58:07.917789Z"
    }
   },
   "outputs": [
    {
     "data": {
      "text/html": [
       "\n",
       "<div id=\"altair-viz-8297a4770db3489a9ef415b273402dbe\"></div>\n",
       "<script type=\"text/javascript\">\n",
       "  (function(spec, embedOpt){\n",
       "    let outputDiv = document.currentScript.previousElementSibling;\n",
       "    if (outputDiv.id !== \"altair-viz-8297a4770db3489a9ef415b273402dbe\") {\n",
       "      outputDiv = document.getElementById(\"altair-viz-8297a4770db3489a9ef415b273402dbe\");\n",
       "    }\n",
       "    const paths = {\n",
       "      \"vega\": \"https://cdn.jsdelivr.net/npm//vega@5?noext\",\n",
       "      \"vega-lib\": \"https://cdn.jsdelivr.net/npm//vega-lib?noext\",\n",
       "      \"vega-lite\": \"https://cdn.jsdelivr.net/npm//vega-lite@4.8.1?noext\",\n",
       "      \"vega-embed\": \"https://cdn.jsdelivr.net/npm//vega-embed@6?noext\",\n",
       "    };\n",
       "\n",
       "    function loadScript(lib) {\n",
       "      return new Promise(function(resolve, reject) {\n",
       "        var s = document.createElement('script');\n",
       "        s.src = paths[lib];\n",
       "        s.async = true;\n",
       "        s.onload = () => resolve(paths[lib]);\n",
       "        s.onerror = () => reject(`Error loading script: ${paths[lib]}`);\n",
       "        document.getElementsByTagName(\"head\")[0].appendChild(s);\n",
       "      });\n",
       "    }\n",
       "\n",
       "    function showError(err) {\n",
       "      outputDiv.innerHTML = `<div class=\"error\" style=\"color:red;\">${err}</div>`;\n",
       "      throw err;\n",
       "    }\n",
       "\n",
       "    function displayChart(vegaEmbed) {\n",
       "      vegaEmbed(outputDiv, spec, embedOpt)\n",
       "        .catch(err => showError(`Javascript Error: ${err.message}<br>This usually means there's a typo in your chart specification. See the javascript console for the full traceback.`));\n",
       "    }\n",
       "\n",
       "    if(typeof define === \"function\" && define.amd) {\n",
       "      requirejs.config({paths});\n",
       "      require([\"vega-embed\"], displayChart, err => showError(`Error loading script: ${err.message}`));\n",
       "    } else if (typeof vegaEmbed === \"function\") {\n",
       "      displayChart(vegaEmbed);\n",
       "    } else {\n",
       "      loadScript(\"vega\")\n",
       "        .then(() => loadScript(\"vega-lite\"))\n",
       "        .then(() => loadScript(\"vega-embed\"))\n",
       "        .catch(showError)\n",
       "        .then(() => displayChart(vegaEmbed));\n",
       "    }\n",
       "  })({\"config\": {\"view\": {\"continuousWidth\": 400, \"continuousHeight\": 300}}, \"data\": {\"name\": \"data-c71907d78451d794be0e8f6f7084c00b\"}, \"mark\": \"bar\", \"encoding\": {\"color\": {\"type\": \"nominal\", \"field\": \"Stage_Progress\"}, \"column\": {\"type\": \"nominal\", \"field\": \"race\"}, \"x\": {\"type\": \"quantitative\", \"bin\": true, \"field\": \"age\"}, \"y\": {\"type\": \"quantitative\", \"aggregate\": \"count\", \"title\": \"Number of Patients\"}}, \"height\": 120, \"width\": 150, \"$schema\": \"https://vega.github.io/schema/vega-lite/v4.8.1.json\", \"datasets\": {\"data-c71907d78451d794be0e8f6f7084c00b\": [{\"id\": 0, \"race\": \"Unknown\", \"gender\": \"Male\", \"age\": 70, \"Stage_Progress\": true}, {\"id\": 1, \"race\": \"White\", \"gender\": \"Female\", \"age\": 71, \"Stage_Progress\": false}, {\"id\": 2, \"race\": \"White\", \"gender\": \"Female\", \"age\": 57, \"Stage_Progress\": true}, {\"id\": 3, \"race\": \"White\", \"gender\": \"Male\", \"age\": 74, \"Stage_Progress\": false}, {\"id\": 4, \"race\": \"White\", \"gender\": \"Female\", \"age\": 50, \"Stage_Progress\": true}, {\"id\": 5, \"race\": \"Black\", \"gender\": \"Male\", \"age\": 73, \"Stage_Progress\": false}, {\"id\": 6, \"race\": \"White\", \"gender\": \"Female\", \"age\": 60, \"Stage_Progress\": false}, {\"id\": 7, \"race\": \"Asian\", \"gender\": \"Female\", \"age\": 62, \"Stage_Progress\": false}, {\"id\": 8, \"race\": \"White\", \"gender\": \"Female\", \"age\": 68, \"Stage_Progress\": true}, {\"id\": 9, \"race\": \"White\", \"gender\": \"Female\", \"age\": 80, \"Stage_Progress\": false}, {\"id\": 10, \"race\": \"White\", \"gender\": \"Male\", \"age\": 66, \"Stage_Progress\": true}, {\"id\": 11, \"race\": \"White\", \"gender\": \"Female\", \"age\": 71, \"Stage_Progress\": true}, {\"id\": 12, \"race\": \"White\", \"gender\": \"Female\", \"age\": 80, \"Stage_Progress\": false}, {\"id\": 13, \"race\": \"White\", \"gender\": \"Female\", \"age\": 67, \"Stage_Progress\": false}, {\"id\": 14, \"race\": \"White\", \"gender\": \"Female\", \"age\": 81, \"Stage_Progress\": false}, {\"id\": 15, \"race\": \"White\", \"gender\": \"Male\", \"age\": 84, \"Stage_Progress\": true}, {\"id\": 16, \"race\": \"White\", \"gender\": \"Female\", \"age\": 80, \"Stage_Progress\": false}, {\"id\": 17, \"race\": \"Black\", \"gender\": \"Female\", \"age\": 79, \"Stage_Progress\": true}, {\"id\": 18, \"race\": \"White\", \"gender\": \"Female\", \"age\": 67, \"Stage_Progress\": true}, {\"id\": 19, \"race\": \"White\", \"gender\": \"Male\", \"age\": 64, \"Stage_Progress\": true}, {\"id\": 20, \"race\": \"Hispanic\", \"gender\": \"Female\", \"age\": 76, \"Stage_Progress\": false}, {\"id\": 21, \"race\": \"White\", \"gender\": \"Female\", \"age\": 64, \"Stage_Progress\": false}, {\"id\": 22, \"race\": \"White\", \"gender\": \"Male\", \"age\": 70, \"Stage_Progress\": false}, {\"id\": 23, \"race\": \"White\", \"gender\": \"Female\", \"age\": 66, \"Stage_Progress\": false}, {\"id\": 24, \"race\": \"White\", \"gender\": \"Male\", \"age\": 73, \"Stage_Progress\": false}, {\"id\": 25, \"race\": \"White\", \"gender\": \"Female\", \"age\": 63, \"Stage_Progress\": true}, {\"id\": 26, \"race\": \"White\", \"gender\": \"Female\", \"age\": 46, \"Stage_Progress\": false}, {\"id\": 27, \"race\": \"White\", \"gender\": \"Male\", \"age\": 78, \"Stage_Progress\": true}, {\"id\": 28, \"race\": \"White\", \"gender\": \"Male\", \"age\": 81, \"Stage_Progress\": false}, {\"id\": 29, \"race\": \"Hispanic\", \"gender\": \"Female\", \"age\": 73, \"Stage_Progress\": false}, {\"id\": 30, \"race\": \"Unknown\", \"gender\": \"Female\", \"age\": 84, \"Stage_Progress\": true}, {\"id\": 31, \"race\": \"White\", \"gender\": \"Female\", \"age\": 64, \"Stage_Progress\": true}, {\"id\": 32, \"race\": \"Black\", \"gender\": \"Male\", \"age\": 71, \"Stage_Progress\": true}, {\"id\": 33, \"race\": \"White\", \"gender\": \"Female\", \"age\": 80, \"Stage_Progress\": true}, {\"id\": 34, \"race\": \"White\", \"gender\": \"Female\", \"age\": 85, \"Stage_Progress\": false}, {\"id\": 35, \"race\": \"White\", \"gender\": \"Female\", \"age\": 74, \"Stage_Progress\": false}, {\"id\": 36, \"race\": \"White\", \"gender\": \"Male\", \"age\": 75, \"Stage_Progress\": false}, {\"id\": 37, \"race\": \"White\", \"gender\": \"Female\", \"age\": 74, \"Stage_Progress\": false}, {\"id\": 38, \"race\": \"Asian\", \"gender\": \"Female\", \"age\": 59, \"Stage_Progress\": false}, {\"id\": 39, \"race\": \"Black\", \"gender\": \"Male\", \"age\": 58, \"Stage_Progress\": true}, {\"id\": 40, \"race\": \"White\", \"gender\": \"Female\", \"age\": 55, \"Stage_Progress\": false}, {\"id\": 41, \"race\": \"White\", \"gender\": \"Female\", \"age\": 71, \"Stage_Progress\": false}, {\"id\": 42, \"race\": \"White\", \"gender\": \"Male\", \"age\": 74, \"Stage_Progress\": true}, {\"id\": 43, \"race\": \"White\", \"gender\": \"Female\", \"age\": 69, \"Stage_Progress\": true}, {\"id\": 44, \"race\": \"White\", \"gender\": \"Female\", \"age\": 76, \"Stage_Progress\": true}, {\"id\": 45, \"race\": \"Asian\", \"gender\": \"Female\", \"age\": 70, \"Stage_Progress\": true}, {\"id\": 46, \"race\": \"Black\", \"gender\": \"Female\", \"age\": 55, \"Stage_Progress\": false}, {\"id\": 47, \"race\": \"White\", \"gender\": \"Male\", \"age\": 76, \"Stage_Progress\": false}, {\"id\": 48, \"race\": \"White\", \"gender\": \"Female\", \"age\": 77, \"Stage_Progress\": true}, {\"id\": 49, \"race\": \"White\", \"gender\": \"Male\", \"age\": 66, \"Stage_Progress\": false}, {\"id\": 50, \"race\": \"White\", \"gender\": \"Male\", \"age\": 73, \"Stage_Progress\": true}, {\"id\": 51, \"race\": \"Black\", \"gender\": \"Female\", \"age\": 79, \"Stage_Progress\": false}, {\"id\": 52, \"race\": \"White\", \"gender\": \"Female\", \"age\": 60, \"Stage_Progress\": false}, {\"id\": 53, \"race\": \"White\", \"gender\": \"Male\", \"age\": 79, \"Stage_Progress\": false}, {\"id\": 54, \"race\": \"White\", \"gender\": \"Male\", \"age\": 80, \"Stage_Progress\": false}, {\"id\": 55, \"race\": \"White\", \"gender\": \"Male\", \"age\": 46, \"Stage_Progress\": false}, {\"id\": 56, \"race\": \"White\", \"gender\": \"Female\", \"age\": 69, \"Stage_Progress\": false}, {\"id\": 57, \"race\": \"White\", \"gender\": \"Male\", \"age\": 67, \"Stage_Progress\": true}, {\"id\": 58, \"race\": \"White\", \"gender\": \"Male\", \"age\": 79, \"Stage_Progress\": true}, {\"id\": 59, \"race\": \"White\", \"gender\": \"Male\", \"age\": 59, \"Stage_Progress\": false}, {\"id\": 60, \"race\": \"White\", \"gender\": \"Male\", \"age\": 73, \"Stage_Progress\": false}, {\"id\": 61, \"race\": \"Unknown\", \"gender\": \"Female\", \"age\": 62, \"Stage_Progress\": false}, {\"id\": 62, \"race\": \"White\", \"gender\": \"Male\", \"age\": 82, \"Stage_Progress\": false}, {\"id\": 63, \"race\": \"White\", \"gender\": \"Female\", \"age\": 57, \"Stage_Progress\": false}, {\"id\": 64, \"race\": \"White\", \"gender\": \"Male\", \"age\": 82, \"Stage_Progress\": false}, {\"id\": 65, \"race\": \"White\", \"gender\": \"Female\", \"age\": 54, \"Stage_Progress\": true}, {\"id\": 66, \"race\": \"White\", \"gender\": \"Male\", \"age\": 79, \"Stage_Progress\": false}, {\"id\": 67, \"race\": \"White\", \"gender\": \"Female\", \"age\": 72, \"Stage_Progress\": false}, {\"id\": 68, \"race\": \"White\", \"gender\": \"Female\", \"age\": 50, \"Stage_Progress\": false}, {\"id\": 69, \"race\": \"Unknown\", \"gender\": \"Female\", \"age\": 78, \"Stage_Progress\": false}, {\"id\": 70, \"race\": \"White\", \"gender\": \"Male\", \"age\": 79, \"Stage_Progress\": true}, {\"id\": 71, \"race\": \"White\", \"gender\": \"Female\", \"age\": 84, \"Stage_Progress\": false}, {\"id\": 72, \"race\": \"White\", \"gender\": \"Male\", \"age\": 81, \"Stage_Progress\": true}, {\"id\": 73, \"race\": \"White\", \"gender\": \"Female\", \"age\": 61, \"Stage_Progress\": false}, {\"id\": 74, \"race\": \"Asian\", \"gender\": \"Female\", \"age\": 68, \"Stage_Progress\": true}, {\"id\": 75, \"race\": \"White\", \"gender\": \"Female\", \"age\": 84, \"Stage_Progress\": false}, {\"id\": 76, \"race\": \"Hispanic\", \"gender\": \"Female\", \"age\": 71, \"Stage_Progress\": false}, {\"id\": 77, \"race\": \"Unknown\", \"gender\": \"Female\", \"age\": 81, \"Stage_Progress\": false}, {\"id\": 78, \"race\": \"White\", \"gender\": \"Male\", \"age\": 82, \"Stage_Progress\": false}, {\"id\": 79, \"race\": \"White\", \"gender\": \"Male\", \"age\": 76, \"Stage_Progress\": false}, {\"id\": 80, \"race\": \"White\", \"gender\": \"Female\", \"age\": 77, \"Stage_Progress\": false}, {\"id\": 81, \"race\": \"White\", \"gender\": \"Male\", \"age\": 63, \"Stage_Progress\": true}, {\"id\": 82, \"race\": \"White\", \"gender\": \"Male\", \"age\": 83, \"Stage_Progress\": false}, {\"id\": 83, \"race\": \"White\", \"gender\": \"Male\", \"age\": 49, \"Stage_Progress\": false}, {\"id\": 84, \"race\": \"Unknown\", \"gender\": \"Female\", \"age\": 65, \"Stage_Progress\": false}, {\"id\": 85, \"race\": \"Hispanic\", \"gender\": \"Male\", \"age\": 58, \"Stage_Progress\": true}, {\"id\": 86, \"race\": \"White\", \"gender\": \"Male\", \"age\": 48, \"Stage_Progress\": true}, {\"id\": 87, \"race\": \"White\", \"gender\": \"Female\", \"age\": 84, \"Stage_Progress\": true}, {\"id\": 88, \"race\": \"Unknown\", \"gender\": \"Male\", \"age\": 66, \"Stage_Progress\": true}, {\"id\": 89, \"race\": \"White\", \"gender\": \"Female\", \"age\": 77, \"Stage_Progress\": true}, {\"id\": 90, \"race\": \"White\", \"gender\": \"Male\", \"age\": 80, \"Stage_Progress\": false}, {\"id\": 91, \"race\": \"White\", \"gender\": \"Female\", \"age\": 61, \"Stage_Progress\": false}, {\"id\": 92, \"race\": \"White\", \"gender\": \"Female\", \"age\": 67, \"Stage_Progress\": false}, {\"id\": 93, \"race\": \"White\", \"gender\": \"Male\", \"age\": 74, \"Stage_Progress\": false}, {\"id\": 94, \"race\": \"Unknown\", \"gender\": \"Female\", \"age\": 69, \"Stage_Progress\": false}, {\"id\": 95, \"race\": \"White\", \"gender\": \"Female\", \"age\": 65, \"Stage_Progress\": false}, {\"id\": 96, \"race\": \"Unknown\", \"gender\": \"Female\", \"age\": 71, \"Stage_Progress\": false}, {\"id\": 97, \"race\": \"White\", \"gender\": \"Male\", \"age\": 59, \"Stage_Progress\": true}, {\"id\": 98, \"race\": \"White\", \"gender\": \"Female\", \"age\": 75, \"Stage_Progress\": false}, {\"id\": 99, \"race\": \"Black\", \"gender\": \"Female\", \"age\": 73, \"Stage_Progress\": false}, {\"id\": 100, \"race\": \"White\", \"gender\": \"Female\", \"age\": 68, \"Stage_Progress\": false}, {\"id\": 101, \"race\": \"White\", \"gender\": \"Female\", \"age\": 65, \"Stage_Progress\": true}, {\"id\": 102, \"race\": \"White\", \"gender\": \"Female\", \"age\": 85, \"Stage_Progress\": false}, {\"id\": 103, \"race\": \"White\", \"gender\": \"Female\", \"age\": 84, \"Stage_Progress\": true}, {\"id\": 104, \"race\": \"White\", \"gender\": \"Male\", \"age\": 57, \"Stage_Progress\": true}, {\"id\": 105, \"race\": \"White\", \"gender\": \"Male\", \"age\": 68, \"Stage_Progress\": false}, {\"id\": 106, \"race\": \"Asian\", \"gender\": \"Male\", \"age\": 52, \"Stage_Progress\": true}, {\"id\": 107, \"race\": \"Black\", \"gender\": \"Male\", \"age\": 78, \"Stage_Progress\": false}, {\"id\": 108, \"race\": \"Black\", \"gender\": \"Male\", \"age\": 82, \"Stage_Progress\": false}, {\"id\": 109, \"race\": \"White\", \"gender\": \"Female\", \"age\": 68, \"Stage_Progress\": true}, {\"id\": 110, \"race\": \"Unknown\", \"gender\": \"Male\", \"age\": 85, \"Stage_Progress\": true}, {\"id\": 111, \"race\": \"Asian\", \"gender\": \"Female\", \"age\": 64, \"Stage_Progress\": false}, {\"id\": 112, \"race\": \"Unknown\", \"gender\": \"Female\", \"age\": 60, \"Stage_Progress\": false}, {\"id\": 113, \"race\": \"White\", \"gender\": \"Male\", \"age\": 80, \"Stage_Progress\": true}, {\"id\": 114, \"race\": \"White\", \"gender\": \"Female\", \"age\": 58, \"Stage_Progress\": false}, {\"id\": 115, \"race\": \"Unknown\", \"gender\": \"Female\", \"age\": 77, \"Stage_Progress\": false}, {\"id\": 116, \"race\": \"White\", \"gender\": \"Female\", \"age\": 59, \"Stage_Progress\": false}, {\"id\": 117, \"race\": \"White\", \"gender\": \"Female\", \"age\": 73, \"Stage_Progress\": true}, {\"id\": 118, \"race\": \"Hispanic\", \"gender\": \"Female\", \"age\": 61, \"Stage_Progress\": true}, {\"id\": 119, \"race\": \"White\", \"gender\": \"Female\", \"age\": 77, \"Stage_Progress\": true}, {\"id\": 120, \"race\": \"White\", \"gender\": \"Female\", \"age\": 72, \"Stage_Progress\": false}, {\"id\": 121, \"race\": \"White\", \"gender\": \"Male\", \"age\": 76, \"Stage_Progress\": false}, {\"id\": 122, \"race\": \"White\", \"gender\": \"Female\", \"age\": 66, \"Stage_Progress\": true}, {\"id\": 123, \"race\": \"White\", \"gender\": \"Female\", \"age\": 69, \"Stage_Progress\": false}, {\"id\": 124, \"race\": \"White\", \"gender\": \"Female\", \"age\": 67, \"Stage_Progress\": false}, {\"id\": 125, \"race\": \"White\", \"gender\": \"Female\", \"age\": 78, \"Stage_Progress\": false}, {\"id\": 126, \"race\": \"White\", \"gender\": \"Male\", \"age\": 74, \"Stage_Progress\": false}, {\"id\": 127, \"race\": \"White\", \"gender\": \"Female\", \"age\": 55, \"Stage_Progress\": true}, {\"id\": 128, \"race\": \"White\", \"gender\": \"Male\", \"age\": 78, \"Stage_Progress\": false}, {\"id\": 129, \"race\": \"Black\", \"gender\": \"Male\", \"age\": 72, \"Stage_Progress\": true}, {\"id\": 130, \"race\": \"White\", \"gender\": \"Male\", \"age\": 61, \"Stage_Progress\": true}, {\"id\": 131, \"race\": \"White\", \"gender\": \"Male\", \"age\": 85, \"Stage_Progress\": false}, {\"id\": 132, \"race\": \"Black\", \"gender\": \"Male\", \"age\": 62, \"Stage_Progress\": false}, {\"id\": 133, \"race\": \"White\", \"gender\": \"Male\", \"age\": 77, \"Stage_Progress\": false}, {\"id\": 134, \"race\": \"White\", \"gender\": \"Female\", \"age\": 57, \"Stage_Progress\": false}, {\"id\": 135, \"race\": \"White\", \"gender\": \"Male\", \"age\": 84, \"Stage_Progress\": false}, {\"id\": 136, \"race\": \"Asian\", \"gender\": \"Female\", \"age\": 65, \"Stage_Progress\": false}, {\"id\": 137, \"race\": \"Hispanic\", \"gender\": \"Male\", \"age\": 80, \"Stage_Progress\": false}, {\"id\": 138, \"race\": \"White\", \"gender\": \"Female\", \"age\": 70, \"Stage_Progress\": false}, {\"id\": 139, \"race\": \"White\", \"gender\": \"Female\", \"age\": 79, \"Stage_Progress\": true}, {\"id\": 140, \"race\": \"Unknown\", \"gender\": \"Female\", \"age\": 75, \"Stage_Progress\": false}, {\"id\": 141, \"race\": \"White\", \"gender\": \"Male\", \"age\": 79, \"Stage_Progress\": false}, {\"id\": 142, \"race\": \"White\", \"gender\": \"Male\", \"age\": 84, \"Stage_Progress\": true}, {\"id\": 143, \"race\": \"White\", \"gender\": \"Female\", \"age\": 67, \"Stage_Progress\": false}, {\"id\": 144, \"race\": \"White\", \"gender\": \"Female\", \"age\": 61, \"Stage_Progress\": false}, {\"id\": 145, \"race\": \"White\", \"gender\": \"Male\", \"age\": 64, \"Stage_Progress\": true}, {\"id\": 146, \"race\": \"White\", \"gender\": \"Male\", \"age\": 74, \"Stage_Progress\": true}, {\"id\": 147, \"race\": \"Black\", \"gender\": \"Female\", \"age\": 68, \"Stage_Progress\": false}, {\"id\": 148, \"race\": \"White\", \"gender\": \"Female\", \"age\": 55, \"Stage_Progress\": false}, {\"id\": 149, \"race\": \"White\", \"gender\": \"Female\", \"age\": 82, \"Stage_Progress\": false}, {\"id\": 150, \"race\": \"White\", \"gender\": \"Female\", \"age\": 64, \"Stage_Progress\": false}, {\"id\": 151, \"race\": \"White\", \"gender\": \"Male\", \"age\": 76, \"Stage_Progress\": false}, {\"id\": 152, \"race\": \"Black\", \"gender\": \"Female\", \"age\": 74, \"Stage_Progress\": false}, {\"id\": 153, \"race\": \"White\", \"gender\": \"Female\", \"age\": 77, \"Stage_Progress\": false}, {\"id\": 154, \"race\": \"White\", \"gender\": \"Female\", \"age\": 70, \"Stage_Progress\": true}, {\"id\": 155, \"race\": \"White\", \"gender\": \"Male\", \"age\": 71, \"Stage_Progress\": true}, {\"id\": 156, \"race\": \"White\", \"gender\": \"Female\", \"age\": 72, \"Stage_Progress\": false}, {\"id\": 157, \"race\": \"White\", \"gender\": \"Female\", \"age\": 60, \"Stage_Progress\": false}, {\"id\": 158, \"race\": \"Black\", \"gender\": \"Male\", \"age\": 72, \"Stage_Progress\": false}, {\"id\": 159, \"race\": \"White\", \"gender\": \"Male\", \"age\": 64, \"Stage_Progress\": true}, {\"id\": 160, \"race\": \"White\", \"gender\": \"Female\", \"age\": 70, \"Stage_Progress\": true}, {\"id\": 161, \"race\": \"Unknown\", \"gender\": \"Male\", \"age\": 67, \"Stage_Progress\": false}, {\"id\": 162, \"race\": \"White\", \"gender\": \"Female\", \"age\": 70, \"Stage_Progress\": false}, {\"id\": 163, \"race\": \"White\", \"gender\": \"Male\", \"age\": 61, \"Stage_Progress\": true}, {\"id\": 164, \"race\": \"White\", \"gender\": \"Male\", \"age\": 84, \"Stage_Progress\": false}, {\"id\": 165, \"race\": \"White\", \"gender\": \"Male\", \"age\": 76, \"Stage_Progress\": true}, {\"id\": 166, \"race\": \"Unknown\", \"gender\": \"Male\", \"age\": 64, \"Stage_Progress\": false}, {\"id\": 167, \"race\": \"White\", \"gender\": \"Female\", \"age\": 73, \"Stage_Progress\": false}, {\"id\": 168, \"race\": \"White\", \"gender\": \"Female\", \"age\": 84, \"Stage_Progress\": false}, {\"id\": 169, \"race\": \"White\", \"gender\": \"Female\", \"age\": 76, \"Stage_Progress\": false}, {\"id\": 170, \"race\": \"White\", \"gender\": \"Female\", \"age\": 84, \"Stage_Progress\": false}, {\"id\": 171, \"race\": \"White\", \"gender\": \"Male\", \"age\": 64, \"Stage_Progress\": false}, {\"id\": 172, \"race\": \"White\", \"gender\": \"Male\", \"age\": 77, \"Stage_Progress\": false}, {\"id\": 173, \"race\": \"White\", \"gender\": \"Male\", \"age\": 70, \"Stage_Progress\": false}, {\"id\": 174, \"race\": \"White\", \"gender\": \"Female\", \"age\": 80, \"Stage_Progress\": false}, {\"id\": 175, \"race\": \"White\", \"gender\": \"Male\", \"age\": 73, \"Stage_Progress\": false}, {\"id\": 176, \"race\": \"White\", \"gender\": \"Male\", \"age\": 71, \"Stage_Progress\": true}, {\"id\": 177, \"race\": \"White\", \"gender\": \"Male\", \"age\": 63, \"Stage_Progress\": true}, {\"id\": 178, \"race\": \"White\", \"gender\": \"Female\", \"age\": 81, \"Stage_Progress\": true}, {\"id\": 179, \"race\": \"White\", \"gender\": \"Male\", \"age\": 82, \"Stage_Progress\": false}, {\"id\": 180, \"race\": \"White\", \"gender\": \"Male\", \"age\": 68, \"Stage_Progress\": false}, {\"id\": 181, \"race\": \"Asian\", \"gender\": \"Female\", \"age\": 62, \"Stage_Progress\": false}, {\"id\": 182, \"race\": \"White\", \"gender\": \"Male\", \"age\": 67, \"Stage_Progress\": true}, {\"id\": 183, \"race\": \"White\", \"gender\": \"Female\", \"age\": 56, \"Stage_Progress\": true}, {\"id\": 184, \"race\": \"White\", \"gender\": \"Female\", \"age\": 68, \"Stage_Progress\": false}, {\"id\": 185, \"race\": \"Unknown\", \"gender\": \"Female\", \"age\": 69, \"Stage_Progress\": false}, {\"id\": 186, \"race\": \"White\", \"gender\": \"Female\", \"age\": 71, \"Stage_Progress\": false}, {\"id\": 187, \"race\": \"White\", \"gender\": \"Male\", \"age\": 73, \"Stage_Progress\": false}, {\"id\": 188, \"race\": \"White\", \"gender\": \"Female\", \"age\": 75, \"Stage_Progress\": false}, {\"id\": 189, \"race\": \"White\", \"gender\": \"Female\", \"age\": 64, \"Stage_Progress\": true}, {\"id\": 190, \"race\": \"Black\", \"gender\": \"Male\", \"age\": 62, \"Stage_Progress\": false}, {\"id\": 191, \"race\": \"White\", \"gender\": \"Male\", \"age\": 56, \"Stage_Progress\": false}, {\"id\": 192, \"race\": \"White\", \"gender\": \"Female\", \"age\": 64, \"Stage_Progress\": false}, {\"id\": 193, \"race\": \"White\", \"gender\": \"Female\", \"age\": 64, \"Stage_Progress\": false}, {\"id\": 194, \"race\": \"Unknown\", \"gender\": \"Male\", \"age\": 67, \"Stage_Progress\": true}, {\"id\": 195, \"race\": \"White\", \"gender\": \"Female\", \"age\": 81, \"Stage_Progress\": false}, {\"id\": 196, \"race\": \"White\", \"gender\": \"Female\", \"age\": 74, \"Stage_Progress\": false}, {\"id\": 197, \"race\": \"Black\", \"gender\": \"Male\", \"age\": 69, \"Stage_Progress\": true}, {\"id\": 198, \"race\": \"White\", \"gender\": \"Female\", \"age\": 65, \"Stage_Progress\": false}, {\"id\": 199, \"race\": \"White\", \"gender\": \"Female\", \"age\": 73, \"Stage_Progress\": false}, {\"id\": 200, \"race\": \"White\", \"gender\": \"Female\", \"age\": 74, \"Stage_Progress\": true}, {\"id\": 201, \"race\": \"White\", \"gender\": \"Male\", \"age\": 83, \"Stage_Progress\": true}, {\"id\": 202, \"race\": \"White\", \"gender\": \"Female\", \"age\": 61, \"Stage_Progress\": false}, {\"id\": 203, \"race\": \"White\", \"gender\": \"Female\", \"age\": 83, \"Stage_Progress\": false}, {\"id\": 204, \"race\": \"White\", \"gender\": \"Female\", \"age\": 84, \"Stage_Progress\": false}, {\"id\": 205, \"race\": \"White\", \"gender\": \"Female\", \"age\": 80, \"Stage_Progress\": false}, {\"id\": 206, \"race\": \"White\", \"gender\": \"Male\", \"age\": 81, \"Stage_Progress\": false}, {\"id\": 207, \"race\": \"Unknown\", \"gender\": \"Male\", \"age\": 66, \"Stage_Progress\": true}, {\"id\": 208, \"race\": \"White\", \"gender\": \"Male\", \"age\": 47, \"Stage_Progress\": true}, {\"id\": 209, \"race\": \"White\", \"gender\": \"Male\", \"age\": 68, \"Stage_Progress\": true}, {\"id\": 210, \"race\": \"White\", \"gender\": \"Male\", \"age\": 56, \"Stage_Progress\": true}, {\"id\": 211, \"race\": \"White\", \"gender\": \"Female\", \"age\": 77, \"Stage_Progress\": false}, {\"id\": 212, \"race\": \"Unknown\", \"gender\": \"Female\", \"age\": 86, \"Stage_Progress\": false}, {\"id\": 213, \"race\": \"White\", \"gender\": \"Female\", \"age\": 78, \"Stage_Progress\": false}, {\"id\": 214, \"race\": \"White\", \"gender\": \"Female\", \"age\": 61, \"Stage_Progress\": false}, {\"id\": 215, \"race\": \"White\", \"gender\": \"Female\", \"age\": 74, \"Stage_Progress\": false}, {\"id\": 216, \"race\": \"White\", \"gender\": \"Female\", \"age\": 69, \"Stage_Progress\": false}, {\"id\": 217, \"race\": \"White\", \"gender\": \"Female\", \"age\": 76, \"Stage_Progress\": false}, {\"id\": 218, \"race\": \"Hispanic\", \"gender\": \"Female\", \"age\": 58, \"Stage_Progress\": true}, {\"id\": 219, \"race\": \"White\", \"gender\": \"Female\", \"age\": 69, \"Stage_Progress\": false}, {\"id\": 220, \"race\": \"White\", \"gender\": \"Male\", \"age\": 68, \"Stage_Progress\": false}, {\"id\": 221, \"race\": \"White\", \"gender\": \"Male\", \"age\": 57, \"Stage_Progress\": true}, {\"id\": 222, \"race\": \"Asian\", \"gender\": \"Male\", \"age\": 63, \"Stage_Progress\": true}, {\"id\": 223, \"race\": \"White\", \"gender\": \"Male\", \"age\": 63, \"Stage_Progress\": false}, {\"id\": 224, \"race\": \"White\", \"gender\": \"Female\", \"age\": 69, \"Stage_Progress\": false}, {\"id\": 225, \"race\": \"White\", \"gender\": \"Male\", \"age\": 79, \"Stage_Progress\": false}, {\"id\": 226, \"race\": \"Black\", \"gender\": \"Female\", \"age\": 76, \"Stage_Progress\": false}, {\"id\": 227, \"race\": \"White\", \"gender\": \"Female\", \"age\": 73, \"Stage_Progress\": false}, {\"id\": 228, \"race\": \"White\", \"gender\": \"Male\", \"age\": 84, \"Stage_Progress\": true}, {\"id\": 229, \"race\": \"Asian\", \"gender\": \"Female\", \"age\": 57, \"Stage_Progress\": false}, {\"id\": 230, \"race\": \"White\", \"gender\": \"Female\", \"age\": 74, \"Stage_Progress\": false}, {\"id\": 231, \"race\": \"Unknown\", \"gender\": \"Male\", \"age\": 80, \"Stage_Progress\": true}, {\"id\": 232, \"race\": \"White\", \"gender\": \"Female\", \"age\": 80, \"Stage_Progress\": false}, {\"id\": 233, \"race\": \"Black\", \"gender\": \"Male\", \"age\": 65, \"Stage_Progress\": false}, {\"id\": 234, \"race\": \"White\", \"gender\": \"Male\", \"age\": 84, \"Stage_Progress\": true}, {\"id\": 235, \"race\": \"White\", \"gender\": \"Female\", \"age\": 74, \"Stage_Progress\": false}, {\"id\": 236, \"race\": \"White\", \"gender\": \"Male\", \"age\": 83, \"Stage_Progress\": false}, {\"id\": 237, \"race\": \"White\", \"gender\": \"Male\", \"age\": 74, \"Stage_Progress\": true}, {\"id\": 238, \"race\": \"White\", \"gender\": \"Female\", \"age\": 55, \"Stage_Progress\": false}, {\"id\": 239, \"race\": \"White\", \"gender\": \"Female\", \"age\": 54, \"Stage_Progress\": false}, {\"id\": 240, \"race\": \"White\", \"gender\": \"Female\", \"age\": 68, \"Stage_Progress\": false}, {\"id\": 241, \"race\": \"White\", \"gender\": \"Female\", \"age\": 73, \"Stage_Progress\": false}, {\"id\": 242, \"race\": \"White\", \"gender\": \"Male\", \"age\": 69, \"Stage_Progress\": false}, {\"id\": 243, \"race\": \"Unknown\", \"gender\": \"Female\", \"age\": 46, \"Stage_Progress\": true}, {\"id\": 244, \"race\": \"Asian\", \"gender\": \"Female\", \"age\": 60, \"Stage_Progress\": false}, {\"id\": 245, \"race\": \"White\", \"gender\": \"Female\", \"age\": 61, \"Stage_Progress\": true}, {\"id\": 246, \"race\": \"White\", \"gender\": \"Female\", \"age\": 72, \"Stage_Progress\": false}, {\"id\": 247, \"race\": \"Black\", \"gender\": \"Male\", \"age\": 67, \"Stage_Progress\": false}, {\"id\": 248, \"race\": \"Black\", \"gender\": \"Female\", \"age\": 59, \"Stage_Progress\": false}, {\"id\": 249, \"race\": \"Unknown\", \"gender\": \"Female\", \"age\": 47, \"Stage_Progress\": false}, {\"id\": 250, \"race\": \"White\", \"gender\": \"Female\", \"age\": 79, \"Stage_Progress\": false}, {\"id\": 251, \"race\": \"White\", \"gender\": \"Male\", \"age\": 70, \"Stage_Progress\": true}, {\"id\": 252, \"race\": \"Asian\", \"gender\": \"Female\", \"age\": 72, \"Stage_Progress\": false}, {\"id\": 253, \"race\": \"White\", \"gender\": \"Male\", \"age\": 81, \"Stage_Progress\": false}, {\"id\": 254, \"race\": \"White\", \"gender\": \"Male\", \"age\": 58, \"Stage_Progress\": false}, {\"id\": 255, \"race\": \"White\", \"gender\": \"Female\", \"age\": 74, \"Stage_Progress\": false}, {\"id\": 256, \"race\": \"White\", \"gender\": \"Male\", \"age\": 66, \"Stage_Progress\": true}, {\"id\": 257, \"race\": \"White\", \"gender\": \"Male\", \"age\": 74, \"Stage_Progress\": true}, {\"id\": 258, \"race\": \"Unknown\", \"gender\": \"Female\", \"age\": 57, \"Stage_Progress\": false}, {\"id\": 259, \"race\": \"White\", \"gender\": \"Male\", \"age\": 66, \"Stage_Progress\": true}, {\"id\": 260, \"race\": \"White\", \"gender\": \"Female\", \"age\": 79, \"Stage_Progress\": true}, {\"id\": 261, \"race\": \"Asian\", \"gender\": \"Female\", \"age\": 80, \"Stage_Progress\": true}, {\"id\": 262, \"race\": \"White\", \"gender\": \"Female\", \"age\": 75, \"Stage_Progress\": false}, {\"id\": 263, \"race\": \"White\", \"gender\": \"Female\", \"age\": 73, \"Stage_Progress\": true}, {\"id\": 264, \"race\": \"White\", \"gender\": \"Female\", \"age\": 71, \"Stage_Progress\": false}, {\"id\": 265, \"race\": \"Unknown\", \"gender\": \"Female\", \"age\": 85, \"Stage_Progress\": false}, {\"id\": 266, \"race\": \"Asian\", \"gender\": \"Female\", \"age\": 48, \"Stage_Progress\": false}, {\"id\": 267, \"race\": \"White\", \"gender\": \"Male\", \"age\": 71, \"Stage_Progress\": true}, {\"id\": 268, \"race\": \"White\", \"gender\": \"Female\", \"age\": 69, \"Stage_Progress\": false}, {\"id\": 269, \"race\": \"White\", \"gender\": \"Female\", \"age\": 72, \"Stage_Progress\": true}, {\"id\": 270, \"race\": \"White\", \"gender\": \"Female\", \"age\": 77, \"Stage_Progress\": false}, {\"id\": 271, \"race\": \"White\", \"gender\": \"Male\", \"age\": 55, \"Stage_Progress\": true}, {\"id\": 272, \"race\": \"Asian\", \"gender\": \"Male\", \"age\": 72, \"Stage_Progress\": false}, {\"id\": 273, \"race\": \"White\", \"gender\": \"Male\", \"age\": 68, \"Stage_Progress\": false}, {\"id\": 274, \"race\": \"Black\", \"gender\": \"Female\", \"age\": 68, \"Stage_Progress\": false}, {\"id\": 275, \"race\": \"White\", \"gender\": \"Female\", \"age\": 84, \"Stage_Progress\": false}, {\"id\": 276, \"race\": \"White\", \"gender\": \"Male\", \"age\": 57, \"Stage_Progress\": false}, {\"id\": 277, \"race\": \"White\", \"gender\": \"Female\", \"age\": 81, \"Stage_Progress\": false}, {\"id\": 278, \"race\": \"White\", \"gender\": \"Female\", \"age\": 78, \"Stage_Progress\": false}, {\"id\": 279, \"race\": \"Black\", \"gender\": \"Female\", \"age\": 64, \"Stage_Progress\": false}, {\"id\": 280, \"race\": \"Unknown\", \"gender\": \"Female\", \"age\": 84, \"Stage_Progress\": true}, {\"id\": 281, \"race\": \"Black\", \"gender\": \"Male\", \"age\": 51, \"Stage_Progress\": true}, {\"id\": 282, \"race\": \"White\", \"gender\": \"Male\", \"age\": 74, \"Stage_Progress\": false}, {\"id\": 283, \"race\": \"White\", \"gender\": \"Female\", \"age\": 67, \"Stage_Progress\": false}, {\"id\": 284, \"race\": \"White\", \"gender\": \"Female\", \"age\": 71, \"Stage_Progress\": true}, {\"id\": 285, \"race\": \"White\", \"gender\": \"Male\", \"age\": 81, \"Stage_Progress\": false}, {\"id\": 286, \"race\": \"White\", \"gender\": \"Male\", \"age\": 85, \"Stage_Progress\": false}, {\"id\": 287, \"race\": \"White\", \"gender\": \"Female\", \"age\": 72, \"Stage_Progress\": false}, {\"id\": 288, \"race\": \"White\", \"gender\": \"Male\", \"age\": 74, \"Stage_Progress\": true}, {\"id\": 289, \"race\": \"White\", \"gender\": \"Female\", \"age\": 66, \"Stage_Progress\": false}, {\"id\": 290, \"race\": \"White\", \"gender\": \"Male\", \"age\": 70, \"Stage_Progress\": false}, {\"id\": 291, \"race\": \"White\", \"gender\": \"Female\", \"age\": 60, \"Stage_Progress\": false}, {\"id\": 292, \"race\": \"White\", \"gender\": \"Female\", \"age\": 73, \"Stage_Progress\": true}, {\"id\": 293, \"race\": \"White\", \"gender\": \"Male\", \"age\": 72, \"Stage_Progress\": false}, {\"id\": 294, \"race\": \"Black\", \"gender\": \"Male\", \"age\": 72, \"Stage_Progress\": false}, {\"id\": 295, \"race\": \"White\", \"gender\": \"Female\", \"age\": 79, \"Stage_Progress\": true}, {\"id\": 296, \"race\": \"White\", \"gender\": \"Female\", \"age\": 66, \"Stage_Progress\": false}, {\"id\": 297, \"race\": \"Unknown\", \"gender\": \"Male\", \"age\": 80, \"Stage_Progress\": true}, {\"id\": 298, \"race\": \"Asian\", \"gender\": \"Female\", \"age\": 72, \"Stage_Progress\": false}, {\"id\": 299, \"race\": \"Asian\", \"gender\": \"Male\", \"age\": 84, \"Stage_Progress\": false}]}}, {\"mode\": \"vega-lite\"});\n",
       "</script>"
      ],
      "text/plain": [
       "alt.Chart(...)"
      ]
     },
     "execution_count": 175,
     "metadata": {},
     "output_type": "execute_result"
    }
   ],
   "source": [
    "alt.Chart(demo_stage).mark_bar().encode(\n",
    "    alt.X(\"age:Q\", bin=True),\n",
    "    alt.Y('count()', title='Number of Patients'),\n",
    "    column='race',\n",
    "    color='Stage_Progress'\n",
    ").properties(\n",
    "    width=150,\n",
    "    height=120\n",
    ")"
   ]
  },
  {
   "cell_type": "code",
   "execution_count": 176,
   "id": "470004ea",
   "metadata": {
    "ExecuteTime": {
     "end_time": "2021-09-17T03:58:08.064618Z",
     "start_time": "2021-09-17T03:58:07.990942Z"
    }
   },
   "outputs": [
    {
     "data": {
      "text/html": [
       "\n",
       "<div id=\"altair-viz-9b4a30d471ad43c18402bd23ee2fc0b4\"></div>\n",
       "<script type=\"text/javascript\">\n",
       "  (function(spec, embedOpt){\n",
       "    let outputDiv = document.currentScript.previousElementSibling;\n",
       "    if (outputDiv.id !== \"altair-viz-9b4a30d471ad43c18402bd23ee2fc0b4\") {\n",
       "      outputDiv = document.getElementById(\"altair-viz-9b4a30d471ad43c18402bd23ee2fc0b4\");\n",
       "    }\n",
       "    const paths = {\n",
       "      \"vega\": \"https://cdn.jsdelivr.net/npm//vega@5?noext\",\n",
       "      \"vega-lib\": \"https://cdn.jsdelivr.net/npm//vega-lib?noext\",\n",
       "      \"vega-lite\": \"https://cdn.jsdelivr.net/npm//vega-lite@4.8.1?noext\",\n",
       "      \"vega-embed\": \"https://cdn.jsdelivr.net/npm//vega-embed@6?noext\",\n",
       "    };\n",
       "\n",
       "    function loadScript(lib) {\n",
       "      return new Promise(function(resolve, reject) {\n",
       "        var s = document.createElement('script');\n",
       "        s.src = paths[lib];\n",
       "        s.async = true;\n",
       "        s.onload = () => resolve(paths[lib]);\n",
       "        s.onerror = () => reject(`Error loading script: ${paths[lib]}`);\n",
       "        document.getElementsByTagName(\"head\")[0].appendChild(s);\n",
       "      });\n",
       "    }\n",
       "\n",
       "    function showError(err) {\n",
       "      outputDiv.innerHTML = `<div class=\"error\" style=\"color:red;\">${err}</div>`;\n",
       "      throw err;\n",
       "    }\n",
       "\n",
       "    function displayChart(vegaEmbed) {\n",
       "      vegaEmbed(outputDiv, spec, embedOpt)\n",
       "        .catch(err => showError(`Javascript Error: ${err.message}<br>This usually means there's a typo in your chart specification. See the javascript console for the full traceback.`));\n",
       "    }\n",
       "\n",
       "    if(typeof define === \"function\" && define.amd) {\n",
       "      requirejs.config({paths});\n",
       "      require([\"vega-embed\"], displayChart, err => showError(`Error loading script: ${err.message}`));\n",
       "    } else if (typeof vegaEmbed === \"function\") {\n",
       "      displayChart(vegaEmbed);\n",
       "    } else {\n",
       "      loadScript(\"vega\")\n",
       "        .then(() => loadScript(\"vega-lite\"))\n",
       "        .then(() => loadScript(\"vega-embed\"))\n",
       "        .catch(showError)\n",
       "        .then(() => displayChart(vegaEmbed));\n",
       "    }\n",
       "  })({\"config\": {\"view\": {\"continuousWidth\": 400, \"continuousHeight\": 300}}, \"data\": {\"name\": \"data-c71907d78451d794be0e8f6f7084c00b\"}, \"mark\": \"bar\", \"encoding\": {\"color\": {\"type\": \"nominal\", \"field\": \"Stage_Progress\"}, \"column\": {\"type\": \"nominal\", \"field\": \"gender\"}, \"x\": {\"type\": \"quantitative\", \"bin\": true, \"field\": \"age\"}, \"y\": {\"type\": \"quantitative\", \"aggregate\": \"count\", \"title\": \"Number of Patients\"}}, \"height\": 150, \"width\": 300, \"$schema\": \"https://vega.github.io/schema/vega-lite/v4.8.1.json\", \"datasets\": {\"data-c71907d78451d794be0e8f6f7084c00b\": [{\"id\": 0, \"race\": \"Unknown\", \"gender\": \"Male\", \"age\": 70, \"Stage_Progress\": true}, {\"id\": 1, \"race\": \"White\", \"gender\": \"Female\", \"age\": 71, \"Stage_Progress\": false}, {\"id\": 2, \"race\": \"White\", \"gender\": \"Female\", \"age\": 57, \"Stage_Progress\": true}, {\"id\": 3, \"race\": \"White\", \"gender\": \"Male\", \"age\": 74, \"Stage_Progress\": false}, {\"id\": 4, \"race\": \"White\", \"gender\": \"Female\", \"age\": 50, \"Stage_Progress\": true}, {\"id\": 5, \"race\": \"Black\", \"gender\": \"Male\", \"age\": 73, \"Stage_Progress\": false}, {\"id\": 6, \"race\": \"White\", \"gender\": \"Female\", \"age\": 60, \"Stage_Progress\": false}, {\"id\": 7, \"race\": \"Asian\", \"gender\": \"Female\", \"age\": 62, \"Stage_Progress\": false}, {\"id\": 8, \"race\": \"White\", \"gender\": \"Female\", \"age\": 68, \"Stage_Progress\": true}, {\"id\": 9, \"race\": \"White\", \"gender\": \"Female\", \"age\": 80, \"Stage_Progress\": false}, {\"id\": 10, \"race\": \"White\", \"gender\": \"Male\", \"age\": 66, \"Stage_Progress\": true}, {\"id\": 11, \"race\": \"White\", \"gender\": \"Female\", \"age\": 71, \"Stage_Progress\": true}, {\"id\": 12, \"race\": \"White\", \"gender\": \"Female\", \"age\": 80, \"Stage_Progress\": false}, {\"id\": 13, \"race\": \"White\", \"gender\": \"Female\", \"age\": 67, \"Stage_Progress\": false}, {\"id\": 14, \"race\": \"White\", \"gender\": \"Female\", \"age\": 81, \"Stage_Progress\": false}, {\"id\": 15, \"race\": \"White\", \"gender\": \"Male\", \"age\": 84, \"Stage_Progress\": true}, {\"id\": 16, \"race\": \"White\", \"gender\": \"Female\", \"age\": 80, \"Stage_Progress\": false}, {\"id\": 17, \"race\": \"Black\", \"gender\": \"Female\", \"age\": 79, \"Stage_Progress\": true}, {\"id\": 18, \"race\": \"White\", \"gender\": \"Female\", \"age\": 67, \"Stage_Progress\": true}, {\"id\": 19, \"race\": \"White\", \"gender\": \"Male\", \"age\": 64, \"Stage_Progress\": true}, {\"id\": 20, \"race\": \"Hispanic\", \"gender\": \"Female\", \"age\": 76, \"Stage_Progress\": false}, {\"id\": 21, \"race\": \"White\", \"gender\": \"Female\", \"age\": 64, \"Stage_Progress\": false}, {\"id\": 22, \"race\": \"White\", \"gender\": \"Male\", \"age\": 70, \"Stage_Progress\": false}, {\"id\": 23, \"race\": \"White\", \"gender\": \"Female\", \"age\": 66, \"Stage_Progress\": false}, {\"id\": 24, \"race\": \"White\", \"gender\": \"Male\", \"age\": 73, \"Stage_Progress\": false}, {\"id\": 25, \"race\": \"White\", \"gender\": \"Female\", \"age\": 63, \"Stage_Progress\": true}, {\"id\": 26, \"race\": \"White\", \"gender\": \"Female\", \"age\": 46, \"Stage_Progress\": false}, {\"id\": 27, \"race\": \"White\", \"gender\": \"Male\", \"age\": 78, \"Stage_Progress\": true}, {\"id\": 28, \"race\": \"White\", \"gender\": \"Male\", \"age\": 81, \"Stage_Progress\": false}, {\"id\": 29, \"race\": \"Hispanic\", \"gender\": \"Female\", \"age\": 73, \"Stage_Progress\": false}, {\"id\": 30, \"race\": \"Unknown\", \"gender\": \"Female\", \"age\": 84, \"Stage_Progress\": true}, {\"id\": 31, \"race\": \"White\", \"gender\": \"Female\", \"age\": 64, \"Stage_Progress\": true}, {\"id\": 32, \"race\": \"Black\", \"gender\": \"Male\", \"age\": 71, \"Stage_Progress\": true}, {\"id\": 33, \"race\": \"White\", \"gender\": \"Female\", \"age\": 80, \"Stage_Progress\": true}, {\"id\": 34, \"race\": \"White\", \"gender\": \"Female\", \"age\": 85, \"Stage_Progress\": false}, {\"id\": 35, \"race\": \"White\", \"gender\": \"Female\", \"age\": 74, \"Stage_Progress\": false}, {\"id\": 36, \"race\": \"White\", \"gender\": \"Male\", \"age\": 75, \"Stage_Progress\": false}, {\"id\": 37, \"race\": \"White\", \"gender\": \"Female\", \"age\": 74, \"Stage_Progress\": false}, {\"id\": 38, \"race\": \"Asian\", \"gender\": \"Female\", \"age\": 59, \"Stage_Progress\": false}, {\"id\": 39, \"race\": \"Black\", \"gender\": \"Male\", \"age\": 58, \"Stage_Progress\": true}, {\"id\": 40, \"race\": \"White\", \"gender\": \"Female\", \"age\": 55, \"Stage_Progress\": false}, {\"id\": 41, \"race\": \"White\", \"gender\": \"Female\", \"age\": 71, \"Stage_Progress\": false}, {\"id\": 42, \"race\": \"White\", \"gender\": \"Male\", \"age\": 74, \"Stage_Progress\": true}, {\"id\": 43, \"race\": \"White\", \"gender\": \"Female\", \"age\": 69, \"Stage_Progress\": true}, {\"id\": 44, \"race\": \"White\", \"gender\": \"Female\", \"age\": 76, \"Stage_Progress\": true}, {\"id\": 45, \"race\": \"Asian\", \"gender\": \"Female\", \"age\": 70, \"Stage_Progress\": true}, {\"id\": 46, \"race\": \"Black\", \"gender\": \"Female\", \"age\": 55, \"Stage_Progress\": false}, {\"id\": 47, \"race\": \"White\", \"gender\": \"Male\", \"age\": 76, \"Stage_Progress\": false}, {\"id\": 48, \"race\": \"White\", \"gender\": \"Female\", \"age\": 77, \"Stage_Progress\": true}, {\"id\": 49, \"race\": \"White\", \"gender\": \"Male\", \"age\": 66, \"Stage_Progress\": false}, {\"id\": 50, \"race\": \"White\", \"gender\": \"Male\", \"age\": 73, \"Stage_Progress\": true}, {\"id\": 51, \"race\": \"Black\", \"gender\": \"Female\", \"age\": 79, \"Stage_Progress\": false}, {\"id\": 52, \"race\": \"White\", \"gender\": \"Female\", \"age\": 60, \"Stage_Progress\": false}, {\"id\": 53, \"race\": \"White\", \"gender\": \"Male\", \"age\": 79, \"Stage_Progress\": false}, {\"id\": 54, \"race\": \"White\", \"gender\": \"Male\", \"age\": 80, \"Stage_Progress\": false}, {\"id\": 55, \"race\": \"White\", \"gender\": \"Male\", \"age\": 46, \"Stage_Progress\": false}, {\"id\": 56, \"race\": \"White\", \"gender\": \"Female\", \"age\": 69, \"Stage_Progress\": false}, {\"id\": 57, \"race\": \"White\", \"gender\": \"Male\", \"age\": 67, \"Stage_Progress\": true}, {\"id\": 58, \"race\": \"White\", \"gender\": \"Male\", \"age\": 79, \"Stage_Progress\": true}, {\"id\": 59, \"race\": \"White\", \"gender\": \"Male\", \"age\": 59, \"Stage_Progress\": false}, {\"id\": 60, \"race\": \"White\", \"gender\": \"Male\", \"age\": 73, \"Stage_Progress\": false}, {\"id\": 61, \"race\": \"Unknown\", \"gender\": \"Female\", \"age\": 62, \"Stage_Progress\": false}, {\"id\": 62, \"race\": \"White\", \"gender\": \"Male\", \"age\": 82, \"Stage_Progress\": false}, {\"id\": 63, \"race\": \"White\", \"gender\": \"Female\", \"age\": 57, \"Stage_Progress\": false}, {\"id\": 64, \"race\": \"White\", \"gender\": \"Male\", \"age\": 82, \"Stage_Progress\": false}, {\"id\": 65, \"race\": \"White\", \"gender\": \"Female\", \"age\": 54, \"Stage_Progress\": true}, {\"id\": 66, \"race\": \"White\", \"gender\": \"Male\", \"age\": 79, \"Stage_Progress\": false}, {\"id\": 67, \"race\": \"White\", \"gender\": \"Female\", \"age\": 72, \"Stage_Progress\": false}, {\"id\": 68, \"race\": \"White\", \"gender\": \"Female\", \"age\": 50, \"Stage_Progress\": false}, {\"id\": 69, \"race\": \"Unknown\", \"gender\": \"Female\", \"age\": 78, \"Stage_Progress\": false}, {\"id\": 70, \"race\": \"White\", \"gender\": \"Male\", \"age\": 79, \"Stage_Progress\": true}, {\"id\": 71, \"race\": \"White\", \"gender\": \"Female\", \"age\": 84, \"Stage_Progress\": false}, {\"id\": 72, \"race\": \"White\", \"gender\": \"Male\", \"age\": 81, \"Stage_Progress\": true}, {\"id\": 73, \"race\": \"White\", \"gender\": \"Female\", \"age\": 61, \"Stage_Progress\": false}, {\"id\": 74, \"race\": \"Asian\", \"gender\": \"Female\", \"age\": 68, \"Stage_Progress\": true}, {\"id\": 75, \"race\": \"White\", \"gender\": \"Female\", \"age\": 84, \"Stage_Progress\": false}, {\"id\": 76, \"race\": \"Hispanic\", \"gender\": \"Female\", \"age\": 71, \"Stage_Progress\": false}, {\"id\": 77, \"race\": \"Unknown\", \"gender\": \"Female\", \"age\": 81, \"Stage_Progress\": false}, {\"id\": 78, \"race\": \"White\", \"gender\": \"Male\", \"age\": 82, \"Stage_Progress\": false}, {\"id\": 79, \"race\": \"White\", \"gender\": \"Male\", \"age\": 76, \"Stage_Progress\": false}, {\"id\": 80, \"race\": \"White\", \"gender\": \"Female\", \"age\": 77, \"Stage_Progress\": false}, {\"id\": 81, \"race\": \"White\", \"gender\": \"Male\", \"age\": 63, \"Stage_Progress\": true}, {\"id\": 82, \"race\": \"White\", \"gender\": \"Male\", \"age\": 83, \"Stage_Progress\": false}, {\"id\": 83, \"race\": \"White\", \"gender\": \"Male\", \"age\": 49, \"Stage_Progress\": false}, {\"id\": 84, \"race\": \"Unknown\", \"gender\": \"Female\", \"age\": 65, \"Stage_Progress\": false}, {\"id\": 85, \"race\": \"Hispanic\", \"gender\": \"Male\", \"age\": 58, \"Stage_Progress\": true}, {\"id\": 86, \"race\": \"White\", \"gender\": \"Male\", \"age\": 48, \"Stage_Progress\": true}, {\"id\": 87, \"race\": \"White\", \"gender\": \"Female\", \"age\": 84, \"Stage_Progress\": true}, {\"id\": 88, \"race\": \"Unknown\", \"gender\": \"Male\", \"age\": 66, \"Stage_Progress\": true}, {\"id\": 89, \"race\": \"White\", \"gender\": \"Female\", \"age\": 77, \"Stage_Progress\": true}, {\"id\": 90, \"race\": \"White\", \"gender\": \"Male\", \"age\": 80, \"Stage_Progress\": false}, {\"id\": 91, \"race\": \"White\", \"gender\": \"Female\", \"age\": 61, \"Stage_Progress\": false}, {\"id\": 92, \"race\": \"White\", \"gender\": \"Female\", \"age\": 67, \"Stage_Progress\": false}, {\"id\": 93, \"race\": \"White\", \"gender\": \"Male\", \"age\": 74, \"Stage_Progress\": false}, {\"id\": 94, \"race\": \"Unknown\", \"gender\": \"Female\", \"age\": 69, \"Stage_Progress\": false}, {\"id\": 95, \"race\": \"White\", \"gender\": \"Female\", \"age\": 65, \"Stage_Progress\": false}, {\"id\": 96, \"race\": \"Unknown\", \"gender\": \"Female\", \"age\": 71, \"Stage_Progress\": false}, {\"id\": 97, \"race\": \"White\", \"gender\": \"Male\", \"age\": 59, \"Stage_Progress\": true}, {\"id\": 98, \"race\": \"White\", \"gender\": \"Female\", \"age\": 75, \"Stage_Progress\": false}, {\"id\": 99, \"race\": \"Black\", \"gender\": \"Female\", \"age\": 73, \"Stage_Progress\": false}, {\"id\": 100, \"race\": \"White\", \"gender\": \"Female\", \"age\": 68, \"Stage_Progress\": false}, {\"id\": 101, \"race\": \"White\", \"gender\": \"Female\", \"age\": 65, \"Stage_Progress\": true}, {\"id\": 102, \"race\": \"White\", \"gender\": \"Female\", \"age\": 85, \"Stage_Progress\": false}, {\"id\": 103, \"race\": \"White\", \"gender\": \"Female\", \"age\": 84, \"Stage_Progress\": true}, {\"id\": 104, \"race\": \"White\", \"gender\": \"Male\", \"age\": 57, \"Stage_Progress\": true}, {\"id\": 105, \"race\": \"White\", \"gender\": \"Male\", \"age\": 68, \"Stage_Progress\": false}, {\"id\": 106, \"race\": \"Asian\", \"gender\": \"Male\", \"age\": 52, \"Stage_Progress\": true}, {\"id\": 107, \"race\": \"Black\", \"gender\": \"Male\", \"age\": 78, \"Stage_Progress\": false}, {\"id\": 108, \"race\": \"Black\", \"gender\": \"Male\", \"age\": 82, \"Stage_Progress\": false}, {\"id\": 109, \"race\": \"White\", \"gender\": \"Female\", \"age\": 68, \"Stage_Progress\": true}, {\"id\": 110, \"race\": \"Unknown\", \"gender\": \"Male\", \"age\": 85, \"Stage_Progress\": true}, {\"id\": 111, \"race\": \"Asian\", \"gender\": \"Female\", \"age\": 64, \"Stage_Progress\": false}, {\"id\": 112, \"race\": \"Unknown\", \"gender\": \"Female\", \"age\": 60, \"Stage_Progress\": false}, {\"id\": 113, \"race\": \"White\", \"gender\": \"Male\", \"age\": 80, \"Stage_Progress\": true}, {\"id\": 114, \"race\": \"White\", \"gender\": \"Female\", \"age\": 58, \"Stage_Progress\": false}, {\"id\": 115, \"race\": \"Unknown\", \"gender\": \"Female\", \"age\": 77, \"Stage_Progress\": false}, {\"id\": 116, \"race\": \"White\", \"gender\": \"Female\", \"age\": 59, \"Stage_Progress\": false}, {\"id\": 117, \"race\": \"White\", \"gender\": \"Female\", \"age\": 73, \"Stage_Progress\": true}, {\"id\": 118, \"race\": \"Hispanic\", \"gender\": \"Female\", \"age\": 61, \"Stage_Progress\": true}, {\"id\": 119, \"race\": \"White\", \"gender\": \"Female\", \"age\": 77, \"Stage_Progress\": true}, {\"id\": 120, \"race\": \"White\", \"gender\": \"Female\", \"age\": 72, \"Stage_Progress\": false}, {\"id\": 121, \"race\": \"White\", \"gender\": \"Male\", \"age\": 76, \"Stage_Progress\": false}, {\"id\": 122, \"race\": \"White\", \"gender\": \"Female\", \"age\": 66, \"Stage_Progress\": true}, {\"id\": 123, \"race\": \"White\", \"gender\": \"Female\", \"age\": 69, \"Stage_Progress\": false}, {\"id\": 124, \"race\": \"White\", \"gender\": \"Female\", \"age\": 67, \"Stage_Progress\": false}, {\"id\": 125, \"race\": \"White\", \"gender\": \"Female\", \"age\": 78, \"Stage_Progress\": false}, {\"id\": 126, \"race\": \"White\", \"gender\": \"Male\", \"age\": 74, \"Stage_Progress\": false}, {\"id\": 127, \"race\": \"White\", \"gender\": \"Female\", \"age\": 55, \"Stage_Progress\": true}, {\"id\": 128, \"race\": \"White\", \"gender\": \"Male\", \"age\": 78, \"Stage_Progress\": false}, {\"id\": 129, \"race\": \"Black\", \"gender\": \"Male\", \"age\": 72, \"Stage_Progress\": true}, {\"id\": 130, \"race\": \"White\", \"gender\": \"Male\", \"age\": 61, \"Stage_Progress\": true}, {\"id\": 131, \"race\": \"White\", \"gender\": \"Male\", \"age\": 85, \"Stage_Progress\": false}, {\"id\": 132, \"race\": \"Black\", \"gender\": \"Male\", \"age\": 62, \"Stage_Progress\": false}, {\"id\": 133, \"race\": \"White\", \"gender\": \"Male\", \"age\": 77, \"Stage_Progress\": false}, {\"id\": 134, \"race\": \"White\", \"gender\": \"Female\", \"age\": 57, \"Stage_Progress\": false}, {\"id\": 135, \"race\": \"White\", \"gender\": \"Male\", \"age\": 84, \"Stage_Progress\": false}, {\"id\": 136, \"race\": \"Asian\", \"gender\": \"Female\", \"age\": 65, \"Stage_Progress\": false}, {\"id\": 137, \"race\": \"Hispanic\", \"gender\": \"Male\", \"age\": 80, \"Stage_Progress\": false}, {\"id\": 138, \"race\": \"White\", \"gender\": \"Female\", \"age\": 70, \"Stage_Progress\": false}, {\"id\": 139, \"race\": \"White\", \"gender\": \"Female\", \"age\": 79, \"Stage_Progress\": true}, {\"id\": 140, \"race\": \"Unknown\", \"gender\": \"Female\", \"age\": 75, \"Stage_Progress\": false}, {\"id\": 141, \"race\": \"White\", \"gender\": \"Male\", \"age\": 79, \"Stage_Progress\": false}, {\"id\": 142, \"race\": \"White\", \"gender\": \"Male\", \"age\": 84, \"Stage_Progress\": true}, {\"id\": 143, \"race\": \"White\", \"gender\": \"Female\", \"age\": 67, \"Stage_Progress\": false}, {\"id\": 144, \"race\": \"White\", \"gender\": \"Female\", \"age\": 61, \"Stage_Progress\": false}, {\"id\": 145, \"race\": \"White\", \"gender\": \"Male\", \"age\": 64, \"Stage_Progress\": true}, {\"id\": 146, \"race\": \"White\", \"gender\": \"Male\", \"age\": 74, \"Stage_Progress\": true}, {\"id\": 147, \"race\": \"Black\", \"gender\": \"Female\", \"age\": 68, \"Stage_Progress\": false}, {\"id\": 148, \"race\": \"White\", \"gender\": \"Female\", \"age\": 55, \"Stage_Progress\": false}, {\"id\": 149, \"race\": \"White\", \"gender\": \"Female\", \"age\": 82, \"Stage_Progress\": false}, {\"id\": 150, \"race\": \"White\", \"gender\": \"Female\", \"age\": 64, \"Stage_Progress\": false}, {\"id\": 151, \"race\": \"White\", \"gender\": \"Male\", \"age\": 76, \"Stage_Progress\": false}, {\"id\": 152, \"race\": \"Black\", \"gender\": \"Female\", \"age\": 74, \"Stage_Progress\": false}, {\"id\": 153, \"race\": \"White\", \"gender\": \"Female\", \"age\": 77, \"Stage_Progress\": false}, {\"id\": 154, \"race\": \"White\", \"gender\": \"Female\", \"age\": 70, \"Stage_Progress\": true}, {\"id\": 155, \"race\": \"White\", \"gender\": \"Male\", \"age\": 71, \"Stage_Progress\": true}, {\"id\": 156, \"race\": \"White\", \"gender\": \"Female\", \"age\": 72, \"Stage_Progress\": false}, {\"id\": 157, \"race\": \"White\", \"gender\": \"Female\", \"age\": 60, \"Stage_Progress\": false}, {\"id\": 158, \"race\": \"Black\", \"gender\": \"Male\", \"age\": 72, \"Stage_Progress\": false}, {\"id\": 159, \"race\": \"White\", \"gender\": \"Male\", \"age\": 64, \"Stage_Progress\": true}, {\"id\": 160, \"race\": \"White\", \"gender\": \"Female\", \"age\": 70, \"Stage_Progress\": true}, {\"id\": 161, \"race\": \"Unknown\", \"gender\": \"Male\", \"age\": 67, \"Stage_Progress\": false}, {\"id\": 162, \"race\": \"White\", \"gender\": \"Female\", \"age\": 70, \"Stage_Progress\": false}, {\"id\": 163, \"race\": \"White\", \"gender\": \"Male\", \"age\": 61, \"Stage_Progress\": true}, {\"id\": 164, \"race\": \"White\", \"gender\": \"Male\", \"age\": 84, \"Stage_Progress\": false}, {\"id\": 165, \"race\": \"White\", \"gender\": \"Male\", \"age\": 76, \"Stage_Progress\": true}, {\"id\": 166, \"race\": \"Unknown\", \"gender\": \"Male\", \"age\": 64, \"Stage_Progress\": false}, {\"id\": 167, \"race\": \"White\", \"gender\": \"Female\", \"age\": 73, \"Stage_Progress\": false}, {\"id\": 168, \"race\": \"White\", \"gender\": \"Female\", \"age\": 84, \"Stage_Progress\": false}, {\"id\": 169, \"race\": \"White\", \"gender\": \"Female\", \"age\": 76, \"Stage_Progress\": false}, {\"id\": 170, \"race\": \"White\", \"gender\": \"Female\", \"age\": 84, \"Stage_Progress\": false}, {\"id\": 171, \"race\": \"White\", \"gender\": \"Male\", \"age\": 64, \"Stage_Progress\": false}, {\"id\": 172, \"race\": \"White\", \"gender\": \"Male\", \"age\": 77, \"Stage_Progress\": false}, {\"id\": 173, \"race\": \"White\", \"gender\": \"Male\", \"age\": 70, \"Stage_Progress\": false}, {\"id\": 174, \"race\": \"White\", \"gender\": \"Female\", \"age\": 80, \"Stage_Progress\": false}, {\"id\": 175, \"race\": \"White\", \"gender\": \"Male\", \"age\": 73, \"Stage_Progress\": false}, {\"id\": 176, \"race\": \"White\", \"gender\": \"Male\", \"age\": 71, \"Stage_Progress\": true}, {\"id\": 177, \"race\": \"White\", \"gender\": \"Male\", \"age\": 63, \"Stage_Progress\": true}, {\"id\": 178, \"race\": \"White\", \"gender\": \"Female\", \"age\": 81, \"Stage_Progress\": true}, {\"id\": 179, \"race\": \"White\", \"gender\": \"Male\", \"age\": 82, \"Stage_Progress\": false}, {\"id\": 180, \"race\": \"White\", \"gender\": \"Male\", \"age\": 68, \"Stage_Progress\": false}, {\"id\": 181, \"race\": \"Asian\", \"gender\": \"Female\", \"age\": 62, \"Stage_Progress\": false}, {\"id\": 182, \"race\": \"White\", \"gender\": \"Male\", \"age\": 67, \"Stage_Progress\": true}, {\"id\": 183, \"race\": \"White\", \"gender\": \"Female\", \"age\": 56, \"Stage_Progress\": true}, {\"id\": 184, \"race\": \"White\", \"gender\": \"Female\", \"age\": 68, \"Stage_Progress\": false}, {\"id\": 185, \"race\": \"Unknown\", \"gender\": \"Female\", \"age\": 69, \"Stage_Progress\": false}, {\"id\": 186, \"race\": \"White\", \"gender\": \"Female\", \"age\": 71, \"Stage_Progress\": false}, {\"id\": 187, \"race\": \"White\", \"gender\": \"Male\", \"age\": 73, \"Stage_Progress\": false}, {\"id\": 188, \"race\": \"White\", \"gender\": \"Female\", \"age\": 75, \"Stage_Progress\": false}, {\"id\": 189, \"race\": \"White\", \"gender\": \"Female\", \"age\": 64, \"Stage_Progress\": true}, {\"id\": 190, \"race\": \"Black\", \"gender\": \"Male\", \"age\": 62, \"Stage_Progress\": false}, {\"id\": 191, \"race\": \"White\", \"gender\": \"Male\", \"age\": 56, \"Stage_Progress\": false}, {\"id\": 192, \"race\": \"White\", \"gender\": \"Female\", \"age\": 64, \"Stage_Progress\": false}, {\"id\": 193, \"race\": \"White\", \"gender\": \"Female\", \"age\": 64, \"Stage_Progress\": false}, {\"id\": 194, \"race\": \"Unknown\", \"gender\": \"Male\", \"age\": 67, \"Stage_Progress\": true}, {\"id\": 195, \"race\": \"White\", \"gender\": \"Female\", \"age\": 81, \"Stage_Progress\": false}, {\"id\": 196, \"race\": \"White\", \"gender\": \"Female\", \"age\": 74, \"Stage_Progress\": false}, {\"id\": 197, \"race\": \"Black\", \"gender\": \"Male\", \"age\": 69, \"Stage_Progress\": true}, {\"id\": 198, \"race\": \"White\", \"gender\": \"Female\", \"age\": 65, \"Stage_Progress\": false}, {\"id\": 199, \"race\": \"White\", \"gender\": \"Female\", \"age\": 73, \"Stage_Progress\": false}, {\"id\": 200, \"race\": \"White\", \"gender\": \"Female\", \"age\": 74, \"Stage_Progress\": true}, {\"id\": 201, \"race\": \"White\", \"gender\": \"Male\", \"age\": 83, \"Stage_Progress\": true}, {\"id\": 202, \"race\": \"White\", \"gender\": \"Female\", \"age\": 61, \"Stage_Progress\": false}, {\"id\": 203, \"race\": \"White\", \"gender\": \"Female\", \"age\": 83, \"Stage_Progress\": false}, {\"id\": 204, \"race\": \"White\", \"gender\": \"Female\", \"age\": 84, \"Stage_Progress\": false}, {\"id\": 205, \"race\": \"White\", \"gender\": \"Female\", \"age\": 80, \"Stage_Progress\": false}, {\"id\": 206, \"race\": \"White\", \"gender\": \"Male\", \"age\": 81, \"Stage_Progress\": false}, {\"id\": 207, \"race\": \"Unknown\", \"gender\": \"Male\", \"age\": 66, \"Stage_Progress\": true}, {\"id\": 208, \"race\": \"White\", \"gender\": \"Male\", \"age\": 47, \"Stage_Progress\": true}, {\"id\": 209, \"race\": \"White\", \"gender\": \"Male\", \"age\": 68, \"Stage_Progress\": true}, {\"id\": 210, \"race\": \"White\", \"gender\": \"Male\", \"age\": 56, \"Stage_Progress\": true}, {\"id\": 211, \"race\": \"White\", \"gender\": \"Female\", \"age\": 77, \"Stage_Progress\": false}, {\"id\": 212, \"race\": \"Unknown\", \"gender\": \"Female\", \"age\": 86, \"Stage_Progress\": false}, {\"id\": 213, \"race\": \"White\", \"gender\": \"Female\", \"age\": 78, \"Stage_Progress\": false}, {\"id\": 214, \"race\": \"White\", \"gender\": \"Female\", \"age\": 61, \"Stage_Progress\": false}, {\"id\": 215, \"race\": \"White\", \"gender\": \"Female\", \"age\": 74, \"Stage_Progress\": false}, {\"id\": 216, \"race\": \"White\", \"gender\": \"Female\", \"age\": 69, \"Stage_Progress\": false}, {\"id\": 217, \"race\": \"White\", \"gender\": \"Female\", \"age\": 76, \"Stage_Progress\": false}, {\"id\": 218, \"race\": \"Hispanic\", \"gender\": \"Female\", \"age\": 58, \"Stage_Progress\": true}, {\"id\": 219, \"race\": \"White\", \"gender\": \"Female\", \"age\": 69, \"Stage_Progress\": false}, {\"id\": 220, \"race\": \"White\", \"gender\": \"Male\", \"age\": 68, \"Stage_Progress\": false}, {\"id\": 221, \"race\": \"White\", \"gender\": \"Male\", \"age\": 57, \"Stage_Progress\": true}, {\"id\": 222, \"race\": \"Asian\", \"gender\": \"Male\", \"age\": 63, \"Stage_Progress\": true}, {\"id\": 223, \"race\": \"White\", \"gender\": \"Male\", \"age\": 63, \"Stage_Progress\": false}, {\"id\": 224, \"race\": \"White\", \"gender\": \"Female\", \"age\": 69, \"Stage_Progress\": false}, {\"id\": 225, \"race\": \"White\", \"gender\": \"Male\", \"age\": 79, \"Stage_Progress\": false}, {\"id\": 226, \"race\": \"Black\", \"gender\": \"Female\", \"age\": 76, \"Stage_Progress\": false}, {\"id\": 227, \"race\": \"White\", \"gender\": \"Female\", \"age\": 73, \"Stage_Progress\": false}, {\"id\": 228, \"race\": \"White\", \"gender\": \"Male\", \"age\": 84, \"Stage_Progress\": true}, {\"id\": 229, \"race\": \"Asian\", \"gender\": \"Female\", \"age\": 57, \"Stage_Progress\": false}, {\"id\": 230, \"race\": \"White\", \"gender\": \"Female\", \"age\": 74, \"Stage_Progress\": false}, {\"id\": 231, \"race\": \"Unknown\", \"gender\": \"Male\", \"age\": 80, \"Stage_Progress\": true}, {\"id\": 232, \"race\": \"White\", \"gender\": \"Female\", \"age\": 80, \"Stage_Progress\": false}, {\"id\": 233, \"race\": \"Black\", \"gender\": \"Male\", \"age\": 65, \"Stage_Progress\": false}, {\"id\": 234, \"race\": \"White\", \"gender\": \"Male\", \"age\": 84, \"Stage_Progress\": true}, {\"id\": 235, \"race\": \"White\", \"gender\": \"Female\", \"age\": 74, \"Stage_Progress\": false}, {\"id\": 236, \"race\": \"White\", \"gender\": \"Male\", \"age\": 83, \"Stage_Progress\": false}, {\"id\": 237, \"race\": \"White\", \"gender\": \"Male\", \"age\": 74, \"Stage_Progress\": true}, {\"id\": 238, \"race\": \"White\", \"gender\": \"Female\", \"age\": 55, \"Stage_Progress\": false}, {\"id\": 239, \"race\": \"White\", \"gender\": \"Female\", \"age\": 54, \"Stage_Progress\": false}, {\"id\": 240, \"race\": \"White\", \"gender\": \"Female\", \"age\": 68, \"Stage_Progress\": false}, {\"id\": 241, \"race\": \"White\", \"gender\": \"Female\", \"age\": 73, \"Stage_Progress\": false}, {\"id\": 242, \"race\": \"White\", \"gender\": \"Male\", \"age\": 69, \"Stage_Progress\": false}, {\"id\": 243, \"race\": \"Unknown\", \"gender\": \"Female\", \"age\": 46, \"Stage_Progress\": true}, {\"id\": 244, \"race\": \"Asian\", \"gender\": \"Female\", \"age\": 60, \"Stage_Progress\": false}, {\"id\": 245, \"race\": \"White\", \"gender\": \"Female\", \"age\": 61, \"Stage_Progress\": true}, {\"id\": 246, \"race\": \"White\", \"gender\": \"Female\", \"age\": 72, \"Stage_Progress\": false}, {\"id\": 247, \"race\": \"Black\", \"gender\": \"Male\", \"age\": 67, \"Stage_Progress\": false}, {\"id\": 248, \"race\": \"Black\", \"gender\": \"Female\", \"age\": 59, \"Stage_Progress\": false}, {\"id\": 249, \"race\": \"Unknown\", \"gender\": \"Female\", \"age\": 47, \"Stage_Progress\": false}, {\"id\": 250, \"race\": \"White\", \"gender\": \"Female\", \"age\": 79, \"Stage_Progress\": false}, {\"id\": 251, \"race\": \"White\", \"gender\": \"Male\", \"age\": 70, \"Stage_Progress\": true}, {\"id\": 252, \"race\": \"Asian\", \"gender\": \"Female\", \"age\": 72, \"Stage_Progress\": false}, {\"id\": 253, \"race\": \"White\", \"gender\": \"Male\", \"age\": 81, \"Stage_Progress\": false}, {\"id\": 254, \"race\": \"White\", \"gender\": \"Male\", \"age\": 58, \"Stage_Progress\": false}, {\"id\": 255, \"race\": \"White\", \"gender\": \"Female\", \"age\": 74, \"Stage_Progress\": false}, {\"id\": 256, \"race\": \"White\", \"gender\": \"Male\", \"age\": 66, \"Stage_Progress\": true}, {\"id\": 257, \"race\": \"White\", \"gender\": \"Male\", \"age\": 74, \"Stage_Progress\": true}, {\"id\": 258, \"race\": \"Unknown\", \"gender\": \"Female\", \"age\": 57, \"Stage_Progress\": false}, {\"id\": 259, \"race\": \"White\", \"gender\": \"Male\", \"age\": 66, \"Stage_Progress\": true}, {\"id\": 260, \"race\": \"White\", \"gender\": \"Female\", \"age\": 79, \"Stage_Progress\": true}, {\"id\": 261, \"race\": \"Asian\", \"gender\": \"Female\", \"age\": 80, \"Stage_Progress\": true}, {\"id\": 262, \"race\": \"White\", \"gender\": \"Female\", \"age\": 75, \"Stage_Progress\": false}, {\"id\": 263, \"race\": \"White\", \"gender\": \"Female\", \"age\": 73, \"Stage_Progress\": true}, {\"id\": 264, \"race\": \"White\", \"gender\": \"Female\", \"age\": 71, \"Stage_Progress\": false}, {\"id\": 265, \"race\": \"Unknown\", \"gender\": \"Female\", \"age\": 85, \"Stage_Progress\": false}, {\"id\": 266, \"race\": \"Asian\", \"gender\": \"Female\", \"age\": 48, \"Stage_Progress\": false}, {\"id\": 267, \"race\": \"White\", \"gender\": \"Male\", \"age\": 71, \"Stage_Progress\": true}, {\"id\": 268, \"race\": \"White\", \"gender\": \"Female\", \"age\": 69, \"Stage_Progress\": false}, {\"id\": 269, \"race\": \"White\", \"gender\": \"Female\", \"age\": 72, \"Stage_Progress\": true}, {\"id\": 270, \"race\": \"White\", \"gender\": \"Female\", \"age\": 77, \"Stage_Progress\": false}, {\"id\": 271, \"race\": \"White\", \"gender\": \"Male\", \"age\": 55, \"Stage_Progress\": true}, {\"id\": 272, \"race\": \"Asian\", \"gender\": \"Male\", \"age\": 72, \"Stage_Progress\": false}, {\"id\": 273, \"race\": \"White\", \"gender\": \"Male\", \"age\": 68, \"Stage_Progress\": false}, {\"id\": 274, \"race\": \"Black\", \"gender\": \"Female\", \"age\": 68, \"Stage_Progress\": false}, {\"id\": 275, \"race\": \"White\", \"gender\": \"Female\", \"age\": 84, \"Stage_Progress\": false}, {\"id\": 276, \"race\": \"White\", \"gender\": \"Male\", \"age\": 57, \"Stage_Progress\": false}, {\"id\": 277, \"race\": \"White\", \"gender\": \"Female\", \"age\": 81, \"Stage_Progress\": false}, {\"id\": 278, \"race\": \"White\", \"gender\": \"Female\", \"age\": 78, \"Stage_Progress\": false}, {\"id\": 279, \"race\": \"Black\", \"gender\": \"Female\", \"age\": 64, \"Stage_Progress\": false}, {\"id\": 280, \"race\": \"Unknown\", \"gender\": \"Female\", \"age\": 84, \"Stage_Progress\": true}, {\"id\": 281, \"race\": \"Black\", \"gender\": \"Male\", \"age\": 51, \"Stage_Progress\": true}, {\"id\": 282, \"race\": \"White\", \"gender\": \"Male\", \"age\": 74, \"Stage_Progress\": false}, {\"id\": 283, \"race\": \"White\", \"gender\": \"Female\", \"age\": 67, \"Stage_Progress\": false}, {\"id\": 284, \"race\": \"White\", \"gender\": \"Female\", \"age\": 71, \"Stage_Progress\": true}, {\"id\": 285, \"race\": \"White\", \"gender\": \"Male\", \"age\": 81, \"Stage_Progress\": false}, {\"id\": 286, \"race\": \"White\", \"gender\": \"Male\", \"age\": 85, \"Stage_Progress\": false}, {\"id\": 287, \"race\": \"White\", \"gender\": \"Female\", \"age\": 72, \"Stage_Progress\": false}, {\"id\": 288, \"race\": \"White\", \"gender\": \"Male\", \"age\": 74, \"Stage_Progress\": true}, {\"id\": 289, \"race\": \"White\", \"gender\": \"Female\", \"age\": 66, \"Stage_Progress\": false}, {\"id\": 290, \"race\": \"White\", \"gender\": \"Male\", \"age\": 70, \"Stage_Progress\": false}, {\"id\": 291, \"race\": \"White\", \"gender\": \"Female\", \"age\": 60, \"Stage_Progress\": false}, {\"id\": 292, \"race\": \"White\", \"gender\": \"Female\", \"age\": 73, \"Stage_Progress\": true}, {\"id\": 293, \"race\": \"White\", \"gender\": \"Male\", \"age\": 72, \"Stage_Progress\": false}, {\"id\": 294, \"race\": \"Black\", \"gender\": \"Male\", \"age\": 72, \"Stage_Progress\": false}, {\"id\": 295, \"race\": \"White\", \"gender\": \"Female\", \"age\": 79, \"Stage_Progress\": true}, {\"id\": 296, \"race\": \"White\", \"gender\": \"Female\", \"age\": 66, \"Stage_Progress\": false}, {\"id\": 297, \"race\": \"Unknown\", \"gender\": \"Male\", \"age\": 80, \"Stage_Progress\": true}, {\"id\": 298, \"race\": \"Asian\", \"gender\": \"Female\", \"age\": 72, \"Stage_Progress\": false}, {\"id\": 299, \"race\": \"Asian\", \"gender\": \"Male\", \"age\": 84, \"Stage_Progress\": false}]}}, {\"mode\": \"vega-lite\"});\n",
       "</script>"
      ],
      "text/plain": [
       "alt.Chart(...)"
      ]
     },
     "execution_count": 176,
     "metadata": {},
     "output_type": "execute_result"
    }
   ],
   "source": [
    "alt.Chart(demo_stage).mark_bar().encode(\n",
    "    alt.X(\"age:Q\", bin=True),\n",
    "    alt.Y(\"count()\", title='Number of Patients'),\n",
    "    column='gender',\n",
    "    color='Stage_Progress'\n",
    ").properties(\n",
    "    width=300,\n",
    "    height=150\n",
    ")"
   ]
  },
  {
   "cell_type": "markdown",
   "id": "a8ff1016",
   "metadata": {},
   "source": [
    "Looking at the demographics data, there are more white patients than of the other races. In terms of gender, there are more more female patients across all age bins, but the difference is not as large as compared to the race differences. "
   ]
  },
  {
   "cell_type": "code",
   "execution_count": 177,
   "id": "fc3b6fb0",
   "metadata": {
    "ExecuteTime": {
     "end_time": "2021-09-17T03:58:08.139141Z",
     "start_time": "2021-09-17T03:58:08.067199Z"
    }
   },
   "outputs": [
    {
     "data": {
      "text/html": [
       "\n",
       "<div id=\"altair-viz-3ecdcd607a6849c3acfa3371b58fd1f7\"></div>\n",
       "<script type=\"text/javascript\">\n",
       "  (function(spec, embedOpt){\n",
       "    let outputDiv = document.currentScript.previousElementSibling;\n",
       "    if (outputDiv.id !== \"altair-viz-3ecdcd607a6849c3acfa3371b58fd1f7\") {\n",
       "      outputDiv = document.getElementById(\"altair-viz-3ecdcd607a6849c3acfa3371b58fd1f7\");\n",
       "    }\n",
       "    const paths = {\n",
       "      \"vega\": \"https://cdn.jsdelivr.net/npm//vega@5?noext\",\n",
       "      \"vega-lib\": \"https://cdn.jsdelivr.net/npm//vega-lib?noext\",\n",
       "      \"vega-lite\": \"https://cdn.jsdelivr.net/npm//vega-lite@4.8.1?noext\",\n",
       "      \"vega-embed\": \"https://cdn.jsdelivr.net/npm//vega-embed@6?noext\",\n",
       "    };\n",
       "\n",
       "    function loadScript(lib) {\n",
       "      return new Promise(function(resolve, reject) {\n",
       "        var s = document.createElement('script');\n",
       "        s.src = paths[lib];\n",
       "        s.async = true;\n",
       "        s.onload = () => resolve(paths[lib]);\n",
       "        s.onerror = () => reject(`Error loading script: ${paths[lib]}`);\n",
       "        document.getElementsByTagName(\"head\")[0].appendChild(s);\n",
       "      });\n",
       "    }\n",
       "\n",
       "    function showError(err) {\n",
       "      outputDiv.innerHTML = `<div class=\"error\" style=\"color:red;\">${err}</div>`;\n",
       "      throw err;\n",
       "    }\n",
       "\n",
       "    function displayChart(vegaEmbed) {\n",
       "      vegaEmbed(outputDiv, spec, embedOpt)\n",
       "        .catch(err => showError(`Javascript Error: ${err.message}<br>This usually means there's a typo in your chart specification. See the javascript console for the full traceback.`));\n",
       "    }\n",
       "\n",
       "    if(typeof define === \"function\" && define.amd) {\n",
       "      requirejs.config({paths});\n",
       "      require([\"vega-embed\"], displayChart, err => showError(`Error loading script: ${err.message}`));\n",
       "    } else if (typeof vegaEmbed === \"function\") {\n",
       "      displayChart(vegaEmbed);\n",
       "    } else {\n",
       "      loadScript(\"vega\")\n",
       "        .then(() => loadScript(\"vega-lite\"))\n",
       "        .then(() => loadScript(\"vega-embed\"))\n",
       "        .catch(showError)\n",
       "        .then(() => displayChart(vegaEmbed));\n",
       "    }\n",
       "  })({\"config\": {\"view\": {\"continuousWidth\": 400, \"continuousHeight\": 300}}, \"data\": {\"name\": \"data-c71907d78451d794be0e8f6f7084c00b\"}, \"mark\": \"bar\", \"encoding\": {\"color\": {\"type\": \"nominal\", \"field\": \"Stage_Progress\"}, \"x\": {\"type\": \"quantitative\", \"bin\": true, \"field\": \"age\"}, \"y\": {\"type\": \"quantitative\", \"aggregate\": \"count\", \"axis\": {\"format\": \".0%\"}, \"stack\": \"normalize\", \"title\": \"Precentage of Patients\"}}, \"height\": 150, \"title\": \"Percentage of CKD patients\", \"width\": 300, \"$schema\": \"https://vega.github.io/schema/vega-lite/v4.8.1.json\", \"datasets\": {\"data-c71907d78451d794be0e8f6f7084c00b\": [{\"id\": 0, \"race\": \"Unknown\", \"gender\": \"Male\", \"age\": 70, \"Stage_Progress\": true}, {\"id\": 1, \"race\": \"White\", \"gender\": \"Female\", \"age\": 71, \"Stage_Progress\": false}, {\"id\": 2, \"race\": \"White\", \"gender\": \"Female\", \"age\": 57, \"Stage_Progress\": true}, {\"id\": 3, \"race\": \"White\", \"gender\": \"Male\", \"age\": 74, \"Stage_Progress\": false}, {\"id\": 4, \"race\": \"White\", \"gender\": \"Female\", \"age\": 50, \"Stage_Progress\": true}, {\"id\": 5, \"race\": \"Black\", \"gender\": \"Male\", \"age\": 73, \"Stage_Progress\": false}, {\"id\": 6, \"race\": \"White\", \"gender\": \"Female\", \"age\": 60, \"Stage_Progress\": false}, {\"id\": 7, \"race\": \"Asian\", \"gender\": \"Female\", \"age\": 62, \"Stage_Progress\": false}, {\"id\": 8, \"race\": \"White\", \"gender\": \"Female\", \"age\": 68, \"Stage_Progress\": true}, {\"id\": 9, \"race\": \"White\", \"gender\": \"Female\", \"age\": 80, \"Stage_Progress\": false}, {\"id\": 10, \"race\": \"White\", \"gender\": \"Male\", \"age\": 66, \"Stage_Progress\": true}, {\"id\": 11, \"race\": \"White\", \"gender\": \"Female\", \"age\": 71, \"Stage_Progress\": true}, {\"id\": 12, \"race\": \"White\", \"gender\": \"Female\", \"age\": 80, \"Stage_Progress\": false}, {\"id\": 13, \"race\": \"White\", \"gender\": \"Female\", \"age\": 67, \"Stage_Progress\": false}, {\"id\": 14, \"race\": \"White\", \"gender\": \"Female\", \"age\": 81, \"Stage_Progress\": false}, {\"id\": 15, \"race\": \"White\", \"gender\": \"Male\", \"age\": 84, \"Stage_Progress\": true}, {\"id\": 16, \"race\": \"White\", \"gender\": \"Female\", \"age\": 80, \"Stage_Progress\": false}, {\"id\": 17, \"race\": \"Black\", \"gender\": \"Female\", \"age\": 79, \"Stage_Progress\": true}, {\"id\": 18, \"race\": \"White\", \"gender\": \"Female\", \"age\": 67, \"Stage_Progress\": true}, {\"id\": 19, \"race\": \"White\", \"gender\": \"Male\", \"age\": 64, \"Stage_Progress\": true}, {\"id\": 20, \"race\": \"Hispanic\", \"gender\": \"Female\", \"age\": 76, \"Stage_Progress\": false}, {\"id\": 21, \"race\": \"White\", \"gender\": \"Female\", \"age\": 64, \"Stage_Progress\": false}, {\"id\": 22, \"race\": \"White\", \"gender\": \"Male\", \"age\": 70, \"Stage_Progress\": false}, {\"id\": 23, \"race\": \"White\", \"gender\": \"Female\", \"age\": 66, \"Stage_Progress\": false}, {\"id\": 24, \"race\": \"White\", \"gender\": \"Male\", \"age\": 73, \"Stage_Progress\": false}, {\"id\": 25, \"race\": \"White\", \"gender\": \"Female\", \"age\": 63, \"Stage_Progress\": true}, {\"id\": 26, \"race\": \"White\", \"gender\": \"Female\", \"age\": 46, \"Stage_Progress\": false}, {\"id\": 27, \"race\": \"White\", \"gender\": \"Male\", \"age\": 78, \"Stage_Progress\": true}, {\"id\": 28, \"race\": \"White\", \"gender\": \"Male\", \"age\": 81, \"Stage_Progress\": false}, {\"id\": 29, \"race\": \"Hispanic\", \"gender\": \"Female\", \"age\": 73, \"Stage_Progress\": false}, {\"id\": 30, \"race\": \"Unknown\", \"gender\": \"Female\", \"age\": 84, \"Stage_Progress\": true}, {\"id\": 31, \"race\": \"White\", \"gender\": \"Female\", \"age\": 64, \"Stage_Progress\": true}, {\"id\": 32, \"race\": \"Black\", \"gender\": \"Male\", \"age\": 71, \"Stage_Progress\": true}, {\"id\": 33, \"race\": \"White\", \"gender\": \"Female\", \"age\": 80, \"Stage_Progress\": true}, {\"id\": 34, \"race\": \"White\", \"gender\": \"Female\", \"age\": 85, \"Stage_Progress\": false}, {\"id\": 35, \"race\": \"White\", \"gender\": \"Female\", \"age\": 74, \"Stage_Progress\": false}, {\"id\": 36, \"race\": \"White\", \"gender\": \"Male\", \"age\": 75, \"Stage_Progress\": false}, {\"id\": 37, \"race\": \"White\", \"gender\": \"Female\", \"age\": 74, \"Stage_Progress\": false}, {\"id\": 38, \"race\": \"Asian\", \"gender\": \"Female\", \"age\": 59, \"Stage_Progress\": false}, {\"id\": 39, \"race\": \"Black\", \"gender\": \"Male\", \"age\": 58, \"Stage_Progress\": true}, {\"id\": 40, \"race\": \"White\", \"gender\": \"Female\", \"age\": 55, \"Stage_Progress\": false}, {\"id\": 41, \"race\": \"White\", \"gender\": \"Female\", \"age\": 71, \"Stage_Progress\": false}, {\"id\": 42, \"race\": \"White\", \"gender\": \"Male\", \"age\": 74, \"Stage_Progress\": true}, {\"id\": 43, \"race\": \"White\", \"gender\": \"Female\", \"age\": 69, \"Stage_Progress\": true}, {\"id\": 44, \"race\": \"White\", \"gender\": \"Female\", \"age\": 76, \"Stage_Progress\": true}, {\"id\": 45, \"race\": \"Asian\", \"gender\": \"Female\", \"age\": 70, \"Stage_Progress\": true}, {\"id\": 46, \"race\": \"Black\", \"gender\": \"Female\", \"age\": 55, \"Stage_Progress\": false}, {\"id\": 47, \"race\": \"White\", \"gender\": \"Male\", \"age\": 76, \"Stage_Progress\": false}, {\"id\": 48, \"race\": \"White\", \"gender\": \"Female\", \"age\": 77, \"Stage_Progress\": true}, {\"id\": 49, \"race\": \"White\", \"gender\": \"Male\", \"age\": 66, \"Stage_Progress\": false}, {\"id\": 50, \"race\": \"White\", \"gender\": \"Male\", \"age\": 73, \"Stage_Progress\": true}, {\"id\": 51, \"race\": \"Black\", \"gender\": \"Female\", \"age\": 79, \"Stage_Progress\": false}, {\"id\": 52, \"race\": \"White\", \"gender\": \"Female\", \"age\": 60, \"Stage_Progress\": false}, {\"id\": 53, \"race\": \"White\", \"gender\": \"Male\", \"age\": 79, \"Stage_Progress\": false}, {\"id\": 54, \"race\": \"White\", \"gender\": \"Male\", \"age\": 80, \"Stage_Progress\": false}, {\"id\": 55, \"race\": \"White\", \"gender\": \"Male\", \"age\": 46, \"Stage_Progress\": false}, {\"id\": 56, \"race\": \"White\", \"gender\": \"Female\", \"age\": 69, \"Stage_Progress\": false}, {\"id\": 57, \"race\": \"White\", \"gender\": \"Male\", \"age\": 67, \"Stage_Progress\": true}, {\"id\": 58, \"race\": \"White\", \"gender\": \"Male\", \"age\": 79, \"Stage_Progress\": true}, {\"id\": 59, \"race\": \"White\", \"gender\": \"Male\", \"age\": 59, \"Stage_Progress\": false}, {\"id\": 60, \"race\": \"White\", \"gender\": \"Male\", \"age\": 73, \"Stage_Progress\": false}, {\"id\": 61, \"race\": \"Unknown\", \"gender\": \"Female\", \"age\": 62, \"Stage_Progress\": false}, {\"id\": 62, \"race\": \"White\", \"gender\": \"Male\", \"age\": 82, \"Stage_Progress\": false}, {\"id\": 63, \"race\": \"White\", \"gender\": \"Female\", \"age\": 57, \"Stage_Progress\": false}, {\"id\": 64, \"race\": \"White\", \"gender\": \"Male\", \"age\": 82, \"Stage_Progress\": false}, {\"id\": 65, \"race\": \"White\", \"gender\": \"Female\", \"age\": 54, \"Stage_Progress\": true}, {\"id\": 66, \"race\": \"White\", \"gender\": \"Male\", \"age\": 79, \"Stage_Progress\": false}, {\"id\": 67, \"race\": \"White\", \"gender\": \"Female\", \"age\": 72, \"Stage_Progress\": false}, {\"id\": 68, \"race\": \"White\", \"gender\": \"Female\", \"age\": 50, \"Stage_Progress\": false}, {\"id\": 69, \"race\": \"Unknown\", \"gender\": \"Female\", \"age\": 78, \"Stage_Progress\": false}, {\"id\": 70, \"race\": \"White\", \"gender\": \"Male\", \"age\": 79, \"Stage_Progress\": true}, {\"id\": 71, \"race\": \"White\", \"gender\": \"Female\", \"age\": 84, \"Stage_Progress\": false}, {\"id\": 72, \"race\": \"White\", \"gender\": \"Male\", \"age\": 81, \"Stage_Progress\": true}, {\"id\": 73, \"race\": \"White\", \"gender\": \"Female\", \"age\": 61, \"Stage_Progress\": false}, {\"id\": 74, \"race\": \"Asian\", \"gender\": \"Female\", \"age\": 68, \"Stage_Progress\": true}, {\"id\": 75, \"race\": \"White\", \"gender\": \"Female\", \"age\": 84, \"Stage_Progress\": false}, {\"id\": 76, \"race\": \"Hispanic\", \"gender\": \"Female\", \"age\": 71, \"Stage_Progress\": false}, {\"id\": 77, \"race\": \"Unknown\", \"gender\": \"Female\", \"age\": 81, \"Stage_Progress\": false}, {\"id\": 78, \"race\": \"White\", \"gender\": \"Male\", \"age\": 82, \"Stage_Progress\": false}, {\"id\": 79, \"race\": \"White\", \"gender\": \"Male\", \"age\": 76, \"Stage_Progress\": false}, {\"id\": 80, \"race\": \"White\", \"gender\": \"Female\", \"age\": 77, \"Stage_Progress\": false}, {\"id\": 81, \"race\": \"White\", \"gender\": \"Male\", \"age\": 63, \"Stage_Progress\": true}, {\"id\": 82, \"race\": \"White\", \"gender\": \"Male\", \"age\": 83, \"Stage_Progress\": false}, {\"id\": 83, \"race\": \"White\", \"gender\": \"Male\", \"age\": 49, \"Stage_Progress\": false}, {\"id\": 84, \"race\": \"Unknown\", \"gender\": \"Female\", \"age\": 65, \"Stage_Progress\": false}, {\"id\": 85, \"race\": \"Hispanic\", \"gender\": \"Male\", \"age\": 58, \"Stage_Progress\": true}, {\"id\": 86, \"race\": \"White\", \"gender\": \"Male\", \"age\": 48, \"Stage_Progress\": true}, {\"id\": 87, \"race\": \"White\", \"gender\": \"Female\", \"age\": 84, \"Stage_Progress\": true}, {\"id\": 88, \"race\": \"Unknown\", \"gender\": \"Male\", \"age\": 66, \"Stage_Progress\": true}, {\"id\": 89, \"race\": \"White\", \"gender\": \"Female\", \"age\": 77, \"Stage_Progress\": true}, {\"id\": 90, \"race\": \"White\", \"gender\": \"Male\", \"age\": 80, \"Stage_Progress\": false}, {\"id\": 91, \"race\": \"White\", \"gender\": \"Female\", \"age\": 61, \"Stage_Progress\": false}, {\"id\": 92, \"race\": \"White\", \"gender\": \"Female\", \"age\": 67, \"Stage_Progress\": false}, {\"id\": 93, \"race\": \"White\", \"gender\": \"Male\", \"age\": 74, \"Stage_Progress\": false}, {\"id\": 94, \"race\": \"Unknown\", \"gender\": \"Female\", \"age\": 69, \"Stage_Progress\": false}, {\"id\": 95, \"race\": \"White\", \"gender\": \"Female\", \"age\": 65, \"Stage_Progress\": false}, {\"id\": 96, \"race\": \"Unknown\", \"gender\": \"Female\", \"age\": 71, \"Stage_Progress\": false}, {\"id\": 97, \"race\": \"White\", \"gender\": \"Male\", \"age\": 59, \"Stage_Progress\": true}, {\"id\": 98, \"race\": \"White\", \"gender\": \"Female\", \"age\": 75, \"Stage_Progress\": false}, {\"id\": 99, \"race\": \"Black\", \"gender\": \"Female\", \"age\": 73, \"Stage_Progress\": false}, {\"id\": 100, \"race\": \"White\", \"gender\": \"Female\", \"age\": 68, \"Stage_Progress\": false}, {\"id\": 101, \"race\": \"White\", \"gender\": \"Female\", \"age\": 65, \"Stage_Progress\": true}, {\"id\": 102, \"race\": \"White\", \"gender\": \"Female\", \"age\": 85, \"Stage_Progress\": false}, {\"id\": 103, \"race\": \"White\", \"gender\": \"Female\", \"age\": 84, \"Stage_Progress\": true}, {\"id\": 104, \"race\": \"White\", \"gender\": \"Male\", \"age\": 57, \"Stage_Progress\": true}, {\"id\": 105, \"race\": \"White\", \"gender\": \"Male\", \"age\": 68, \"Stage_Progress\": false}, {\"id\": 106, \"race\": \"Asian\", \"gender\": \"Male\", \"age\": 52, \"Stage_Progress\": true}, {\"id\": 107, \"race\": \"Black\", \"gender\": \"Male\", \"age\": 78, \"Stage_Progress\": false}, {\"id\": 108, \"race\": \"Black\", \"gender\": \"Male\", \"age\": 82, \"Stage_Progress\": false}, {\"id\": 109, \"race\": \"White\", \"gender\": \"Female\", \"age\": 68, \"Stage_Progress\": true}, {\"id\": 110, \"race\": \"Unknown\", \"gender\": \"Male\", \"age\": 85, \"Stage_Progress\": true}, {\"id\": 111, \"race\": \"Asian\", \"gender\": \"Female\", \"age\": 64, \"Stage_Progress\": false}, {\"id\": 112, \"race\": \"Unknown\", \"gender\": \"Female\", \"age\": 60, \"Stage_Progress\": false}, {\"id\": 113, \"race\": \"White\", \"gender\": \"Male\", \"age\": 80, \"Stage_Progress\": true}, {\"id\": 114, \"race\": \"White\", \"gender\": \"Female\", \"age\": 58, \"Stage_Progress\": false}, {\"id\": 115, \"race\": \"Unknown\", \"gender\": \"Female\", \"age\": 77, \"Stage_Progress\": false}, {\"id\": 116, \"race\": \"White\", \"gender\": \"Female\", \"age\": 59, \"Stage_Progress\": false}, {\"id\": 117, \"race\": \"White\", \"gender\": \"Female\", \"age\": 73, \"Stage_Progress\": true}, {\"id\": 118, \"race\": \"Hispanic\", \"gender\": \"Female\", \"age\": 61, \"Stage_Progress\": true}, {\"id\": 119, \"race\": \"White\", \"gender\": \"Female\", \"age\": 77, \"Stage_Progress\": true}, {\"id\": 120, \"race\": \"White\", \"gender\": \"Female\", \"age\": 72, \"Stage_Progress\": false}, {\"id\": 121, \"race\": \"White\", \"gender\": \"Male\", \"age\": 76, \"Stage_Progress\": false}, {\"id\": 122, \"race\": \"White\", \"gender\": \"Female\", \"age\": 66, \"Stage_Progress\": true}, {\"id\": 123, \"race\": \"White\", \"gender\": \"Female\", \"age\": 69, \"Stage_Progress\": false}, {\"id\": 124, \"race\": \"White\", \"gender\": \"Female\", \"age\": 67, \"Stage_Progress\": false}, {\"id\": 125, \"race\": \"White\", \"gender\": \"Female\", \"age\": 78, \"Stage_Progress\": false}, {\"id\": 126, \"race\": \"White\", \"gender\": \"Male\", \"age\": 74, \"Stage_Progress\": false}, {\"id\": 127, \"race\": \"White\", \"gender\": \"Female\", \"age\": 55, \"Stage_Progress\": true}, {\"id\": 128, \"race\": \"White\", \"gender\": \"Male\", \"age\": 78, \"Stage_Progress\": false}, {\"id\": 129, \"race\": \"Black\", \"gender\": \"Male\", \"age\": 72, \"Stage_Progress\": true}, {\"id\": 130, \"race\": \"White\", \"gender\": \"Male\", \"age\": 61, \"Stage_Progress\": true}, {\"id\": 131, \"race\": \"White\", \"gender\": \"Male\", \"age\": 85, \"Stage_Progress\": false}, {\"id\": 132, \"race\": \"Black\", \"gender\": \"Male\", \"age\": 62, \"Stage_Progress\": false}, {\"id\": 133, \"race\": \"White\", \"gender\": \"Male\", \"age\": 77, \"Stage_Progress\": false}, {\"id\": 134, \"race\": \"White\", \"gender\": \"Female\", \"age\": 57, \"Stage_Progress\": false}, {\"id\": 135, \"race\": \"White\", \"gender\": \"Male\", \"age\": 84, \"Stage_Progress\": false}, {\"id\": 136, \"race\": \"Asian\", \"gender\": \"Female\", \"age\": 65, \"Stage_Progress\": false}, {\"id\": 137, \"race\": \"Hispanic\", \"gender\": \"Male\", \"age\": 80, \"Stage_Progress\": false}, {\"id\": 138, \"race\": \"White\", \"gender\": \"Female\", \"age\": 70, \"Stage_Progress\": false}, {\"id\": 139, \"race\": \"White\", \"gender\": \"Female\", \"age\": 79, \"Stage_Progress\": true}, {\"id\": 140, \"race\": \"Unknown\", \"gender\": \"Female\", \"age\": 75, \"Stage_Progress\": false}, {\"id\": 141, \"race\": \"White\", \"gender\": \"Male\", \"age\": 79, \"Stage_Progress\": false}, {\"id\": 142, \"race\": \"White\", \"gender\": \"Male\", \"age\": 84, \"Stage_Progress\": true}, {\"id\": 143, \"race\": \"White\", \"gender\": \"Female\", \"age\": 67, \"Stage_Progress\": false}, {\"id\": 144, \"race\": \"White\", \"gender\": \"Female\", \"age\": 61, \"Stage_Progress\": false}, {\"id\": 145, \"race\": \"White\", \"gender\": \"Male\", \"age\": 64, \"Stage_Progress\": true}, {\"id\": 146, \"race\": \"White\", \"gender\": \"Male\", \"age\": 74, \"Stage_Progress\": true}, {\"id\": 147, \"race\": \"Black\", \"gender\": \"Female\", \"age\": 68, \"Stage_Progress\": false}, {\"id\": 148, \"race\": \"White\", \"gender\": \"Female\", \"age\": 55, \"Stage_Progress\": false}, {\"id\": 149, \"race\": \"White\", \"gender\": \"Female\", \"age\": 82, \"Stage_Progress\": false}, {\"id\": 150, \"race\": \"White\", \"gender\": \"Female\", \"age\": 64, \"Stage_Progress\": false}, {\"id\": 151, \"race\": \"White\", \"gender\": \"Male\", \"age\": 76, \"Stage_Progress\": false}, {\"id\": 152, \"race\": \"Black\", \"gender\": \"Female\", \"age\": 74, \"Stage_Progress\": false}, {\"id\": 153, \"race\": \"White\", \"gender\": \"Female\", \"age\": 77, \"Stage_Progress\": false}, {\"id\": 154, \"race\": \"White\", \"gender\": \"Female\", \"age\": 70, \"Stage_Progress\": true}, {\"id\": 155, \"race\": \"White\", \"gender\": \"Male\", \"age\": 71, \"Stage_Progress\": true}, {\"id\": 156, \"race\": \"White\", \"gender\": \"Female\", \"age\": 72, \"Stage_Progress\": false}, {\"id\": 157, \"race\": \"White\", \"gender\": \"Female\", \"age\": 60, \"Stage_Progress\": false}, {\"id\": 158, \"race\": \"Black\", \"gender\": \"Male\", \"age\": 72, \"Stage_Progress\": false}, {\"id\": 159, \"race\": \"White\", \"gender\": \"Male\", \"age\": 64, \"Stage_Progress\": true}, {\"id\": 160, \"race\": \"White\", \"gender\": \"Female\", \"age\": 70, \"Stage_Progress\": true}, {\"id\": 161, \"race\": \"Unknown\", \"gender\": \"Male\", \"age\": 67, \"Stage_Progress\": false}, {\"id\": 162, \"race\": \"White\", \"gender\": \"Female\", \"age\": 70, \"Stage_Progress\": false}, {\"id\": 163, \"race\": \"White\", \"gender\": \"Male\", \"age\": 61, \"Stage_Progress\": true}, {\"id\": 164, \"race\": \"White\", \"gender\": \"Male\", \"age\": 84, \"Stage_Progress\": false}, {\"id\": 165, \"race\": \"White\", \"gender\": \"Male\", \"age\": 76, \"Stage_Progress\": true}, {\"id\": 166, \"race\": \"Unknown\", \"gender\": \"Male\", \"age\": 64, \"Stage_Progress\": false}, {\"id\": 167, \"race\": \"White\", \"gender\": \"Female\", \"age\": 73, \"Stage_Progress\": false}, {\"id\": 168, \"race\": \"White\", \"gender\": \"Female\", \"age\": 84, \"Stage_Progress\": false}, {\"id\": 169, \"race\": \"White\", \"gender\": \"Female\", \"age\": 76, \"Stage_Progress\": false}, {\"id\": 170, \"race\": \"White\", \"gender\": \"Female\", \"age\": 84, \"Stage_Progress\": false}, {\"id\": 171, \"race\": \"White\", \"gender\": \"Male\", \"age\": 64, \"Stage_Progress\": false}, {\"id\": 172, \"race\": \"White\", \"gender\": \"Male\", \"age\": 77, \"Stage_Progress\": false}, {\"id\": 173, \"race\": \"White\", \"gender\": \"Male\", \"age\": 70, \"Stage_Progress\": false}, {\"id\": 174, \"race\": \"White\", \"gender\": \"Female\", \"age\": 80, \"Stage_Progress\": false}, {\"id\": 175, \"race\": \"White\", \"gender\": \"Male\", \"age\": 73, \"Stage_Progress\": false}, {\"id\": 176, \"race\": \"White\", \"gender\": \"Male\", \"age\": 71, \"Stage_Progress\": true}, {\"id\": 177, \"race\": \"White\", \"gender\": \"Male\", \"age\": 63, \"Stage_Progress\": true}, {\"id\": 178, \"race\": \"White\", \"gender\": \"Female\", \"age\": 81, \"Stage_Progress\": true}, {\"id\": 179, \"race\": \"White\", \"gender\": \"Male\", \"age\": 82, \"Stage_Progress\": false}, {\"id\": 180, \"race\": \"White\", \"gender\": \"Male\", \"age\": 68, \"Stage_Progress\": false}, {\"id\": 181, \"race\": \"Asian\", \"gender\": \"Female\", \"age\": 62, \"Stage_Progress\": false}, {\"id\": 182, \"race\": \"White\", \"gender\": \"Male\", \"age\": 67, \"Stage_Progress\": true}, {\"id\": 183, \"race\": \"White\", \"gender\": \"Female\", \"age\": 56, \"Stage_Progress\": true}, {\"id\": 184, \"race\": \"White\", \"gender\": \"Female\", \"age\": 68, \"Stage_Progress\": false}, {\"id\": 185, \"race\": \"Unknown\", \"gender\": \"Female\", \"age\": 69, \"Stage_Progress\": false}, {\"id\": 186, \"race\": \"White\", \"gender\": \"Female\", \"age\": 71, \"Stage_Progress\": false}, {\"id\": 187, \"race\": \"White\", \"gender\": \"Male\", \"age\": 73, \"Stage_Progress\": false}, {\"id\": 188, \"race\": \"White\", \"gender\": \"Female\", \"age\": 75, \"Stage_Progress\": false}, {\"id\": 189, \"race\": \"White\", \"gender\": \"Female\", \"age\": 64, \"Stage_Progress\": true}, {\"id\": 190, \"race\": \"Black\", \"gender\": \"Male\", \"age\": 62, \"Stage_Progress\": false}, {\"id\": 191, \"race\": \"White\", \"gender\": \"Male\", \"age\": 56, \"Stage_Progress\": false}, {\"id\": 192, \"race\": \"White\", \"gender\": \"Female\", \"age\": 64, \"Stage_Progress\": false}, {\"id\": 193, \"race\": \"White\", \"gender\": \"Female\", \"age\": 64, \"Stage_Progress\": false}, {\"id\": 194, \"race\": \"Unknown\", \"gender\": \"Male\", \"age\": 67, \"Stage_Progress\": true}, {\"id\": 195, \"race\": \"White\", \"gender\": \"Female\", \"age\": 81, \"Stage_Progress\": false}, {\"id\": 196, \"race\": \"White\", \"gender\": \"Female\", \"age\": 74, \"Stage_Progress\": false}, {\"id\": 197, \"race\": \"Black\", \"gender\": \"Male\", \"age\": 69, \"Stage_Progress\": true}, {\"id\": 198, \"race\": \"White\", \"gender\": \"Female\", \"age\": 65, \"Stage_Progress\": false}, {\"id\": 199, \"race\": \"White\", \"gender\": \"Female\", \"age\": 73, \"Stage_Progress\": false}, {\"id\": 200, \"race\": \"White\", \"gender\": \"Female\", \"age\": 74, \"Stage_Progress\": true}, {\"id\": 201, \"race\": \"White\", \"gender\": \"Male\", \"age\": 83, \"Stage_Progress\": true}, {\"id\": 202, \"race\": \"White\", \"gender\": \"Female\", \"age\": 61, \"Stage_Progress\": false}, {\"id\": 203, \"race\": \"White\", \"gender\": \"Female\", \"age\": 83, \"Stage_Progress\": false}, {\"id\": 204, \"race\": \"White\", \"gender\": \"Female\", \"age\": 84, \"Stage_Progress\": false}, {\"id\": 205, \"race\": \"White\", \"gender\": \"Female\", \"age\": 80, \"Stage_Progress\": false}, {\"id\": 206, \"race\": \"White\", \"gender\": \"Male\", \"age\": 81, \"Stage_Progress\": false}, {\"id\": 207, \"race\": \"Unknown\", \"gender\": \"Male\", \"age\": 66, \"Stage_Progress\": true}, {\"id\": 208, \"race\": \"White\", \"gender\": \"Male\", \"age\": 47, \"Stage_Progress\": true}, {\"id\": 209, \"race\": \"White\", \"gender\": \"Male\", \"age\": 68, \"Stage_Progress\": true}, {\"id\": 210, \"race\": \"White\", \"gender\": \"Male\", \"age\": 56, \"Stage_Progress\": true}, {\"id\": 211, \"race\": \"White\", \"gender\": \"Female\", \"age\": 77, \"Stage_Progress\": false}, {\"id\": 212, \"race\": \"Unknown\", \"gender\": \"Female\", \"age\": 86, \"Stage_Progress\": false}, {\"id\": 213, \"race\": \"White\", \"gender\": \"Female\", \"age\": 78, \"Stage_Progress\": false}, {\"id\": 214, \"race\": \"White\", \"gender\": \"Female\", \"age\": 61, \"Stage_Progress\": false}, {\"id\": 215, \"race\": \"White\", \"gender\": \"Female\", \"age\": 74, \"Stage_Progress\": false}, {\"id\": 216, \"race\": \"White\", \"gender\": \"Female\", \"age\": 69, \"Stage_Progress\": false}, {\"id\": 217, \"race\": \"White\", \"gender\": \"Female\", \"age\": 76, \"Stage_Progress\": false}, {\"id\": 218, \"race\": \"Hispanic\", \"gender\": \"Female\", \"age\": 58, \"Stage_Progress\": true}, {\"id\": 219, \"race\": \"White\", \"gender\": \"Female\", \"age\": 69, \"Stage_Progress\": false}, {\"id\": 220, \"race\": \"White\", \"gender\": \"Male\", \"age\": 68, \"Stage_Progress\": false}, {\"id\": 221, \"race\": \"White\", \"gender\": \"Male\", \"age\": 57, \"Stage_Progress\": true}, {\"id\": 222, \"race\": \"Asian\", \"gender\": \"Male\", \"age\": 63, \"Stage_Progress\": true}, {\"id\": 223, \"race\": \"White\", \"gender\": \"Male\", \"age\": 63, \"Stage_Progress\": false}, {\"id\": 224, \"race\": \"White\", \"gender\": \"Female\", \"age\": 69, \"Stage_Progress\": false}, {\"id\": 225, \"race\": \"White\", \"gender\": \"Male\", \"age\": 79, \"Stage_Progress\": false}, {\"id\": 226, \"race\": \"Black\", \"gender\": \"Female\", \"age\": 76, \"Stage_Progress\": false}, {\"id\": 227, \"race\": \"White\", \"gender\": \"Female\", \"age\": 73, \"Stage_Progress\": false}, {\"id\": 228, \"race\": \"White\", \"gender\": \"Male\", \"age\": 84, \"Stage_Progress\": true}, {\"id\": 229, \"race\": \"Asian\", \"gender\": \"Female\", \"age\": 57, \"Stage_Progress\": false}, {\"id\": 230, \"race\": \"White\", \"gender\": \"Female\", \"age\": 74, \"Stage_Progress\": false}, {\"id\": 231, \"race\": \"Unknown\", \"gender\": \"Male\", \"age\": 80, \"Stage_Progress\": true}, {\"id\": 232, \"race\": \"White\", \"gender\": \"Female\", \"age\": 80, \"Stage_Progress\": false}, {\"id\": 233, \"race\": \"Black\", \"gender\": \"Male\", \"age\": 65, \"Stage_Progress\": false}, {\"id\": 234, \"race\": \"White\", \"gender\": \"Male\", \"age\": 84, \"Stage_Progress\": true}, {\"id\": 235, \"race\": \"White\", \"gender\": \"Female\", \"age\": 74, \"Stage_Progress\": false}, {\"id\": 236, \"race\": \"White\", \"gender\": \"Male\", \"age\": 83, \"Stage_Progress\": false}, {\"id\": 237, \"race\": \"White\", \"gender\": \"Male\", \"age\": 74, \"Stage_Progress\": true}, {\"id\": 238, \"race\": \"White\", \"gender\": \"Female\", \"age\": 55, \"Stage_Progress\": false}, {\"id\": 239, \"race\": \"White\", \"gender\": \"Female\", \"age\": 54, \"Stage_Progress\": false}, {\"id\": 240, \"race\": \"White\", \"gender\": \"Female\", \"age\": 68, \"Stage_Progress\": false}, {\"id\": 241, \"race\": \"White\", \"gender\": \"Female\", \"age\": 73, \"Stage_Progress\": false}, {\"id\": 242, \"race\": \"White\", \"gender\": \"Male\", \"age\": 69, \"Stage_Progress\": false}, {\"id\": 243, \"race\": \"Unknown\", \"gender\": \"Female\", \"age\": 46, \"Stage_Progress\": true}, {\"id\": 244, \"race\": \"Asian\", \"gender\": \"Female\", \"age\": 60, \"Stage_Progress\": false}, {\"id\": 245, \"race\": \"White\", \"gender\": \"Female\", \"age\": 61, \"Stage_Progress\": true}, {\"id\": 246, \"race\": \"White\", \"gender\": \"Female\", \"age\": 72, \"Stage_Progress\": false}, {\"id\": 247, \"race\": \"Black\", \"gender\": \"Male\", \"age\": 67, \"Stage_Progress\": false}, {\"id\": 248, \"race\": \"Black\", \"gender\": \"Female\", \"age\": 59, \"Stage_Progress\": false}, {\"id\": 249, \"race\": \"Unknown\", \"gender\": \"Female\", \"age\": 47, \"Stage_Progress\": false}, {\"id\": 250, \"race\": \"White\", \"gender\": \"Female\", \"age\": 79, \"Stage_Progress\": false}, {\"id\": 251, \"race\": \"White\", \"gender\": \"Male\", \"age\": 70, \"Stage_Progress\": true}, {\"id\": 252, \"race\": \"Asian\", \"gender\": \"Female\", \"age\": 72, \"Stage_Progress\": false}, {\"id\": 253, \"race\": \"White\", \"gender\": \"Male\", \"age\": 81, \"Stage_Progress\": false}, {\"id\": 254, \"race\": \"White\", \"gender\": \"Male\", \"age\": 58, \"Stage_Progress\": false}, {\"id\": 255, \"race\": \"White\", \"gender\": \"Female\", \"age\": 74, \"Stage_Progress\": false}, {\"id\": 256, \"race\": \"White\", \"gender\": \"Male\", \"age\": 66, \"Stage_Progress\": true}, {\"id\": 257, \"race\": \"White\", \"gender\": \"Male\", \"age\": 74, \"Stage_Progress\": true}, {\"id\": 258, \"race\": \"Unknown\", \"gender\": \"Female\", \"age\": 57, \"Stage_Progress\": false}, {\"id\": 259, \"race\": \"White\", \"gender\": \"Male\", \"age\": 66, \"Stage_Progress\": true}, {\"id\": 260, \"race\": \"White\", \"gender\": \"Female\", \"age\": 79, \"Stage_Progress\": true}, {\"id\": 261, \"race\": \"Asian\", \"gender\": \"Female\", \"age\": 80, \"Stage_Progress\": true}, {\"id\": 262, \"race\": \"White\", \"gender\": \"Female\", \"age\": 75, \"Stage_Progress\": false}, {\"id\": 263, \"race\": \"White\", \"gender\": \"Female\", \"age\": 73, \"Stage_Progress\": true}, {\"id\": 264, \"race\": \"White\", \"gender\": \"Female\", \"age\": 71, \"Stage_Progress\": false}, {\"id\": 265, \"race\": \"Unknown\", \"gender\": \"Female\", \"age\": 85, \"Stage_Progress\": false}, {\"id\": 266, \"race\": \"Asian\", \"gender\": \"Female\", \"age\": 48, \"Stage_Progress\": false}, {\"id\": 267, \"race\": \"White\", \"gender\": \"Male\", \"age\": 71, \"Stage_Progress\": true}, {\"id\": 268, \"race\": \"White\", \"gender\": \"Female\", \"age\": 69, \"Stage_Progress\": false}, {\"id\": 269, \"race\": \"White\", \"gender\": \"Female\", \"age\": 72, \"Stage_Progress\": true}, {\"id\": 270, \"race\": \"White\", \"gender\": \"Female\", \"age\": 77, \"Stage_Progress\": false}, {\"id\": 271, \"race\": \"White\", \"gender\": \"Male\", \"age\": 55, \"Stage_Progress\": true}, {\"id\": 272, \"race\": \"Asian\", \"gender\": \"Male\", \"age\": 72, \"Stage_Progress\": false}, {\"id\": 273, \"race\": \"White\", \"gender\": \"Male\", \"age\": 68, \"Stage_Progress\": false}, {\"id\": 274, \"race\": \"Black\", \"gender\": \"Female\", \"age\": 68, \"Stage_Progress\": false}, {\"id\": 275, \"race\": \"White\", \"gender\": \"Female\", \"age\": 84, \"Stage_Progress\": false}, {\"id\": 276, \"race\": \"White\", \"gender\": \"Male\", \"age\": 57, \"Stage_Progress\": false}, {\"id\": 277, \"race\": \"White\", \"gender\": \"Female\", \"age\": 81, \"Stage_Progress\": false}, {\"id\": 278, \"race\": \"White\", \"gender\": \"Female\", \"age\": 78, \"Stage_Progress\": false}, {\"id\": 279, \"race\": \"Black\", \"gender\": \"Female\", \"age\": 64, \"Stage_Progress\": false}, {\"id\": 280, \"race\": \"Unknown\", \"gender\": \"Female\", \"age\": 84, \"Stage_Progress\": true}, {\"id\": 281, \"race\": \"Black\", \"gender\": \"Male\", \"age\": 51, \"Stage_Progress\": true}, {\"id\": 282, \"race\": \"White\", \"gender\": \"Male\", \"age\": 74, \"Stage_Progress\": false}, {\"id\": 283, \"race\": \"White\", \"gender\": \"Female\", \"age\": 67, \"Stage_Progress\": false}, {\"id\": 284, \"race\": \"White\", \"gender\": \"Female\", \"age\": 71, \"Stage_Progress\": true}, {\"id\": 285, \"race\": \"White\", \"gender\": \"Male\", \"age\": 81, \"Stage_Progress\": false}, {\"id\": 286, \"race\": \"White\", \"gender\": \"Male\", \"age\": 85, \"Stage_Progress\": false}, {\"id\": 287, \"race\": \"White\", \"gender\": \"Female\", \"age\": 72, \"Stage_Progress\": false}, {\"id\": 288, \"race\": \"White\", \"gender\": \"Male\", \"age\": 74, \"Stage_Progress\": true}, {\"id\": 289, \"race\": \"White\", \"gender\": \"Female\", \"age\": 66, \"Stage_Progress\": false}, {\"id\": 290, \"race\": \"White\", \"gender\": \"Male\", \"age\": 70, \"Stage_Progress\": false}, {\"id\": 291, \"race\": \"White\", \"gender\": \"Female\", \"age\": 60, \"Stage_Progress\": false}, {\"id\": 292, \"race\": \"White\", \"gender\": \"Female\", \"age\": 73, \"Stage_Progress\": true}, {\"id\": 293, \"race\": \"White\", \"gender\": \"Male\", \"age\": 72, \"Stage_Progress\": false}, {\"id\": 294, \"race\": \"Black\", \"gender\": \"Male\", \"age\": 72, \"Stage_Progress\": false}, {\"id\": 295, \"race\": \"White\", \"gender\": \"Female\", \"age\": 79, \"Stage_Progress\": true}, {\"id\": 296, \"race\": \"White\", \"gender\": \"Female\", \"age\": 66, \"Stage_Progress\": false}, {\"id\": 297, \"race\": \"Unknown\", \"gender\": \"Male\", \"age\": 80, \"Stage_Progress\": true}, {\"id\": 298, \"race\": \"Asian\", \"gender\": \"Female\", \"age\": 72, \"Stage_Progress\": false}, {\"id\": 299, \"race\": \"Asian\", \"gender\": \"Male\", \"age\": 84, \"Stage_Progress\": false}]}}, {\"mode\": \"vega-lite\"});\n",
       "</script>"
      ],
      "text/plain": [
       "alt.Chart(...)"
      ]
     },
     "execution_count": 177,
     "metadata": {},
     "output_type": "execute_result"
    }
   ],
   "source": [
    "alt.Chart(demo_stage, title='Percentage of CKD patients').mark_bar().encode(\n",
    "    alt.X(\"age:Q\", bin=True),\n",
    "    alt.Y('count()', stack=\"normalize\", axis=alt.Axis(\n",
    "        format=\".0%\"), title='Precentage of Patients'),\n",
    "    color='Stage_Progress'\n",
    ").properties(\n",
    "    width=300,\n",
    "    height=150\n",
    ")"
   ]
  },
  {
   "cell_type": "markdown",
   "id": "8b0fb305",
   "metadata": {},
   "source": [
    "Just looking at outcomes (Stage_Progress), there are more patients who do not have chronic kidney disease (CKD) compared to patients who have CKD (inbalanced dataset). "
   ]
  },
  {
   "cell_type": "code",
   "execution_count": 178,
   "id": "d5d11bee",
   "metadata": {
    "ExecuteTime": {
     "end_time": "2021-09-17T03:58:08.223888Z",
     "start_time": "2021-09-17T03:58:08.141574Z"
    }
   },
   "outputs": [
    {
     "data": {
      "text/html": [
       "\n",
       "<div id=\"altair-viz-575f4a34a5a44409a02ba0f741ecbd8f\"></div>\n",
       "<script type=\"text/javascript\">\n",
       "  (function(spec, embedOpt){\n",
       "    let outputDiv = document.currentScript.previousElementSibling;\n",
       "    if (outputDiv.id !== \"altair-viz-575f4a34a5a44409a02ba0f741ecbd8f\") {\n",
       "      outputDiv = document.getElementById(\"altair-viz-575f4a34a5a44409a02ba0f741ecbd8f\");\n",
       "    }\n",
       "    const paths = {\n",
       "      \"vega\": \"https://cdn.jsdelivr.net/npm//vega@5?noext\",\n",
       "      \"vega-lib\": \"https://cdn.jsdelivr.net/npm//vega-lib?noext\",\n",
       "      \"vega-lite\": \"https://cdn.jsdelivr.net/npm//vega-lite@4.8.1?noext\",\n",
       "      \"vega-embed\": \"https://cdn.jsdelivr.net/npm//vega-embed@6?noext\",\n",
       "    };\n",
       "\n",
       "    function loadScript(lib) {\n",
       "      return new Promise(function(resolve, reject) {\n",
       "        var s = document.createElement('script');\n",
       "        s.src = paths[lib];\n",
       "        s.async = true;\n",
       "        s.onload = () => resolve(paths[lib]);\n",
       "        s.onerror = () => reject(`Error loading script: ${paths[lib]}`);\n",
       "        document.getElementsByTagName(\"head\")[0].appendChild(s);\n",
       "      });\n",
       "    }\n",
       "\n",
       "    function showError(err) {\n",
       "      outputDiv.innerHTML = `<div class=\"error\" style=\"color:red;\">${err}</div>`;\n",
       "      throw err;\n",
       "    }\n",
       "\n",
       "    function displayChart(vegaEmbed) {\n",
       "      vegaEmbed(outputDiv, spec, embedOpt)\n",
       "        .catch(err => showError(`Javascript Error: ${err.message}<br>This usually means there's a typo in your chart specification. See the javascript console for the full traceback.`));\n",
       "    }\n",
       "\n",
       "    if(typeof define === \"function\" && define.amd) {\n",
       "      requirejs.config({paths});\n",
       "      require([\"vega-embed\"], displayChart, err => showError(`Error loading script: ${err.message}`));\n",
       "    } else if (typeof vegaEmbed === \"function\") {\n",
       "      displayChart(vegaEmbed);\n",
       "    } else {\n",
       "      loadScript(\"vega\")\n",
       "        .then(() => loadScript(\"vega-lite\"))\n",
       "        .then(() => loadScript(\"vega-embed\"))\n",
       "        .catch(showError)\n",
       "        .then(() => displayChart(vegaEmbed));\n",
       "    }\n",
       "  })({\"config\": {\"view\": {\"continuousWidth\": 400, \"continuousHeight\": 300}}, \"hconcat\": [{\"data\": {\"name\": \"data-0d748379592072efa8578b8320e0ac3c\"}, \"mark\": {\"type\": \"bar\", \"cornerRadiusTopLeft\": 3, \"cornerRadiusTopRight\": 3}, \"encoding\": {\"color\": {\"type\": \"nominal\", \"field\": \"race\"}, \"x\": {\"type\": \"quantitative\", \"bin\": true, \"field\": \"age\"}, \"y\": {\"type\": \"quantitative\", \"aggregate\": \"count\", \"scale\": {\"domain\": [0, 46]}, \"title\": \"Number of Patients\"}}, \"title\": \"CKD Positive\"}, {\"data\": {\"name\": \"data-4cb7fe2c1077fe441450d323583f12f8\"}, \"mark\": {\"type\": \"bar\", \"cornerRadiusTopLeft\": 3, \"cornerRadiusTopRight\": 3}, \"encoding\": {\"color\": {\"type\": \"nominal\", \"field\": \"race\"}, \"x\": {\"type\": \"quantitative\", \"bin\": true, \"field\": \"age\"}, \"y\": {\"type\": \"quantitative\", \"aggregate\": \"count\", \"scale\": {\"domain\": [0, 46]}, \"title\": \"Number of Patients\"}}, \"title\": \"CKD Negative\"}], \"$schema\": \"https://vega.github.io/schema/vega-lite/v4.8.1.json\", \"datasets\": {\"data-0d748379592072efa8578b8320e0ac3c\": [{\"id\": 0, \"race\": \"Unknown\", \"gender\": \"Male\", \"age\": 70, \"Stage_Progress\": true}, {\"id\": 2, \"race\": \"White\", \"gender\": \"Female\", \"age\": 57, \"Stage_Progress\": true}, {\"id\": 4, \"race\": \"White\", \"gender\": \"Female\", \"age\": 50, \"Stage_Progress\": true}, {\"id\": 8, \"race\": \"White\", \"gender\": \"Female\", \"age\": 68, \"Stage_Progress\": true}, {\"id\": 10, \"race\": \"White\", \"gender\": \"Male\", \"age\": 66, \"Stage_Progress\": true}, {\"id\": 11, \"race\": \"White\", \"gender\": \"Female\", \"age\": 71, \"Stage_Progress\": true}, {\"id\": 15, \"race\": \"White\", \"gender\": \"Male\", \"age\": 84, \"Stage_Progress\": true}, {\"id\": 17, \"race\": \"Black\", \"gender\": \"Female\", \"age\": 79, \"Stage_Progress\": true}, {\"id\": 18, \"race\": \"White\", \"gender\": \"Female\", \"age\": 67, \"Stage_Progress\": true}, {\"id\": 19, \"race\": \"White\", \"gender\": \"Male\", \"age\": 64, \"Stage_Progress\": true}, {\"id\": 25, \"race\": \"White\", \"gender\": \"Female\", \"age\": 63, \"Stage_Progress\": true}, {\"id\": 27, \"race\": \"White\", \"gender\": \"Male\", \"age\": 78, \"Stage_Progress\": true}, {\"id\": 30, \"race\": \"Unknown\", \"gender\": \"Female\", \"age\": 84, \"Stage_Progress\": true}, {\"id\": 31, \"race\": \"White\", \"gender\": \"Female\", \"age\": 64, \"Stage_Progress\": true}, {\"id\": 32, \"race\": \"Black\", \"gender\": \"Male\", \"age\": 71, \"Stage_Progress\": true}, {\"id\": 33, \"race\": \"White\", \"gender\": \"Female\", \"age\": 80, \"Stage_Progress\": true}, {\"id\": 39, \"race\": \"Black\", \"gender\": \"Male\", \"age\": 58, \"Stage_Progress\": true}, {\"id\": 42, \"race\": \"White\", \"gender\": \"Male\", \"age\": 74, \"Stage_Progress\": true}, {\"id\": 43, \"race\": \"White\", \"gender\": \"Female\", \"age\": 69, \"Stage_Progress\": true}, {\"id\": 44, \"race\": \"White\", \"gender\": \"Female\", \"age\": 76, \"Stage_Progress\": true}, {\"id\": 45, \"race\": \"Asian\", \"gender\": \"Female\", \"age\": 70, \"Stage_Progress\": true}, {\"id\": 48, \"race\": \"White\", \"gender\": \"Female\", \"age\": 77, \"Stage_Progress\": true}, {\"id\": 50, \"race\": \"White\", \"gender\": \"Male\", \"age\": 73, \"Stage_Progress\": true}, {\"id\": 57, \"race\": \"White\", \"gender\": \"Male\", \"age\": 67, \"Stage_Progress\": true}, {\"id\": 58, \"race\": \"White\", \"gender\": \"Male\", \"age\": 79, \"Stage_Progress\": true}, {\"id\": 65, \"race\": \"White\", \"gender\": \"Female\", \"age\": 54, \"Stage_Progress\": true}, {\"id\": 70, \"race\": \"White\", \"gender\": \"Male\", \"age\": 79, \"Stage_Progress\": true}, {\"id\": 72, \"race\": \"White\", \"gender\": \"Male\", \"age\": 81, \"Stage_Progress\": true}, {\"id\": 74, \"race\": \"Asian\", \"gender\": \"Female\", \"age\": 68, \"Stage_Progress\": true}, {\"id\": 81, \"race\": \"White\", \"gender\": \"Male\", \"age\": 63, \"Stage_Progress\": true}, {\"id\": 85, \"race\": \"Hispanic\", \"gender\": \"Male\", \"age\": 58, \"Stage_Progress\": true}, {\"id\": 86, \"race\": \"White\", \"gender\": \"Male\", \"age\": 48, \"Stage_Progress\": true}, {\"id\": 87, \"race\": \"White\", \"gender\": \"Female\", \"age\": 84, \"Stage_Progress\": true}, {\"id\": 88, \"race\": \"Unknown\", \"gender\": \"Male\", \"age\": 66, \"Stage_Progress\": true}, {\"id\": 89, \"race\": \"White\", \"gender\": \"Female\", \"age\": 77, \"Stage_Progress\": true}, {\"id\": 97, \"race\": \"White\", \"gender\": \"Male\", \"age\": 59, \"Stage_Progress\": true}, {\"id\": 101, \"race\": \"White\", \"gender\": \"Female\", \"age\": 65, \"Stage_Progress\": true}, {\"id\": 103, \"race\": \"White\", \"gender\": \"Female\", \"age\": 84, \"Stage_Progress\": true}, {\"id\": 104, \"race\": \"White\", \"gender\": \"Male\", \"age\": 57, \"Stage_Progress\": true}, {\"id\": 106, \"race\": \"Asian\", \"gender\": \"Male\", \"age\": 52, \"Stage_Progress\": true}, {\"id\": 109, \"race\": \"White\", \"gender\": \"Female\", \"age\": 68, \"Stage_Progress\": true}, {\"id\": 110, \"race\": \"Unknown\", \"gender\": \"Male\", \"age\": 85, \"Stage_Progress\": true}, {\"id\": 113, \"race\": \"White\", \"gender\": \"Male\", \"age\": 80, \"Stage_Progress\": true}, {\"id\": 117, \"race\": \"White\", \"gender\": \"Female\", \"age\": 73, \"Stage_Progress\": true}, {\"id\": 118, \"race\": \"Hispanic\", \"gender\": \"Female\", \"age\": 61, \"Stage_Progress\": true}, {\"id\": 119, \"race\": \"White\", \"gender\": \"Female\", \"age\": 77, \"Stage_Progress\": true}, {\"id\": 122, \"race\": \"White\", \"gender\": \"Female\", \"age\": 66, \"Stage_Progress\": true}, {\"id\": 127, \"race\": \"White\", \"gender\": \"Female\", \"age\": 55, \"Stage_Progress\": true}, {\"id\": 129, \"race\": \"Black\", \"gender\": \"Male\", \"age\": 72, \"Stage_Progress\": true}, {\"id\": 130, \"race\": \"White\", \"gender\": \"Male\", \"age\": 61, \"Stage_Progress\": true}, {\"id\": 139, \"race\": \"White\", \"gender\": \"Female\", \"age\": 79, \"Stage_Progress\": true}, {\"id\": 142, \"race\": \"White\", \"gender\": \"Male\", \"age\": 84, \"Stage_Progress\": true}, {\"id\": 145, \"race\": \"White\", \"gender\": \"Male\", \"age\": 64, \"Stage_Progress\": true}, {\"id\": 146, \"race\": \"White\", \"gender\": \"Male\", \"age\": 74, \"Stage_Progress\": true}, {\"id\": 154, \"race\": \"White\", \"gender\": \"Female\", \"age\": 70, \"Stage_Progress\": true}, {\"id\": 155, \"race\": \"White\", \"gender\": \"Male\", \"age\": 71, \"Stage_Progress\": true}, {\"id\": 159, \"race\": \"White\", \"gender\": \"Male\", \"age\": 64, \"Stage_Progress\": true}, {\"id\": 160, \"race\": \"White\", \"gender\": \"Female\", \"age\": 70, \"Stage_Progress\": true}, {\"id\": 163, \"race\": \"White\", \"gender\": \"Male\", \"age\": 61, \"Stage_Progress\": true}, {\"id\": 165, \"race\": \"White\", \"gender\": \"Male\", \"age\": 76, \"Stage_Progress\": true}, {\"id\": 176, \"race\": \"White\", \"gender\": \"Male\", \"age\": 71, \"Stage_Progress\": true}, {\"id\": 177, \"race\": \"White\", \"gender\": \"Male\", \"age\": 63, \"Stage_Progress\": true}, {\"id\": 178, \"race\": \"White\", \"gender\": \"Female\", \"age\": 81, \"Stage_Progress\": true}, {\"id\": 182, \"race\": \"White\", \"gender\": \"Male\", \"age\": 67, \"Stage_Progress\": true}, {\"id\": 183, \"race\": \"White\", \"gender\": \"Female\", \"age\": 56, \"Stage_Progress\": true}, {\"id\": 189, \"race\": \"White\", \"gender\": \"Female\", \"age\": 64, \"Stage_Progress\": true}, {\"id\": 194, \"race\": \"Unknown\", \"gender\": \"Male\", \"age\": 67, \"Stage_Progress\": true}, {\"id\": 197, \"race\": \"Black\", \"gender\": \"Male\", \"age\": 69, \"Stage_Progress\": true}, {\"id\": 200, \"race\": \"White\", \"gender\": \"Female\", \"age\": 74, \"Stage_Progress\": true}, {\"id\": 201, \"race\": \"White\", \"gender\": \"Male\", \"age\": 83, \"Stage_Progress\": true}, {\"id\": 207, \"race\": \"Unknown\", \"gender\": \"Male\", \"age\": 66, \"Stage_Progress\": true}, {\"id\": 208, \"race\": \"White\", \"gender\": \"Male\", \"age\": 47, \"Stage_Progress\": true}, {\"id\": 209, \"race\": \"White\", \"gender\": \"Male\", \"age\": 68, \"Stage_Progress\": true}, {\"id\": 210, \"race\": \"White\", \"gender\": \"Male\", \"age\": 56, \"Stage_Progress\": true}, {\"id\": 218, \"race\": \"Hispanic\", \"gender\": \"Female\", \"age\": 58, \"Stage_Progress\": true}, {\"id\": 221, \"race\": \"White\", \"gender\": \"Male\", \"age\": 57, \"Stage_Progress\": true}, {\"id\": 222, \"race\": \"Asian\", \"gender\": \"Male\", \"age\": 63, \"Stage_Progress\": true}, {\"id\": 228, \"race\": \"White\", \"gender\": \"Male\", \"age\": 84, \"Stage_Progress\": true}, {\"id\": 231, \"race\": \"Unknown\", \"gender\": \"Male\", \"age\": 80, \"Stage_Progress\": true}, {\"id\": 234, \"race\": \"White\", \"gender\": \"Male\", \"age\": 84, \"Stage_Progress\": true}, {\"id\": 237, \"race\": \"White\", \"gender\": \"Male\", \"age\": 74, \"Stage_Progress\": true}, {\"id\": 243, \"race\": \"Unknown\", \"gender\": \"Female\", \"age\": 46, \"Stage_Progress\": true}, {\"id\": 245, \"race\": \"White\", \"gender\": \"Female\", \"age\": 61, \"Stage_Progress\": true}, {\"id\": 251, \"race\": \"White\", \"gender\": \"Male\", \"age\": 70, \"Stage_Progress\": true}, {\"id\": 256, \"race\": \"White\", \"gender\": \"Male\", \"age\": 66, \"Stage_Progress\": true}, {\"id\": 257, \"race\": \"White\", \"gender\": \"Male\", \"age\": 74, \"Stage_Progress\": true}, {\"id\": 259, \"race\": \"White\", \"gender\": \"Male\", \"age\": 66, \"Stage_Progress\": true}, {\"id\": 260, \"race\": \"White\", \"gender\": \"Female\", \"age\": 79, \"Stage_Progress\": true}, {\"id\": 261, \"race\": \"Asian\", \"gender\": \"Female\", \"age\": 80, \"Stage_Progress\": true}, {\"id\": 263, \"race\": \"White\", \"gender\": \"Female\", \"age\": 73, \"Stage_Progress\": true}, {\"id\": 267, \"race\": \"White\", \"gender\": \"Male\", \"age\": 71, \"Stage_Progress\": true}, {\"id\": 269, \"race\": \"White\", \"gender\": \"Female\", \"age\": 72, \"Stage_Progress\": true}, {\"id\": 271, \"race\": \"White\", \"gender\": \"Male\", \"age\": 55, \"Stage_Progress\": true}, {\"id\": 280, \"race\": \"Unknown\", \"gender\": \"Female\", \"age\": 84, \"Stage_Progress\": true}, {\"id\": 281, \"race\": \"Black\", \"gender\": \"Male\", \"age\": 51, \"Stage_Progress\": true}, {\"id\": 284, \"race\": \"White\", \"gender\": \"Female\", \"age\": 71, \"Stage_Progress\": true}, {\"id\": 288, \"race\": \"White\", \"gender\": \"Male\", \"age\": 74, \"Stage_Progress\": true}, {\"id\": 292, \"race\": \"White\", \"gender\": \"Female\", \"age\": 73, \"Stage_Progress\": true}, {\"id\": 295, \"race\": \"White\", \"gender\": \"Female\", \"age\": 79, \"Stage_Progress\": true}, {\"id\": 297, \"race\": \"Unknown\", \"gender\": \"Male\", \"age\": 80, \"Stage_Progress\": true}], \"data-4cb7fe2c1077fe441450d323583f12f8\": [{\"id\": 1, \"race\": \"White\", \"gender\": \"Female\", \"age\": 71, \"Stage_Progress\": false}, {\"id\": 3, \"race\": \"White\", \"gender\": \"Male\", \"age\": 74, \"Stage_Progress\": false}, {\"id\": 5, \"race\": \"Black\", \"gender\": \"Male\", \"age\": 73, \"Stage_Progress\": false}, {\"id\": 6, \"race\": \"White\", \"gender\": \"Female\", \"age\": 60, \"Stage_Progress\": false}, {\"id\": 7, \"race\": \"Asian\", \"gender\": \"Female\", \"age\": 62, \"Stage_Progress\": false}, {\"id\": 9, \"race\": \"White\", \"gender\": \"Female\", \"age\": 80, \"Stage_Progress\": false}, {\"id\": 12, \"race\": \"White\", \"gender\": \"Female\", \"age\": 80, \"Stage_Progress\": false}, {\"id\": 13, \"race\": \"White\", \"gender\": \"Female\", \"age\": 67, \"Stage_Progress\": false}, {\"id\": 14, \"race\": \"White\", \"gender\": \"Female\", \"age\": 81, \"Stage_Progress\": false}, {\"id\": 16, \"race\": \"White\", \"gender\": \"Female\", \"age\": 80, \"Stage_Progress\": false}, {\"id\": 20, \"race\": \"Hispanic\", \"gender\": \"Female\", \"age\": 76, \"Stage_Progress\": false}, {\"id\": 21, \"race\": \"White\", \"gender\": \"Female\", \"age\": 64, \"Stage_Progress\": false}, {\"id\": 22, \"race\": \"White\", \"gender\": \"Male\", \"age\": 70, \"Stage_Progress\": false}, {\"id\": 23, \"race\": \"White\", \"gender\": \"Female\", \"age\": 66, \"Stage_Progress\": false}, {\"id\": 24, \"race\": \"White\", \"gender\": \"Male\", \"age\": 73, \"Stage_Progress\": false}, {\"id\": 26, \"race\": \"White\", \"gender\": \"Female\", \"age\": 46, \"Stage_Progress\": false}, {\"id\": 28, \"race\": \"White\", \"gender\": \"Male\", \"age\": 81, \"Stage_Progress\": false}, {\"id\": 29, \"race\": \"Hispanic\", \"gender\": \"Female\", \"age\": 73, \"Stage_Progress\": false}, {\"id\": 34, \"race\": \"White\", \"gender\": \"Female\", \"age\": 85, \"Stage_Progress\": false}, {\"id\": 35, \"race\": \"White\", \"gender\": \"Female\", \"age\": 74, \"Stage_Progress\": false}, {\"id\": 36, \"race\": \"White\", \"gender\": \"Male\", \"age\": 75, \"Stage_Progress\": false}, {\"id\": 37, \"race\": \"White\", \"gender\": \"Female\", \"age\": 74, \"Stage_Progress\": false}, {\"id\": 38, \"race\": \"Asian\", \"gender\": \"Female\", \"age\": 59, \"Stage_Progress\": false}, {\"id\": 40, \"race\": \"White\", \"gender\": \"Female\", \"age\": 55, \"Stage_Progress\": false}, {\"id\": 41, \"race\": \"White\", \"gender\": \"Female\", \"age\": 71, \"Stage_Progress\": false}, {\"id\": 46, \"race\": \"Black\", \"gender\": \"Female\", \"age\": 55, \"Stage_Progress\": false}, {\"id\": 47, \"race\": \"White\", \"gender\": \"Male\", \"age\": 76, \"Stage_Progress\": false}, {\"id\": 49, \"race\": \"White\", \"gender\": \"Male\", \"age\": 66, \"Stage_Progress\": false}, {\"id\": 51, \"race\": \"Black\", \"gender\": \"Female\", \"age\": 79, \"Stage_Progress\": false}, {\"id\": 52, \"race\": \"White\", \"gender\": \"Female\", \"age\": 60, \"Stage_Progress\": false}, {\"id\": 53, \"race\": \"White\", \"gender\": \"Male\", \"age\": 79, \"Stage_Progress\": false}, {\"id\": 54, \"race\": \"White\", \"gender\": \"Male\", \"age\": 80, \"Stage_Progress\": false}, {\"id\": 55, \"race\": \"White\", \"gender\": \"Male\", \"age\": 46, \"Stage_Progress\": false}, {\"id\": 56, \"race\": \"White\", \"gender\": \"Female\", \"age\": 69, \"Stage_Progress\": false}, {\"id\": 59, \"race\": \"White\", \"gender\": \"Male\", \"age\": 59, \"Stage_Progress\": false}, {\"id\": 60, \"race\": \"White\", \"gender\": \"Male\", \"age\": 73, \"Stage_Progress\": false}, {\"id\": 61, \"race\": \"Unknown\", \"gender\": \"Female\", \"age\": 62, \"Stage_Progress\": false}, {\"id\": 62, \"race\": \"White\", \"gender\": \"Male\", \"age\": 82, \"Stage_Progress\": false}, {\"id\": 63, \"race\": \"White\", \"gender\": \"Female\", \"age\": 57, \"Stage_Progress\": false}, {\"id\": 64, \"race\": \"White\", \"gender\": \"Male\", \"age\": 82, \"Stage_Progress\": false}, {\"id\": 66, \"race\": \"White\", \"gender\": \"Male\", \"age\": 79, \"Stage_Progress\": false}, {\"id\": 67, \"race\": \"White\", \"gender\": \"Female\", \"age\": 72, \"Stage_Progress\": false}, {\"id\": 68, \"race\": \"White\", \"gender\": \"Female\", \"age\": 50, \"Stage_Progress\": false}, {\"id\": 69, \"race\": \"Unknown\", \"gender\": \"Female\", \"age\": 78, \"Stage_Progress\": false}, {\"id\": 71, \"race\": \"White\", \"gender\": \"Female\", \"age\": 84, \"Stage_Progress\": false}, {\"id\": 73, \"race\": \"White\", \"gender\": \"Female\", \"age\": 61, \"Stage_Progress\": false}, {\"id\": 75, \"race\": \"White\", \"gender\": \"Female\", \"age\": 84, \"Stage_Progress\": false}, {\"id\": 76, \"race\": \"Hispanic\", \"gender\": \"Female\", \"age\": 71, \"Stage_Progress\": false}, {\"id\": 77, \"race\": \"Unknown\", \"gender\": \"Female\", \"age\": 81, \"Stage_Progress\": false}, {\"id\": 78, \"race\": \"White\", \"gender\": \"Male\", \"age\": 82, \"Stage_Progress\": false}, {\"id\": 79, \"race\": \"White\", \"gender\": \"Male\", \"age\": 76, \"Stage_Progress\": false}, {\"id\": 80, \"race\": \"White\", \"gender\": \"Female\", \"age\": 77, \"Stage_Progress\": false}, {\"id\": 82, \"race\": \"White\", \"gender\": \"Male\", \"age\": 83, \"Stage_Progress\": false}, {\"id\": 83, \"race\": \"White\", \"gender\": \"Male\", \"age\": 49, \"Stage_Progress\": false}, {\"id\": 84, \"race\": \"Unknown\", \"gender\": \"Female\", \"age\": 65, \"Stage_Progress\": false}, {\"id\": 90, \"race\": \"White\", \"gender\": \"Male\", \"age\": 80, \"Stage_Progress\": false}, {\"id\": 91, \"race\": \"White\", \"gender\": \"Female\", \"age\": 61, \"Stage_Progress\": false}, {\"id\": 92, \"race\": \"White\", \"gender\": \"Female\", \"age\": 67, \"Stage_Progress\": false}, {\"id\": 93, \"race\": \"White\", \"gender\": \"Male\", \"age\": 74, \"Stage_Progress\": false}, {\"id\": 94, \"race\": \"Unknown\", \"gender\": \"Female\", \"age\": 69, \"Stage_Progress\": false}, {\"id\": 95, \"race\": \"White\", \"gender\": \"Female\", \"age\": 65, \"Stage_Progress\": false}, {\"id\": 96, \"race\": \"Unknown\", \"gender\": \"Female\", \"age\": 71, \"Stage_Progress\": false}, {\"id\": 98, \"race\": \"White\", \"gender\": \"Female\", \"age\": 75, \"Stage_Progress\": false}, {\"id\": 99, \"race\": \"Black\", \"gender\": \"Female\", \"age\": 73, \"Stage_Progress\": false}, {\"id\": 100, \"race\": \"White\", \"gender\": \"Female\", \"age\": 68, \"Stage_Progress\": false}, {\"id\": 102, \"race\": \"White\", \"gender\": \"Female\", \"age\": 85, \"Stage_Progress\": false}, {\"id\": 105, \"race\": \"White\", \"gender\": \"Male\", \"age\": 68, \"Stage_Progress\": false}, {\"id\": 107, \"race\": \"Black\", \"gender\": \"Male\", \"age\": 78, \"Stage_Progress\": false}, {\"id\": 108, \"race\": \"Black\", \"gender\": \"Male\", \"age\": 82, \"Stage_Progress\": false}, {\"id\": 111, \"race\": \"Asian\", \"gender\": \"Female\", \"age\": 64, \"Stage_Progress\": false}, {\"id\": 112, \"race\": \"Unknown\", \"gender\": \"Female\", \"age\": 60, \"Stage_Progress\": false}, {\"id\": 114, \"race\": \"White\", \"gender\": \"Female\", \"age\": 58, \"Stage_Progress\": false}, {\"id\": 115, \"race\": \"Unknown\", \"gender\": \"Female\", \"age\": 77, \"Stage_Progress\": false}, {\"id\": 116, \"race\": \"White\", \"gender\": \"Female\", \"age\": 59, \"Stage_Progress\": false}, {\"id\": 120, \"race\": \"White\", \"gender\": \"Female\", \"age\": 72, \"Stage_Progress\": false}, {\"id\": 121, \"race\": \"White\", \"gender\": \"Male\", \"age\": 76, \"Stage_Progress\": false}, {\"id\": 123, \"race\": \"White\", \"gender\": \"Female\", \"age\": 69, \"Stage_Progress\": false}, {\"id\": 124, \"race\": \"White\", \"gender\": \"Female\", \"age\": 67, \"Stage_Progress\": false}, {\"id\": 125, \"race\": \"White\", \"gender\": \"Female\", \"age\": 78, \"Stage_Progress\": false}, {\"id\": 126, \"race\": \"White\", \"gender\": \"Male\", \"age\": 74, \"Stage_Progress\": false}, {\"id\": 128, \"race\": \"White\", \"gender\": \"Male\", \"age\": 78, \"Stage_Progress\": false}, {\"id\": 131, \"race\": \"White\", \"gender\": \"Male\", \"age\": 85, \"Stage_Progress\": false}, {\"id\": 132, \"race\": \"Black\", \"gender\": \"Male\", \"age\": 62, \"Stage_Progress\": false}, {\"id\": 133, \"race\": \"White\", \"gender\": \"Male\", \"age\": 77, \"Stage_Progress\": false}, {\"id\": 134, \"race\": \"White\", \"gender\": \"Female\", \"age\": 57, \"Stage_Progress\": false}, {\"id\": 135, \"race\": \"White\", \"gender\": \"Male\", \"age\": 84, \"Stage_Progress\": false}, {\"id\": 136, \"race\": \"Asian\", \"gender\": \"Female\", \"age\": 65, \"Stage_Progress\": false}, {\"id\": 137, \"race\": \"Hispanic\", \"gender\": \"Male\", \"age\": 80, \"Stage_Progress\": false}, {\"id\": 138, \"race\": \"White\", \"gender\": \"Female\", \"age\": 70, \"Stage_Progress\": false}, {\"id\": 140, \"race\": \"Unknown\", \"gender\": \"Female\", \"age\": 75, \"Stage_Progress\": false}, {\"id\": 141, \"race\": \"White\", \"gender\": \"Male\", \"age\": 79, \"Stage_Progress\": false}, {\"id\": 143, \"race\": \"White\", \"gender\": \"Female\", \"age\": 67, \"Stage_Progress\": false}, {\"id\": 144, \"race\": \"White\", \"gender\": \"Female\", \"age\": 61, \"Stage_Progress\": false}, {\"id\": 147, \"race\": \"Black\", \"gender\": \"Female\", \"age\": 68, \"Stage_Progress\": false}, {\"id\": 148, \"race\": \"White\", \"gender\": \"Female\", \"age\": 55, \"Stage_Progress\": false}, {\"id\": 149, \"race\": \"White\", \"gender\": \"Female\", \"age\": 82, \"Stage_Progress\": false}, {\"id\": 150, \"race\": \"White\", \"gender\": \"Female\", \"age\": 64, \"Stage_Progress\": false}, {\"id\": 151, \"race\": \"White\", \"gender\": \"Male\", \"age\": 76, \"Stage_Progress\": false}, {\"id\": 152, \"race\": \"Black\", \"gender\": \"Female\", \"age\": 74, \"Stage_Progress\": false}, {\"id\": 153, \"race\": \"White\", \"gender\": \"Female\", \"age\": 77, \"Stage_Progress\": false}, {\"id\": 156, \"race\": \"White\", \"gender\": \"Female\", \"age\": 72, \"Stage_Progress\": false}, {\"id\": 157, \"race\": \"White\", \"gender\": \"Female\", \"age\": 60, \"Stage_Progress\": false}, {\"id\": 158, \"race\": \"Black\", \"gender\": \"Male\", \"age\": 72, \"Stage_Progress\": false}, {\"id\": 161, \"race\": \"Unknown\", \"gender\": \"Male\", \"age\": 67, \"Stage_Progress\": false}, {\"id\": 162, \"race\": \"White\", \"gender\": \"Female\", \"age\": 70, \"Stage_Progress\": false}, {\"id\": 164, \"race\": \"White\", \"gender\": \"Male\", \"age\": 84, \"Stage_Progress\": false}, {\"id\": 166, \"race\": \"Unknown\", \"gender\": \"Male\", \"age\": 64, \"Stage_Progress\": false}, {\"id\": 167, \"race\": \"White\", \"gender\": \"Female\", \"age\": 73, \"Stage_Progress\": false}, {\"id\": 168, \"race\": \"White\", \"gender\": \"Female\", \"age\": 84, \"Stage_Progress\": false}, {\"id\": 169, \"race\": \"White\", \"gender\": \"Female\", \"age\": 76, \"Stage_Progress\": false}, {\"id\": 170, \"race\": \"White\", \"gender\": \"Female\", \"age\": 84, \"Stage_Progress\": false}, {\"id\": 171, \"race\": \"White\", \"gender\": \"Male\", \"age\": 64, \"Stage_Progress\": false}, {\"id\": 172, \"race\": \"White\", \"gender\": \"Male\", \"age\": 77, \"Stage_Progress\": false}, {\"id\": 173, \"race\": \"White\", \"gender\": \"Male\", \"age\": 70, \"Stage_Progress\": false}, {\"id\": 174, \"race\": \"White\", \"gender\": \"Female\", \"age\": 80, \"Stage_Progress\": false}, {\"id\": 175, \"race\": \"White\", \"gender\": \"Male\", \"age\": 73, \"Stage_Progress\": false}, {\"id\": 179, \"race\": \"White\", \"gender\": \"Male\", \"age\": 82, \"Stage_Progress\": false}, {\"id\": 180, \"race\": \"White\", \"gender\": \"Male\", \"age\": 68, \"Stage_Progress\": false}, {\"id\": 181, \"race\": \"Asian\", \"gender\": \"Female\", \"age\": 62, \"Stage_Progress\": false}, {\"id\": 184, \"race\": \"White\", \"gender\": \"Female\", \"age\": 68, \"Stage_Progress\": false}, {\"id\": 185, \"race\": \"Unknown\", \"gender\": \"Female\", \"age\": 69, \"Stage_Progress\": false}, {\"id\": 186, \"race\": \"White\", \"gender\": \"Female\", \"age\": 71, \"Stage_Progress\": false}, {\"id\": 187, \"race\": \"White\", \"gender\": \"Male\", \"age\": 73, \"Stage_Progress\": false}, {\"id\": 188, \"race\": \"White\", \"gender\": \"Female\", \"age\": 75, \"Stage_Progress\": false}, {\"id\": 190, \"race\": \"Black\", \"gender\": \"Male\", \"age\": 62, \"Stage_Progress\": false}, {\"id\": 191, \"race\": \"White\", \"gender\": \"Male\", \"age\": 56, \"Stage_Progress\": false}, {\"id\": 192, \"race\": \"White\", \"gender\": \"Female\", \"age\": 64, \"Stage_Progress\": false}, {\"id\": 193, \"race\": \"White\", \"gender\": \"Female\", \"age\": 64, \"Stage_Progress\": false}, {\"id\": 195, \"race\": \"White\", \"gender\": \"Female\", \"age\": 81, \"Stage_Progress\": false}, {\"id\": 196, \"race\": \"White\", \"gender\": \"Female\", \"age\": 74, \"Stage_Progress\": false}, {\"id\": 198, \"race\": \"White\", \"gender\": \"Female\", \"age\": 65, \"Stage_Progress\": false}, {\"id\": 199, \"race\": \"White\", \"gender\": \"Female\", \"age\": 73, \"Stage_Progress\": false}, {\"id\": 202, \"race\": \"White\", \"gender\": \"Female\", \"age\": 61, \"Stage_Progress\": false}, {\"id\": 203, \"race\": \"White\", \"gender\": \"Female\", \"age\": 83, \"Stage_Progress\": false}, {\"id\": 204, \"race\": \"White\", \"gender\": \"Female\", \"age\": 84, \"Stage_Progress\": false}, {\"id\": 205, \"race\": \"White\", \"gender\": \"Female\", \"age\": 80, \"Stage_Progress\": false}, {\"id\": 206, \"race\": \"White\", \"gender\": \"Male\", \"age\": 81, \"Stage_Progress\": false}, {\"id\": 211, \"race\": \"White\", \"gender\": \"Female\", \"age\": 77, \"Stage_Progress\": false}, {\"id\": 212, \"race\": \"Unknown\", \"gender\": \"Female\", \"age\": 86, \"Stage_Progress\": false}, {\"id\": 213, \"race\": \"White\", \"gender\": \"Female\", \"age\": 78, \"Stage_Progress\": false}, {\"id\": 214, \"race\": \"White\", \"gender\": \"Female\", \"age\": 61, \"Stage_Progress\": false}, {\"id\": 215, \"race\": \"White\", \"gender\": \"Female\", \"age\": 74, \"Stage_Progress\": false}, {\"id\": 216, \"race\": \"White\", \"gender\": \"Female\", \"age\": 69, \"Stage_Progress\": false}, {\"id\": 217, \"race\": \"White\", \"gender\": \"Female\", \"age\": 76, \"Stage_Progress\": false}, {\"id\": 219, \"race\": \"White\", \"gender\": \"Female\", \"age\": 69, \"Stage_Progress\": false}, {\"id\": 220, \"race\": \"White\", \"gender\": \"Male\", \"age\": 68, \"Stage_Progress\": false}, {\"id\": 223, \"race\": \"White\", \"gender\": \"Male\", \"age\": 63, \"Stage_Progress\": false}, {\"id\": 224, \"race\": \"White\", \"gender\": \"Female\", \"age\": 69, \"Stage_Progress\": false}, {\"id\": 225, \"race\": \"White\", \"gender\": \"Male\", \"age\": 79, \"Stage_Progress\": false}, {\"id\": 226, \"race\": \"Black\", \"gender\": \"Female\", \"age\": 76, \"Stage_Progress\": false}, {\"id\": 227, \"race\": \"White\", \"gender\": \"Female\", \"age\": 73, \"Stage_Progress\": false}, {\"id\": 229, \"race\": \"Asian\", \"gender\": \"Female\", \"age\": 57, \"Stage_Progress\": false}, {\"id\": 230, \"race\": \"White\", \"gender\": \"Female\", \"age\": 74, \"Stage_Progress\": false}, {\"id\": 232, \"race\": \"White\", \"gender\": \"Female\", \"age\": 80, \"Stage_Progress\": false}, {\"id\": 233, \"race\": \"Black\", \"gender\": \"Male\", \"age\": 65, \"Stage_Progress\": false}, {\"id\": 235, \"race\": \"White\", \"gender\": \"Female\", \"age\": 74, \"Stage_Progress\": false}, {\"id\": 236, \"race\": \"White\", \"gender\": \"Male\", \"age\": 83, \"Stage_Progress\": false}, {\"id\": 238, \"race\": \"White\", \"gender\": \"Female\", \"age\": 55, \"Stage_Progress\": false}, {\"id\": 239, \"race\": \"White\", \"gender\": \"Female\", \"age\": 54, \"Stage_Progress\": false}, {\"id\": 240, \"race\": \"White\", \"gender\": \"Female\", \"age\": 68, \"Stage_Progress\": false}, {\"id\": 241, \"race\": \"White\", \"gender\": \"Female\", \"age\": 73, \"Stage_Progress\": false}, {\"id\": 242, \"race\": \"White\", \"gender\": \"Male\", \"age\": 69, \"Stage_Progress\": false}, {\"id\": 244, \"race\": \"Asian\", \"gender\": \"Female\", \"age\": 60, \"Stage_Progress\": false}, {\"id\": 246, \"race\": \"White\", \"gender\": \"Female\", \"age\": 72, \"Stage_Progress\": false}, {\"id\": 247, \"race\": \"Black\", \"gender\": \"Male\", \"age\": 67, \"Stage_Progress\": false}, {\"id\": 248, \"race\": \"Black\", \"gender\": \"Female\", \"age\": 59, \"Stage_Progress\": false}, {\"id\": 249, \"race\": \"Unknown\", \"gender\": \"Female\", \"age\": 47, \"Stage_Progress\": false}, {\"id\": 250, \"race\": \"White\", \"gender\": \"Female\", \"age\": 79, \"Stage_Progress\": false}, {\"id\": 252, \"race\": \"Asian\", \"gender\": \"Female\", \"age\": 72, \"Stage_Progress\": false}, {\"id\": 253, \"race\": \"White\", \"gender\": \"Male\", \"age\": 81, \"Stage_Progress\": false}, {\"id\": 254, \"race\": \"White\", \"gender\": \"Male\", \"age\": 58, \"Stage_Progress\": false}, {\"id\": 255, \"race\": \"White\", \"gender\": \"Female\", \"age\": 74, \"Stage_Progress\": false}, {\"id\": 258, \"race\": \"Unknown\", \"gender\": \"Female\", \"age\": 57, \"Stage_Progress\": false}, {\"id\": 262, \"race\": \"White\", \"gender\": \"Female\", \"age\": 75, \"Stage_Progress\": false}, {\"id\": 264, \"race\": \"White\", \"gender\": \"Female\", \"age\": 71, \"Stage_Progress\": false}, {\"id\": 265, \"race\": \"Unknown\", \"gender\": \"Female\", \"age\": 85, \"Stage_Progress\": false}, {\"id\": 266, \"race\": \"Asian\", \"gender\": \"Female\", \"age\": 48, \"Stage_Progress\": false}, {\"id\": 268, \"race\": \"White\", \"gender\": \"Female\", \"age\": 69, \"Stage_Progress\": false}, {\"id\": 270, \"race\": \"White\", \"gender\": \"Female\", \"age\": 77, \"Stage_Progress\": false}, {\"id\": 272, \"race\": \"Asian\", \"gender\": \"Male\", \"age\": 72, \"Stage_Progress\": false}, {\"id\": 273, \"race\": \"White\", \"gender\": \"Male\", \"age\": 68, \"Stage_Progress\": false}, {\"id\": 274, \"race\": \"Black\", \"gender\": \"Female\", \"age\": 68, \"Stage_Progress\": false}, {\"id\": 275, \"race\": \"White\", \"gender\": \"Female\", \"age\": 84, \"Stage_Progress\": false}, {\"id\": 276, \"race\": \"White\", \"gender\": \"Male\", \"age\": 57, \"Stage_Progress\": false}, {\"id\": 277, \"race\": \"White\", \"gender\": \"Female\", \"age\": 81, \"Stage_Progress\": false}, {\"id\": 278, \"race\": \"White\", \"gender\": \"Female\", \"age\": 78, \"Stage_Progress\": false}, {\"id\": 279, \"race\": \"Black\", \"gender\": \"Female\", \"age\": 64, \"Stage_Progress\": false}, {\"id\": 282, \"race\": \"White\", \"gender\": \"Male\", \"age\": 74, \"Stage_Progress\": false}, {\"id\": 283, \"race\": \"White\", \"gender\": \"Female\", \"age\": 67, \"Stage_Progress\": false}, {\"id\": 285, \"race\": \"White\", \"gender\": \"Male\", \"age\": 81, \"Stage_Progress\": false}, {\"id\": 286, \"race\": \"White\", \"gender\": \"Male\", \"age\": 85, \"Stage_Progress\": false}, {\"id\": 287, \"race\": \"White\", \"gender\": \"Female\", \"age\": 72, \"Stage_Progress\": false}, {\"id\": 289, \"race\": \"White\", \"gender\": \"Female\", \"age\": 66, \"Stage_Progress\": false}, {\"id\": 290, \"race\": \"White\", \"gender\": \"Male\", \"age\": 70, \"Stage_Progress\": false}, {\"id\": 291, \"race\": \"White\", \"gender\": \"Female\", \"age\": 60, \"Stage_Progress\": false}, {\"id\": 293, \"race\": \"White\", \"gender\": \"Male\", \"age\": 72, \"Stage_Progress\": false}, {\"id\": 294, \"race\": \"Black\", \"gender\": \"Male\", \"age\": 72, \"Stage_Progress\": false}, {\"id\": 296, \"race\": \"White\", \"gender\": \"Female\", \"age\": 66, \"Stage_Progress\": false}, {\"id\": 298, \"race\": \"Asian\", \"gender\": \"Female\", \"age\": 72, \"Stage_Progress\": false}, {\"id\": 299, \"race\": \"Asian\", \"gender\": \"Male\", \"age\": 84, \"Stage_Progress\": false}]}}, {\"mode\": \"vega-lite\"});\n",
       "</script>"
      ],
      "text/plain": [
       "alt.HConcatChart(...)"
      ]
     },
     "execution_count": 178,
     "metadata": {},
     "output_type": "execute_result"
    }
   ],
   "source": [
    "positive = alt.Chart(demo_stage.loc[demo_stage['Stage_Progress'] == True], title=\"CKD Positive\").mark_bar(\n",
    "    cornerRadiusTopLeft=3,\n",
    "    cornerRadiusTopRight=3\n",
    ").encode(\n",
    "    x=alt.X('age:Q', bin=True),\n",
    "    y=alt.Y('count():Q', scale=alt.Scale(\n",
    "        domain=(0, 46)), title='Number of Patients'),\n",
    "    color='race:N'\n",
    ")\n",
    "negative = alt.Chart(demo_stage.loc[demo_stage['Stage_Progress'] == 0], title=\"CKD Negative\").mark_bar(\n",
    "    cornerRadiusTopLeft=3,\n",
    "    cornerRadiusTopRight=3\n",
    ").encode(\n",
    "    x=alt.X('age:Q', bin=True),\n",
    "    y=alt.Y('count():Q', scale=alt.Scale(\n",
    "        domain=(0, 46)), title='Number of Patients'),\n",
    "    color='race:N'\n",
    ")\n",
    "\n",
    "positive | negative"
   ]
  },
  {
   "cell_type": "code",
   "execution_count": 179,
   "id": "bbe8412c",
   "metadata": {
    "ExecuteTime": {
     "end_time": "2021-09-17T03:58:08.300818Z",
     "start_time": "2021-09-17T03:58:08.226013Z"
    }
   },
   "outputs": [
    {
     "data": {
      "text/html": [
       "\n",
       "<div id=\"altair-viz-ff95cdb58c984b3a9378e794009a6ea2\"></div>\n",
       "<script type=\"text/javascript\">\n",
       "  (function(spec, embedOpt){\n",
       "    let outputDiv = document.currentScript.previousElementSibling;\n",
       "    if (outputDiv.id !== \"altair-viz-ff95cdb58c984b3a9378e794009a6ea2\") {\n",
       "      outputDiv = document.getElementById(\"altair-viz-ff95cdb58c984b3a9378e794009a6ea2\");\n",
       "    }\n",
       "    const paths = {\n",
       "      \"vega\": \"https://cdn.jsdelivr.net/npm//vega@5?noext\",\n",
       "      \"vega-lib\": \"https://cdn.jsdelivr.net/npm//vega-lib?noext\",\n",
       "      \"vega-lite\": \"https://cdn.jsdelivr.net/npm//vega-lite@4.8.1?noext\",\n",
       "      \"vega-embed\": \"https://cdn.jsdelivr.net/npm//vega-embed@6?noext\",\n",
       "    };\n",
       "\n",
       "    function loadScript(lib) {\n",
       "      return new Promise(function(resolve, reject) {\n",
       "        var s = document.createElement('script');\n",
       "        s.src = paths[lib];\n",
       "        s.async = true;\n",
       "        s.onload = () => resolve(paths[lib]);\n",
       "        s.onerror = () => reject(`Error loading script: ${paths[lib]}`);\n",
       "        document.getElementsByTagName(\"head\")[0].appendChild(s);\n",
       "      });\n",
       "    }\n",
       "\n",
       "    function showError(err) {\n",
       "      outputDiv.innerHTML = `<div class=\"error\" style=\"color:red;\">${err}</div>`;\n",
       "      throw err;\n",
       "    }\n",
       "\n",
       "    function displayChart(vegaEmbed) {\n",
       "      vegaEmbed(outputDiv, spec, embedOpt)\n",
       "        .catch(err => showError(`Javascript Error: ${err.message}<br>This usually means there's a typo in your chart specification. See the javascript console for the full traceback.`));\n",
       "    }\n",
       "\n",
       "    if(typeof define === \"function\" && define.amd) {\n",
       "      requirejs.config({paths});\n",
       "      require([\"vega-embed\"], displayChart, err => showError(`Error loading script: ${err.message}`));\n",
       "    } else if (typeof vegaEmbed === \"function\") {\n",
       "      displayChart(vegaEmbed);\n",
       "    } else {\n",
       "      loadScript(\"vega\")\n",
       "        .then(() => loadScript(\"vega-lite\"))\n",
       "        .then(() => loadScript(\"vega-embed\"))\n",
       "        .catch(showError)\n",
       "        .then(() => displayChart(vegaEmbed));\n",
       "    }\n",
       "  })({\"config\": {\"view\": {\"continuousWidth\": 400, \"continuousHeight\": 300}}, \"hconcat\": [{\"data\": {\"name\": \"data-d1069766b937429f05117361f9546165\"}, \"mark\": {\"type\": \"bar\", \"cornerRadiusTopLeft\": 3, \"cornerRadiusTopRight\": 3}, \"encoding\": {\"color\": {\"type\": \"nominal\", \"field\": \"race\"}, \"x\": {\"type\": \"quantitative\", \"bin\": true, \"field\": \"age\"}, \"y\": {\"type\": \"quantitative\", \"aggregate\": \"count\", \"scale\": {\"domain\": [0, 46]}, \"title\": \"Number of Patients\"}}, \"title\": \"Male\"}, {\"data\": {\"name\": \"data-84cead9a2e77f1728dbc7c3331751c8b\"}, \"mark\": {\"type\": \"bar\", \"cornerRadiusTopLeft\": 3, \"cornerRadiusTopRight\": 3}, \"encoding\": {\"color\": {\"type\": \"nominal\", \"field\": \"race\"}, \"x\": {\"type\": \"quantitative\", \"bin\": true, \"field\": \"age\"}, \"y\": {\"type\": \"quantitative\", \"aggregate\": \"count\", \"scale\": {\"domain\": [0, 46]}, \"title\": \"Number of Patients\"}}, \"title\": \"Female\"}], \"$schema\": \"https://vega.github.io/schema/vega-lite/v4.8.1.json\", \"datasets\": {\"data-d1069766b937429f05117361f9546165\": [{\"id\": 0, \"race\": \"Unknown\", \"gender\": \"Male\", \"age\": 70, \"Stage_Progress\": true}, {\"id\": 3, \"race\": \"White\", \"gender\": \"Male\", \"age\": 74, \"Stage_Progress\": false}, {\"id\": 5, \"race\": \"Black\", \"gender\": \"Male\", \"age\": 73, \"Stage_Progress\": false}, {\"id\": 10, \"race\": \"White\", \"gender\": \"Male\", \"age\": 66, \"Stage_Progress\": true}, {\"id\": 15, \"race\": \"White\", \"gender\": \"Male\", \"age\": 84, \"Stage_Progress\": true}, {\"id\": 19, \"race\": \"White\", \"gender\": \"Male\", \"age\": 64, \"Stage_Progress\": true}, {\"id\": 22, \"race\": \"White\", \"gender\": \"Male\", \"age\": 70, \"Stage_Progress\": false}, {\"id\": 24, \"race\": \"White\", \"gender\": \"Male\", \"age\": 73, \"Stage_Progress\": false}, {\"id\": 27, \"race\": \"White\", \"gender\": \"Male\", \"age\": 78, \"Stage_Progress\": true}, {\"id\": 28, \"race\": \"White\", \"gender\": \"Male\", \"age\": 81, \"Stage_Progress\": false}, {\"id\": 32, \"race\": \"Black\", \"gender\": \"Male\", \"age\": 71, \"Stage_Progress\": true}, {\"id\": 36, \"race\": \"White\", \"gender\": \"Male\", \"age\": 75, \"Stage_Progress\": false}, {\"id\": 39, \"race\": \"Black\", \"gender\": \"Male\", \"age\": 58, \"Stage_Progress\": true}, {\"id\": 42, \"race\": \"White\", \"gender\": \"Male\", \"age\": 74, \"Stage_Progress\": true}, {\"id\": 47, \"race\": \"White\", \"gender\": \"Male\", \"age\": 76, \"Stage_Progress\": false}, {\"id\": 49, \"race\": \"White\", \"gender\": \"Male\", \"age\": 66, \"Stage_Progress\": false}, {\"id\": 50, \"race\": \"White\", \"gender\": \"Male\", \"age\": 73, \"Stage_Progress\": true}, {\"id\": 53, \"race\": \"White\", \"gender\": \"Male\", \"age\": 79, \"Stage_Progress\": false}, {\"id\": 54, \"race\": \"White\", \"gender\": \"Male\", \"age\": 80, \"Stage_Progress\": false}, {\"id\": 55, \"race\": \"White\", \"gender\": \"Male\", \"age\": 46, \"Stage_Progress\": false}, {\"id\": 57, \"race\": \"White\", \"gender\": \"Male\", \"age\": 67, \"Stage_Progress\": true}, {\"id\": 58, \"race\": \"White\", \"gender\": \"Male\", \"age\": 79, \"Stage_Progress\": true}, {\"id\": 59, \"race\": \"White\", \"gender\": \"Male\", \"age\": 59, \"Stage_Progress\": false}, {\"id\": 60, \"race\": \"White\", \"gender\": \"Male\", \"age\": 73, \"Stage_Progress\": false}, {\"id\": 62, \"race\": \"White\", \"gender\": \"Male\", \"age\": 82, \"Stage_Progress\": false}, {\"id\": 64, \"race\": \"White\", \"gender\": \"Male\", \"age\": 82, \"Stage_Progress\": false}, {\"id\": 66, \"race\": \"White\", \"gender\": \"Male\", \"age\": 79, \"Stage_Progress\": false}, {\"id\": 70, \"race\": \"White\", \"gender\": \"Male\", \"age\": 79, \"Stage_Progress\": true}, {\"id\": 72, \"race\": \"White\", \"gender\": \"Male\", \"age\": 81, \"Stage_Progress\": true}, {\"id\": 78, \"race\": \"White\", \"gender\": \"Male\", \"age\": 82, \"Stage_Progress\": false}, {\"id\": 79, \"race\": \"White\", \"gender\": \"Male\", \"age\": 76, \"Stage_Progress\": false}, {\"id\": 81, \"race\": \"White\", \"gender\": \"Male\", \"age\": 63, \"Stage_Progress\": true}, {\"id\": 82, \"race\": \"White\", \"gender\": \"Male\", \"age\": 83, \"Stage_Progress\": false}, {\"id\": 83, \"race\": \"White\", \"gender\": \"Male\", \"age\": 49, \"Stage_Progress\": false}, {\"id\": 85, \"race\": \"Hispanic\", \"gender\": \"Male\", \"age\": 58, \"Stage_Progress\": true}, {\"id\": 86, \"race\": \"White\", \"gender\": \"Male\", \"age\": 48, \"Stage_Progress\": true}, {\"id\": 88, \"race\": \"Unknown\", \"gender\": \"Male\", \"age\": 66, \"Stage_Progress\": true}, {\"id\": 90, \"race\": \"White\", \"gender\": \"Male\", \"age\": 80, \"Stage_Progress\": false}, {\"id\": 93, \"race\": \"White\", \"gender\": \"Male\", \"age\": 74, \"Stage_Progress\": false}, {\"id\": 97, \"race\": \"White\", \"gender\": \"Male\", \"age\": 59, \"Stage_Progress\": true}, {\"id\": 104, \"race\": \"White\", \"gender\": \"Male\", \"age\": 57, \"Stage_Progress\": true}, {\"id\": 105, \"race\": \"White\", \"gender\": \"Male\", \"age\": 68, \"Stage_Progress\": false}, {\"id\": 106, \"race\": \"Asian\", \"gender\": \"Male\", \"age\": 52, \"Stage_Progress\": true}, {\"id\": 107, \"race\": \"Black\", \"gender\": \"Male\", \"age\": 78, \"Stage_Progress\": false}, {\"id\": 108, \"race\": \"Black\", \"gender\": \"Male\", \"age\": 82, \"Stage_Progress\": false}, {\"id\": 110, \"race\": \"Unknown\", \"gender\": \"Male\", \"age\": 85, \"Stage_Progress\": true}, {\"id\": 113, \"race\": \"White\", \"gender\": \"Male\", \"age\": 80, \"Stage_Progress\": true}, {\"id\": 121, \"race\": \"White\", \"gender\": \"Male\", \"age\": 76, \"Stage_Progress\": false}, {\"id\": 126, \"race\": \"White\", \"gender\": \"Male\", \"age\": 74, \"Stage_Progress\": false}, {\"id\": 128, \"race\": \"White\", \"gender\": \"Male\", \"age\": 78, \"Stage_Progress\": false}, {\"id\": 129, \"race\": \"Black\", \"gender\": \"Male\", \"age\": 72, \"Stage_Progress\": true}, {\"id\": 130, \"race\": \"White\", \"gender\": \"Male\", \"age\": 61, \"Stage_Progress\": true}, {\"id\": 131, \"race\": \"White\", \"gender\": \"Male\", \"age\": 85, \"Stage_Progress\": false}, {\"id\": 132, \"race\": \"Black\", \"gender\": \"Male\", \"age\": 62, \"Stage_Progress\": false}, {\"id\": 133, \"race\": \"White\", \"gender\": \"Male\", \"age\": 77, \"Stage_Progress\": false}, {\"id\": 135, \"race\": \"White\", \"gender\": \"Male\", \"age\": 84, \"Stage_Progress\": false}, {\"id\": 137, \"race\": \"Hispanic\", \"gender\": \"Male\", \"age\": 80, \"Stage_Progress\": false}, {\"id\": 141, \"race\": \"White\", \"gender\": \"Male\", \"age\": 79, \"Stage_Progress\": false}, {\"id\": 142, \"race\": \"White\", \"gender\": \"Male\", \"age\": 84, \"Stage_Progress\": true}, {\"id\": 145, \"race\": \"White\", \"gender\": \"Male\", \"age\": 64, \"Stage_Progress\": true}, {\"id\": 146, \"race\": \"White\", \"gender\": \"Male\", \"age\": 74, \"Stage_Progress\": true}, {\"id\": 151, \"race\": \"White\", \"gender\": \"Male\", \"age\": 76, \"Stage_Progress\": false}, {\"id\": 155, \"race\": \"White\", \"gender\": \"Male\", \"age\": 71, \"Stage_Progress\": true}, {\"id\": 158, \"race\": \"Black\", \"gender\": \"Male\", \"age\": 72, \"Stage_Progress\": false}, {\"id\": 159, \"race\": \"White\", \"gender\": \"Male\", \"age\": 64, \"Stage_Progress\": true}, {\"id\": 161, \"race\": \"Unknown\", \"gender\": \"Male\", \"age\": 67, \"Stage_Progress\": false}, {\"id\": 163, \"race\": \"White\", \"gender\": \"Male\", \"age\": 61, \"Stage_Progress\": true}, {\"id\": 164, \"race\": \"White\", \"gender\": \"Male\", \"age\": 84, \"Stage_Progress\": false}, {\"id\": 165, \"race\": \"White\", \"gender\": \"Male\", \"age\": 76, \"Stage_Progress\": true}, {\"id\": 166, \"race\": \"Unknown\", \"gender\": \"Male\", \"age\": 64, \"Stage_Progress\": false}, {\"id\": 171, \"race\": \"White\", \"gender\": \"Male\", \"age\": 64, \"Stage_Progress\": false}, {\"id\": 172, \"race\": \"White\", \"gender\": \"Male\", \"age\": 77, \"Stage_Progress\": false}, {\"id\": 173, \"race\": \"White\", \"gender\": \"Male\", \"age\": 70, \"Stage_Progress\": false}, {\"id\": 175, \"race\": \"White\", \"gender\": \"Male\", \"age\": 73, \"Stage_Progress\": false}, {\"id\": 176, \"race\": \"White\", \"gender\": \"Male\", \"age\": 71, \"Stage_Progress\": true}, {\"id\": 177, \"race\": \"White\", \"gender\": \"Male\", \"age\": 63, \"Stage_Progress\": true}, {\"id\": 179, \"race\": \"White\", \"gender\": \"Male\", \"age\": 82, \"Stage_Progress\": false}, {\"id\": 180, \"race\": \"White\", \"gender\": \"Male\", \"age\": 68, \"Stage_Progress\": false}, {\"id\": 182, \"race\": \"White\", \"gender\": \"Male\", \"age\": 67, \"Stage_Progress\": true}, {\"id\": 187, \"race\": \"White\", \"gender\": \"Male\", \"age\": 73, \"Stage_Progress\": false}, {\"id\": 190, \"race\": \"Black\", \"gender\": \"Male\", \"age\": 62, \"Stage_Progress\": false}, {\"id\": 191, \"race\": \"White\", \"gender\": \"Male\", \"age\": 56, \"Stage_Progress\": false}, {\"id\": 194, \"race\": \"Unknown\", \"gender\": \"Male\", \"age\": 67, \"Stage_Progress\": true}, {\"id\": 197, \"race\": \"Black\", \"gender\": \"Male\", \"age\": 69, \"Stage_Progress\": true}, {\"id\": 201, \"race\": \"White\", \"gender\": \"Male\", \"age\": 83, \"Stage_Progress\": true}, {\"id\": 206, \"race\": \"White\", \"gender\": \"Male\", \"age\": 81, \"Stage_Progress\": false}, {\"id\": 207, \"race\": \"Unknown\", \"gender\": \"Male\", \"age\": 66, \"Stage_Progress\": true}, {\"id\": 208, \"race\": \"White\", \"gender\": \"Male\", \"age\": 47, \"Stage_Progress\": true}, {\"id\": 209, \"race\": \"White\", \"gender\": \"Male\", \"age\": 68, \"Stage_Progress\": true}, {\"id\": 210, \"race\": \"White\", \"gender\": \"Male\", \"age\": 56, \"Stage_Progress\": true}, {\"id\": 220, \"race\": \"White\", \"gender\": \"Male\", \"age\": 68, \"Stage_Progress\": false}, {\"id\": 221, \"race\": \"White\", \"gender\": \"Male\", \"age\": 57, \"Stage_Progress\": true}, {\"id\": 222, \"race\": \"Asian\", \"gender\": \"Male\", \"age\": 63, \"Stage_Progress\": true}, {\"id\": 223, \"race\": \"White\", \"gender\": \"Male\", \"age\": 63, \"Stage_Progress\": false}, {\"id\": 225, \"race\": \"White\", \"gender\": \"Male\", \"age\": 79, \"Stage_Progress\": false}, {\"id\": 228, \"race\": \"White\", \"gender\": \"Male\", \"age\": 84, \"Stage_Progress\": true}, {\"id\": 231, \"race\": \"Unknown\", \"gender\": \"Male\", \"age\": 80, \"Stage_Progress\": true}, {\"id\": 233, \"race\": \"Black\", \"gender\": \"Male\", \"age\": 65, \"Stage_Progress\": false}, {\"id\": 234, \"race\": \"White\", \"gender\": \"Male\", \"age\": 84, \"Stage_Progress\": true}, {\"id\": 236, \"race\": \"White\", \"gender\": \"Male\", \"age\": 83, \"Stage_Progress\": false}, {\"id\": 237, \"race\": \"White\", \"gender\": \"Male\", \"age\": 74, \"Stage_Progress\": true}, {\"id\": 242, \"race\": \"White\", \"gender\": \"Male\", \"age\": 69, \"Stage_Progress\": false}, {\"id\": 247, \"race\": \"Black\", \"gender\": \"Male\", \"age\": 67, \"Stage_Progress\": false}, {\"id\": 251, \"race\": \"White\", \"gender\": \"Male\", \"age\": 70, \"Stage_Progress\": true}, {\"id\": 253, \"race\": \"White\", \"gender\": \"Male\", \"age\": 81, \"Stage_Progress\": false}, {\"id\": 254, \"race\": \"White\", \"gender\": \"Male\", \"age\": 58, \"Stage_Progress\": false}, {\"id\": 256, \"race\": \"White\", \"gender\": \"Male\", \"age\": 66, \"Stage_Progress\": true}, {\"id\": 257, \"race\": \"White\", \"gender\": \"Male\", \"age\": 74, \"Stage_Progress\": true}, {\"id\": 259, \"race\": \"White\", \"gender\": \"Male\", \"age\": 66, \"Stage_Progress\": true}, {\"id\": 267, \"race\": \"White\", \"gender\": \"Male\", \"age\": 71, \"Stage_Progress\": true}, {\"id\": 271, \"race\": \"White\", \"gender\": \"Male\", \"age\": 55, \"Stage_Progress\": true}, {\"id\": 272, \"race\": \"Asian\", \"gender\": \"Male\", \"age\": 72, \"Stage_Progress\": false}, {\"id\": 273, \"race\": \"White\", \"gender\": \"Male\", \"age\": 68, \"Stage_Progress\": false}, {\"id\": 276, \"race\": \"White\", \"gender\": \"Male\", \"age\": 57, \"Stage_Progress\": false}, {\"id\": 281, \"race\": \"Black\", \"gender\": \"Male\", \"age\": 51, \"Stage_Progress\": true}, {\"id\": 282, \"race\": \"White\", \"gender\": \"Male\", \"age\": 74, \"Stage_Progress\": false}, {\"id\": 285, \"race\": \"White\", \"gender\": \"Male\", \"age\": 81, \"Stage_Progress\": false}, {\"id\": 286, \"race\": \"White\", \"gender\": \"Male\", \"age\": 85, \"Stage_Progress\": false}, {\"id\": 288, \"race\": \"White\", \"gender\": \"Male\", \"age\": 74, \"Stage_Progress\": true}, {\"id\": 290, \"race\": \"White\", \"gender\": \"Male\", \"age\": 70, \"Stage_Progress\": false}, {\"id\": 293, \"race\": \"White\", \"gender\": \"Male\", \"age\": 72, \"Stage_Progress\": false}, {\"id\": 294, \"race\": \"Black\", \"gender\": \"Male\", \"age\": 72, \"Stage_Progress\": false}, {\"id\": 297, \"race\": \"Unknown\", \"gender\": \"Male\", \"age\": 80, \"Stage_Progress\": true}, {\"id\": 299, \"race\": \"Asian\", \"gender\": \"Male\", \"age\": 84, \"Stage_Progress\": false}], \"data-84cead9a2e77f1728dbc7c3331751c8b\": [{\"id\": 1, \"race\": \"White\", \"gender\": \"Female\", \"age\": 71, \"Stage_Progress\": false}, {\"id\": 2, \"race\": \"White\", \"gender\": \"Female\", \"age\": 57, \"Stage_Progress\": true}, {\"id\": 4, \"race\": \"White\", \"gender\": \"Female\", \"age\": 50, \"Stage_Progress\": true}, {\"id\": 6, \"race\": \"White\", \"gender\": \"Female\", \"age\": 60, \"Stage_Progress\": false}, {\"id\": 7, \"race\": \"Asian\", \"gender\": \"Female\", \"age\": 62, \"Stage_Progress\": false}, {\"id\": 8, \"race\": \"White\", \"gender\": \"Female\", \"age\": 68, \"Stage_Progress\": true}, {\"id\": 9, \"race\": \"White\", \"gender\": \"Female\", \"age\": 80, \"Stage_Progress\": false}, {\"id\": 11, \"race\": \"White\", \"gender\": \"Female\", \"age\": 71, \"Stage_Progress\": true}, {\"id\": 12, \"race\": \"White\", \"gender\": \"Female\", \"age\": 80, \"Stage_Progress\": false}, {\"id\": 13, \"race\": \"White\", \"gender\": \"Female\", \"age\": 67, \"Stage_Progress\": false}, {\"id\": 14, \"race\": \"White\", \"gender\": \"Female\", \"age\": 81, \"Stage_Progress\": false}, {\"id\": 16, \"race\": \"White\", \"gender\": \"Female\", \"age\": 80, \"Stage_Progress\": false}, {\"id\": 17, \"race\": \"Black\", \"gender\": \"Female\", \"age\": 79, \"Stage_Progress\": true}, {\"id\": 18, \"race\": \"White\", \"gender\": \"Female\", \"age\": 67, \"Stage_Progress\": true}, {\"id\": 20, \"race\": \"Hispanic\", \"gender\": \"Female\", \"age\": 76, \"Stage_Progress\": false}, {\"id\": 21, \"race\": \"White\", \"gender\": \"Female\", \"age\": 64, \"Stage_Progress\": false}, {\"id\": 23, \"race\": \"White\", \"gender\": \"Female\", \"age\": 66, \"Stage_Progress\": false}, {\"id\": 25, \"race\": \"White\", \"gender\": \"Female\", \"age\": 63, \"Stage_Progress\": true}, {\"id\": 26, \"race\": \"White\", \"gender\": \"Female\", \"age\": 46, \"Stage_Progress\": false}, {\"id\": 29, \"race\": \"Hispanic\", \"gender\": \"Female\", \"age\": 73, \"Stage_Progress\": false}, {\"id\": 30, \"race\": \"Unknown\", \"gender\": \"Female\", \"age\": 84, \"Stage_Progress\": true}, {\"id\": 31, \"race\": \"White\", \"gender\": \"Female\", \"age\": 64, \"Stage_Progress\": true}, {\"id\": 33, \"race\": \"White\", \"gender\": \"Female\", \"age\": 80, \"Stage_Progress\": true}, {\"id\": 34, \"race\": \"White\", \"gender\": \"Female\", \"age\": 85, \"Stage_Progress\": false}, {\"id\": 35, \"race\": \"White\", \"gender\": \"Female\", \"age\": 74, \"Stage_Progress\": false}, {\"id\": 37, \"race\": \"White\", \"gender\": \"Female\", \"age\": 74, \"Stage_Progress\": false}, {\"id\": 38, \"race\": \"Asian\", \"gender\": \"Female\", \"age\": 59, \"Stage_Progress\": false}, {\"id\": 40, \"race\": \"White\", \"gender\": \"Female\", \"age\": 55, \"Stage_Progress\": false}, {\"id\": 41, \"race\": \"White\", \"gender\": \"Female\", \"age\": 71, \"Stage_Progress\": false}, {\"id\": 43, \"race\": \"White\", \"gender\": \"Female\", \"age\": 69, \"Stage_Progress\": true}, {\"id\": 44, \"race\": \"White\", \"gender\": \"Female\", \"age\": 76, \"Stage_Progress\": true}, {\"id\": 45, \"race\": \"Asian\", \"gender\": \"Female\", \"age\": 70, \"Stage_Progress\": true}, {\"id\": 46, \"race\": \"Black\", \"gender\": \"Female\", \"age\": 55, \"Stage_Progress\": false}, {\"id\": 48, \"race\": \"White\", \"gender\": \"Female\", \"age\": 77, \"Stage_Progress\": true}, {\"id\": 51, \"race\": \"Black\", \"gender\": \"Female\", \"age\": 79, \"Stage_Progress\": false}, {\"id\": 52, \"race\": \"White\", \"gender\": \"Female\", \"age\": 60, \"Stage_Progress\": false}, {\"id\": 56, \"race\": \"White\", \"gender\": \"Female\", \"age\": 69, \"Stage_Progress\": false}, {\"id\": 61, \"race\": \"Unknown\", \"gender\": \"Female\", \"age\": 62, \"Stage_Progress\": false}, {\"id\": 63, \"race\": \"White\", \"gender\": \"Female\", \"age\": 57, \"Stage_Progress\": false}, {\"id\": 65, \"race\": \"White\", \"gender\": \"Female\", \"age\": 54, \"Stage_Progress\": true}, {\"id\": 67, \"race\": \"White\", \"gender\": \"Female\", \"age\": 72, \"Stage_Progress\": false}, {\"id\": 68, \"race\": \"White\", \"gender\": \"Female\", \"age\": 50, \"Stage_Progress\": false}, {\"id\": 69, \"race\": \"Unknown\", \"gender\": \"Female\", \"age\": 78, \"Stage_Progress\": false}, {\"id\": 71, \"race\": \"White\", \"gender\": \"Female\", \"age\": 84, \"Stage_Progress\": false}, {\"id\": 73, \"race\": \"White\", \"gender\": \"Female\", \"age\": 61, \"Stage_Progress\": false}, {\"id\": 74, \"race\": \"Asian\", \"gender\": \"Female\", \"age\": 68, \"Stage_Progress\": true}, {\"id\": 75, \"race\": \"White\", \"gender\": \"Female\", \"age\": 84, \"Stage_Progress\": false}, {\"id\": 76, \"race\": \"Hispanic\", \"gender\": \"Female\", \"age\": 71, \"Stage_Progress\": false}, {\"id\": 77, \"race\": \"Unknown\", \"gender\": \"Female\", \"age\": 81, \"Stage_Progress\": false}, {\"id\": 80, \"race\": \"White\", \"gender\": \"Female\", \"age\": 77, \"Stage_Progress\": false}, {\"id\": 84, \"race\": \"Unknown\", \"gender\": \"Female\", \"age\": 65, \"Stage_Progress\": false}, {\"id\": 87, \"race\": \"White\", \"gender\": \"Female\", \"age\": 84, \"Stage_Progress\": true}, {\"id\": 89, \"race\": \"White\", \"gender\": \"Female\", \"age\": 77, \"Stage_Progress\": true}, {\"id\": 91, \"race\": \"White\", \"gender\": \"Female\", \"age\": 61, \"Stage_Progress\": false}, {\"id\": 92, \"race\": \"White\", \"gender\": \"Female\", \"age\": 67, \"Stage_Progress\": false}, {\"id\": 94, \"race\": \"Unknown\", \"gender\": \"Female\", \"age\": 69, \"Stage_Progress\": false}, {\"id\": 95, \"race\": \"White\", \"gender\": \"Female\", \"age\": 65, \"Stage_Progress\": false}, {\"id\": 96, \"race\": \"Unknown\", \"gender\": \"Female\", \"age\": 71, \"Stage_Progress\": false}, {\"id\": 98, \"race\": \"White\", \"gender\": \"Female\", \"age\": 75, \"Stage_Progress\": false}, {\"id\": 99, \"race\": \"Black\", \"gender\": \"Female\", \"age\": 73, \"Stage_Progress\": false}, {\"id\": 100, \"race\": \"White\", \"gender\": \"Female\", \"age\": 68, \"Stage_Progress\": false}, {\"id\": 101, \"race\": \"White\", \"gender\": \"Female\", \"age\": 65, \"Stage_Progress\": true}, {\"id\": 102, \"race\": \"White\", \"gender\": \"Female\", \"age\": 85, \"Stage_Progress\": false}, {\"id\": 103, \"race\": \"White\", \"gender\": \"Female\", \"age\": 84, \"Stage_Progress\": true}, {\"id\": 109, \"race\": \"White\", \"gender\": \"Female\", \"age\": 68, \"Stage_Progress\": true}, {\"id\": 111, \"race\": \"Asian\", \"gender\": \"Female\", \"age\": 64, \"Stage_Progress\": false}, {\"id\": 112, \"race\": \"Unknown\", \"gender\": \"Female\", \"age\": 60, \"Stage_Progress\": false}, {\"id\": 114, \"race\": \"White\", \"gender\": \"Female\", \"age\": 58, \"Stage_Progress\": false}, {\"id\": 115, \"race\": \"Unknown\", \"gender\": \"Female\", \"age\": 77, \"Stage_Progress\": false}, {\"id\": 116, \"race\": \"White\", \"gender\": \"Female\", \"age\": 59, \"Stage_Progress\": false}, {\"id\": 117, \"race\": \"White\", \"gender\": \"Female\", \"age\": 73, \"Stage_Progress\": true}, {\"id\": 118, \"race\": \"Hispanic\", \"gender\": \"Female\", \"age\": 61, \"Stage_Progress\": true}, {\"id\": 119, \"race\": \"White\", \"gender\": \"Female\", \"age\": 77, \"Stage_Progress\": true}, {\"id\": 120, \"race\": \"White\", \"gender\": \"Female\", \"age\": 72, \"Stage_Progress\": false}, {\"id\": 122, \"race\": \"White\", \"gender\": \"Female\", \"age\": 66, \"Stage_Progress\": true}, {\"id\": 123, \"race\": \"White\", \"gender\": \"Female\", \"age\": 69, \"Stage_Progress\": false}, {\"id\": 124, \"race\": \"White\", \"gender\": \"Female\", \"age\": 67, \"Stage_Progress\": false}, {\"id\": 125, \"race\": \"White\", \"gender\": \"Female\", \"age\": 78, \"Stage_Progress\": false}, {\"id\": 127, \"race\": \"White\", \"gender\": \"Female\", \"age\": 55, \"Stage_Progress\": true}, {\"id\": 134, \"race\": \"White\", \"gender\": \"Female\", \"age\": 57, \"Stage_Progress\": false}, {\"id\": 136, \"race\": \"Asian\", \"gender\": \"Female\", \"age\": 65, \"Stage_Progress\": false}, {\"id\": 138, \"race\": \"White\", \"gender\": \"Female\", \"age\": 70, \"Stage_Progress\": false}, {\"id\": 139, \"race\": \"White\", \"gender\": \"Female\", \"age\": 79, \"Stage_Progress\": true}, {\"id\": 140, \"race\": \"Unknown\", \"gender\": \"Female\", \"age\": 75, \"Stage_Progress\": false}, {\"id\": 143, \"race\": \"White\", \"gender\": \"Female\", \"age\": 67, \"Stage_Progress\": false}, {\"id\": 144, \"race\": \"White\", \"gender\": \"Female\", \"age\": 61, \"Stage_Progress\": false}, {\"id\": 147, \"race\": \"Black\", \"gender\": \"Female\", \"age\": 68, \"Stage_Progress\": false}, {\"id\": 148, \"race\": \"White\", \"gender\": \"Female\", \"age\": 55, \"Stage_Progress\": false}, {\"id\": 149, \"race\": \"White\", \"gender\": \"Female\", \"age\": 82, \"Stage_Progress\": false}, {\"id\": 150, \"race\": \"White\", \"gender\": \"Female\", \"age\": 64, \"Stage_Progress\": false}, {\"id\": 152, \"race\": \"Black\", \"gender\": \"Female\", \"age\": 74, \"Stage_Progress\": false}, {\"id\": 153, \"race\": \"White\", \"gender\": \"Female\", \"age\": 77, \"Stage_Progress\": false}, {\"id\": 154, \"race\": \"White\", \"gender\": \"Female\", \"age\": 70, \"Stage_Progress\": true}, {\"id\": 156, \"race\": \"White\", \"gender\": \"Female\", \"age\": 72, \"Stage_Progress\": false}, {\"id\": 157, \"race\": \"White\", \"gender\": \"Female\", \"age\": 60, \"Stage_Progress\": false}, {\"id\": 160, \"race\": \"White\", \"gender\": \"Female\", \"age\": 70, \"Stage_Progress\": true}, {\"id\": 162, \"race\": \"White\", \"gender\": \"Female\", \"age\": 70, \"Stage_Progress\": false}, {\"id\": 167, \"race\": \"White\", \"gender\": \"Female\", \"age\": 73, \"Stage_Progress\": false}, {\"id\": 168, \"race\": \"White\", \"gender\": \"Female\", \"age\": 84, \"Stage_Progress\": false}, {\"id\": 169, \"race\": \"White\", \"gender\": \"Female\", \"age\": 76, \"Stage_Progress\": false}, {\"id\": 170, \"race\": \"White\", \"gender\": \"Female\", \"age\": 84, \"Stage_Progress\": false}, {\"id\": 174, \"race\": \"White\", \"gender\": \"Female\", \"age\": 80, \"Stage_Progress\": false}, {\"id\": 178, \"race\": \"White\", \"gender\": \"Female\", \"age\": 81, \"Stage_Progress\": true}, {\"id\": 181, \"race\": \"Asian\", \"gender\": \"Female\", \"age\": 62, \"Stage_Progress\": false}, {\"id\": 183, \"race\": \"White\", \"gender\": \"Female\", \"age\": 56, \"Stage_Progress\": true}, {\"id\": 184, \"race\": \"White\", \"gender\": \"Female\", \"age\": 68, \"Stage_Progress\": false}, {\"id\": 185, \"race\": \"Unknown\", \"gender\": \"Female\", \"age\": 69, \"Stage_Progress\": false}, {\"id\": 186, \"race\": \"White\", \"gender\": \"Female\", \"age\": 71, \"Stage_Progress\": false}, {\"id\": 188, \"race\": \"White\", \"gender\": \"Female\", \"age\": 75, \"Stage_Progress\": false}, {\"id\": 189, \"race\": \"White\", \"gender\": \"Female\", \"age\": 64, \"Stage_Progress\": true}, {\"id\": 192, \"race\": \"White\", \"gender\": \"Female\", \"age\": 64, \"Stage_Progress\": false}, {\"id\": 193, \"race\": \"White\", \"gender\": \"Female\", \"age\": 64, \"Stage_Progress\": false}, {\"id\": 195, \"race\": \"White\", \"gender\": \"Female\", \"age\": 81, \"Stage_Progress\": false}, {\"id\": 196, \"race\": \"White\", \"gender\": \"Female\", \"age\": 74, \"Stage_Progress\": false}, {\"id\": 198, \"race\": \"White\", \"gender\": \"Female\", \"age\": 65, \"Stage_Progress\": false}, {\"id\": 199, \"race\": \"White\", \"gender\": \"Female\", \"age\": 73, \"Stage_Progress\": false}, {\"id\": 200, \"race\": \"White\", \"gender\": \"Female\", \"age\": 74, \"Stage_Progress\": true}, {\"id\": 202, \"race\": \"White\", \"gender\": \"Female\", \"age\": 61, \"Stage_Progress\": false}, {\"id\": 203, \"race\": \"White\", \"gender\": \"Female\", \"age\": 83, \"Stage_Progress\": false}, {\"id\": 204, \"race\": \"White\", \"gender\": \"Female\", \"age\": 84, \"Stage_Progress\": false}, {\"id\": 205, \"race\": \"White\", \"gender\": \"Female\", \"age\": 80, \"Stage_Progress\": false}, {\"id\": 211, \"race\": \"White\", \"gender\": \"Female\", \"age\": 77, \"Stage_Progress\": false}, {\"id\": 212, \"race\": \"Unknown\", \"gender\": \"Female\", \"age\": 86, \"Stage_Progress\": false}, {\"id\": 213, \"race\": \"White\", \"gender\": \"Female\", \"age\": 78, \"Stage_Progress\": false}, {\"id\": 214, \"race\": \"White\", \"gender\": \"Female\", \"age\": 61, \"Stage_Progress\": false}, {\"id\": 215, \"race\": \"White\", \"gender\": \"Female\", \"age\": 74, \"Stage_Progress\": false}, {\"id\": 216, \"race\": \"White\", \"gender\": \"Female\", \"age\": 69, \"Stage_Progress\": false}, {\"id\": 217, \"race\": \"White\", \"gender\": \"Female\", \"age\": 76, \"Stage_Progress\": false}, {\"id\": 218, \"race\": \"Hispanic\", \"gender\": \"Female\", \"age\": 58, \"Stage_Progress\": true}, {\"id\": 219, \"race\": \"White\", \"gender\": \"Female\", \"age\": 69, \"Stage_Progress\": false}, {\"id\": 224, \"race\": \"White\", \"gender\": \"Female\", \"age\": 69, \"Stage_Progress\": false}, {\"id\": 226, \"race\": \"Black\", \"gender\": \"Female\", \"age\": 76, \"Stage_Progress\": false}, {\"id\": 227, \"race\": \"White\", \"gender\": \"Female\", \"age\": 73, \"Stage_Progress\": false}, {\"id\": 229, \"race\": \"Asian\", \"gender\": \"Female\", \"age\": 57, \"Stage_Progress\": false}, {\"id\": 230, \"race\": \"White\", \"gender\": \"Female\", \"age\": 74, \"Stage_Progress\": false}, {\"id\": 232, \"race\": \"White\", \"gender\": \"Female\", \"age\": 80, \"Stage_Progress\": false}, {\"id\": 235, \"race\": \"White\", \"gender\": \"Female\", \"age\": 74, \"Stage_Progress\": false}, {\"id\": 238, \"race\": \"White\", \"gender\": \"Female\", \"age\": 55, \"Stage_Progress\": false}, {\"id\": 239, \"race\": \"White\", \"gender\": \"Female\", \"age\": 54, \"Stage_Progress\": false}, {\"id\": 240, \"race\": \"White\", \"gender\": \"Female\", \"age\": 68, \"Stage_Progress\": false}, {\"id\": 241, \"race\": \"White\", \"gender\": \"Female\", \"age\": 73, \"Stage_Progress\": false}, {\"id\": 243, \"race\": \"Unknown\", \"gender\": \"Female\", \"age\": 46, \"Stage_Progress\": true}, {\"id\": 244, \"race\": \"Asian\", \"gender\": \"Female\", \"age\": 60, \"Stage_Progress\": false}, {\"id\": 245, \"race\": \"White\", \"gender\": \"Female\", \"age\": 61, \"Stage_Progress\": true}, {\"id\": 246, \"race\": \"White\", \"gender\": \"Female\", \"age\": 72, \"Stage_Progress\": false}, {\"id\": 248, \"race\": \"Black\", \"gender\": \"Female\", \"age\": 59, \"Stage_Progress\": false}, {\"id\": 249, \"race\": \"Unknown\", \"gender\": \"Female\", \"age\": 47, \"Stage_Progress\": false}, {\"id\": 250, \"race\": \"White\", \"gender\": \"Female\", \"age\": 79, \"Stage_Progress\": false}, {\"id\": 252, \"race\": \"Asian\", \"gender\": \"Female\", \"age\": 72, \"Stage_Progress\": false}, {\"id\": 255, \"race\": \"White\", \"gender\": \"Female\", \"age\": 74, \"Stage_Progress\": false}, {\"id\": 258, \"race\": \"Unknown\", \"gender\": \"Female\", \"age\": 57, \"Stage_Progress\": false}, {\"id\": 260, \"race\": \"White\", \"gender\": \"Female\", \"age\": 79, \"Stage_Progress\": true}, {\"id\": 261, \"race\": \"Asian\", \"gender\": \"Female\", \"age\": 80, \"Stage_Progress\": true}, {\"id\": 262, \"race\": \"White\", \"gender\": \"Female\", \"age\": 75, \"Stage_Progress\": false}, {\"id\": 263, \"race\": \"White\", \"gender\": \"Female\", \"age\": 73, \"Stage_Progress\": true}, {\"id\": 264, \"race\": \"White\", \"gender\": \"Female\", \"age\": 71, \"Stage_Progress\": false}, {\"id\": 265, \"race\": \"Unknown\", \"gender\": \"Female\", \"age\": 85, \"Stage_Progress\": false}, {\"id\": 266, \"race\": \"Asian\", \"gender\": \"Female\", \"age\": 48, \"Stage_Progress\": false}, {\"id\": 268, \"race\": \"White\", \"gender\": \"Female\", \"age\": 69, \"Stage_Progress\": false}, {\"id\": 269, \"race\": \"White\", \"gender\": \"Female\", \"age\": 72, \"Stage_Progress\": true}, {\"id\": 270, \"race\": \"White\", \"gender\": \"Female\", \"age\": 77, \"Stage_Progress\": false}, {\"id\": 274, \"race\": \"Black\", \"gender\": \"Female\", \"age\": 68, \"Stage_Progress\": false}, {\"id\": 275, \"race\": \"White\", \"gender\": \"Female\", \"age\": 84, \"Stage_Progress\": false}, {\"id\": 277, \"race\": \"White\", \"gender\": \"Female\", \"age\": 81, \"Stage_Progress\": false}, {\"id\": 278, \"race\": \"White\", \"gender\": \"Female\", \"age\": 78, \"Stage_Progress\": false}, {\"id\": 279, \"race\": \"Black\", \"gender\": \"Female\", \"age\": 64, \"Stage_Progress\": false}, {\"id\": 280, \"race\": \"Unknown\", \"gender\": \"Female\", \"age\": 84, \"Stage_Progress\": true}, {\"id\": 283, \"race\": \"White\", \"gender\": \"Female\", \"age\": 67, \"Stage_Progress\": false}, {\"id\": 284, \"race\": \"White\", \"gender\": \"Female\", \"age\": 71, \"Stage_Progress\": true}, {\"id\": 287, \"race\": \"White\", \"gender\": \"Female\", \"age\": 72, \"Stage_Progress\": false}, {\"id\": 289, \"race\": \"White\", \"gender\": \"Female\", \"age\": 66, \"Stage_Progress\": false}, {\"id\": 291, \"race\": \"White\", \"gender\": \"Female\", \"age\": 60, \"Stage_Progress\": false}, {\"id\": 292, \"race\": \"White\", \"gender\": \"Female\", \"age\": 73, \"Stage_Progress\": true}, {\"id\": 295, \"race\": \"White\", \"gender\": \"Female\", \"age\": 79, \"Stage_Progress\": true}, {\"id\": 296, \"race\": \"White\", \"gender\": \"Female\", \"age\": 66, \"Stage_Progress\": false}, {\"id\": 298, \"race\": \"Asian\", \"gender\": \"Female\", \"age\": 72, \"Stage_Progress\": false}]}}, {\"mode\": \"vega-lite\"});\n",
       "</script>"
      ],
      "text/plain": [
       "alt.HConcatChart(...)"
      ]
     },
     "execution_count": 179,
     "metadata": {},
     "output_type": "execute_result"
    }
   ],
   "source": [
    "male = alt.Chart(demo_stage.loc[demo_stage['gender'] == 'Male'], title=\"Male\").mark_bar(\n",
    "    cornerRadiusTopLeft=3,\n",
    "    cornerRadiusTopRight=3\n",
    ").encode(\n",
    "    x=alt.X('age:Q', bin=True),\n",
    "    y=alt.Y('count():Q', scale=alt.Scale(\n",
    "        domain=(0, 46)), title='Number of Patients'),\n",
    "    color='race:N'\n",
    ")\n",
    "\n",
    "female = alt.Chart(demo_stage.loc[demo_stage['gender'] == 'Female'], title=\"Female\").mark_bar(\n",
    "    cornerRadiusTopLeft=3,\n",
    "    cornerRadiusTopRight=3\n",
    ").encode(\n",
    "    x=alt.X('age:Q', bin=True),\n",
    "    y=alt.Y('count():Q', scale=alt.Scale(\n",
    "        domain=(0, 46)), title='Number of Patients'),\n",
    "    color='race:N'\n",
    ")\n",
    "\n",
    "male | female"
   ]
  },
  {
   "cell_type": "markdown",
   "id": "cfda8672",
   "metadata": {},
   "source": [
    "# Splitting and scaling data"
   ]
  },
  {
   "cell_type": "markdown",
   "id": "374d6c69",
   "metadata": {},
   "source": [
    "## Splitting data into training and testing set"
   ]
  },
  {
   "cell_type": "code",
   "execution_count": 180,
   "id": "4ddb1633",
   "metadata": {
    "ExecuteTime": {
     "end_time": "2021-09-17T03:58:08.347321Z",
     "start_time": "2021-09-17T03:58:08.303058Z"
    }
   },
   "outputs": [],
   "source": [
    "# Splitting data into 2 sets, 25% of dataset will be used for testing\n",
    "from sklearn.model_selection import train_test_split\n",
    "X_train, X_test, y_train, y_test = train_test_split(\n",
    "    data_array_final[:, :-1], data_array_final[:, -1], random_state=42)\n",
    "\n",
    "y_train = y_train.astype('int')\n",
    "y_test = y_test.astype('int')"
   ]
  },
  {
   "cell_type": "markdown",
   "id": "a9684667",
   "metadata": {
    "ExecuteTime": {
     "end_time": "2021-09-16T23:22:34.605461Z",
     "start_time": "2021-09-16T23:22:34.566728Z"
    }
   },
   "source": [
    "## Scaling data"
   ]
  },
  {
   "cell_type": "code",
   "execution_count": 181,
   "id": "9f5af2fb",
   "metadata": {
    "ExecuteTime": {
     "end_time": "2021-09-17T03:58:08.416228Z",
     "start_time": "2021-09-17T03:58:08.354560Z"
    }
   },
   "outputs": [],
   "source": [
    "# Scaling train data\n",
    "# Using RobustScaler in case of outliers\n",
    "from sklearn.preprocessing import RobustScaler\n",
    "num_rows, num_cols = X_train.shape\n",
    "i = 0\n",
    "X_train_scaled = np.empty(X_train.shape)\n",
    "X_test_scaled = np.empty(X_test.shape)\n",
    "# Using train data fit to scale test data too (prevent data leakage)\n",
    "while i < num_cols:\n",
    "    transformer = RobustScaler().fit(X_train[:, i].reshape(-1, 1))\n",
    "    X_train_scaled[:, i] = transformer.transform(\n",
    "        X_train[:, i].reshape(-1, 1)).reshape(1, -1)\n",
    "    X_test_scaled[:, i] = transformer.transform(\n",
    "        X_test[:, i].reshape(-1, 1)).reshape(1, -1)\n",
    "    i += 1"
   ]
  },
  {
   "cell_type": "markdown",
   "id": "63359e9e",
   "metadata": {},
   "source": [
    "# Analysis/Modeling"
   ]
  },
  {
   "cell_type": "markdown",
   "id": "7c9ea4f5",
   "metadata": {},
   "source": [
    "## Random Forest Classifier"
   ]
  },
  {
   "cell_type": "code",
   "execution_count": 182,
   "id": "5f0c12cc",
   "metadata": {
    "ExecuteTime": {
     "end_time": "2021-09-17T03:58:08.482839Z",
     "start_time": "2021-09-17T03:58:08.421495Z"
    }
   },
   "outputs": [
    {
     "ename": "ImportError",
     "evalue": "cannot import name '_raise_dep_warning_if_not_pytest' from 'sklearn.utils.deprecation' (/Users/blaubear/opt/anaconda3/envs/ckd/lib/python3.7/site-packages/sklearn/utils/deprecation.py)",
     "output_type": "error",
     "traceback": [
      "\u001b[0;31m---------------------------------------------------------------------------\u001b[0m",
      "\u001b[0;31mImportError\u001b[0m                               Traceback (most recent call last)",
      "\u001b[0;32m<ipython-input-182-800b262fbcf2>\u001b[0m in \u001b[0;36m<module>\u001b[0;34m\u001b[0m\n\u001b[0;32m----> 1\u001b[0;31m \u001b[0;32mfrom\u001b[0m \u001b[0mlazypredict\u001b[0m\u001b[0;34m.\u001b[0m\u001b[0mSupervised\u001b[0m \u001b[0;32mimport\u001b[0m \u001b[0mLazyClassifier\u001b[0m\u001b[0;34m\u001b[0m\u001b[0;34m\u001b[0m\u001b[0m\n\u001b[0m\u001b[1;32m      2\u001b[0m \u001b[0;34m\u001b[0m\u001b[0m\n\u001b[1;32m      3\u001b[0m \u001b[0mclf\u001b[0m \u001b[0;34m=\u001b[0m \u001b[0mLazyClassifier\u001b[0m\u001b[0;34m(\u001b[0m\u001b[0mverbose\u001b[0m\u001b[0;34m=\u001b[0m\u001b[0;36m0\u001b[0m\u001b[0;34m,\u001b[0m \u001b[0mignore_warnings\u001b[0m\u001b[0;34m=\u001b[0m\u001b[0;32mTrue\u001b[0m\u001b[0;34m,\u001b[0m \u001b[0mcustom_metric\u001b[0m\u001b[0;34m=\u001b[0m\u001b[0;32mNone\u001b[0m\u001b[0;34m)\u001b[0m\u001b[0;34m\u001b[0m\u001b[0;34m\u001b[0m\u001b[0m\n\u001b[1;32m      4\u001b[0m \u001b[0mmodels\u001b[0m\u001b[0;34m,\u001b[0m \u001b[0mpredictions\u001b[0m \u001b[0;34m=\u001b[0m \u001b[0mclf\u001b[0m\u001b[0;34m.\u001b[0m\u001b[0mfit\u001b[0m\u001b[0;34m(\u001b[0m\u001b[0mX_train_scaled\u001b[0m\u001b[0;34m,\u001b[0m \u001b[0mX_test_scaled\u001b[0m\u001b[0;34m,\u001b[0m \u001b[0my_train\u001b[0m\u001b[0;34m,\u001b[0m \u001b[0my_test\u001b[0m\u001b[0;34m)\u001b[0m\u001b[0;34m\u001b[0m\u001b[0;34m\u001b[0m\u001b[0m\n\u001b[1;32m      5\u001b[0m \u001b[0;34m\u001b[0m\u001b[0m\n",
      "\u001b[0;32m~/opt/anaconda3/envs/ckd/lib/python3.7/site-packages/lazypredict/Supervised.py\u001b[0m in \u001b[0;36m<module>\u001b[0;34m\u001b[0m\n\u001b[1;32m     14\u001b[0m \u001b[0;32mfrom\u001b[0m \u001b[0msklearn\u001b[0m\u001b[0;34m.\u001b[0m\u001b[0mpreprocessing\u001b[0m \u001b[0;32mimport\u001b[0m \u001b[0mStandardScaler\u001b[0m\u001b[0;34m,\u001b[0m \u001b[0mOneHotEncoder\u001b[0m\u001b[0;34m,\u001b[0m \u001b[0mOrdinalEncoder\u001b[0m\u001b[0;34m\u001b[0m\u001b[0;34m\u001b[0m\u001b[0m\n\u001b[1;32m     15\u001b[0m \u001b[0;32mfrom\u001b[0m \u001b[0msklearn\u001b[0m\u001b[0;34m.\u001b[0m\u001b[0mcompose\u001b[0m \u001b[0;32mimport\u001b[0m \u001b[0mColumnTransformer\u001b[0m\u001b[0;34m\u001b[0m\u001b[0;34m\u001b[0m\u001b[0m\n\u001b[0;32m---> 16\u001b[0;31m \u001b[0;32mfrom\u001b[0m \u001b[0msklearn\u001b[0m\u001b[0;34m.\u001b[0m\u001b[0mutils\u001b[0m\u001b[0;34m.\u001b[0m\u001b[0mtesting\u001b[0m \u001b[0;32mimport\u001b[0m \u001b[0mall_estimators\u001b[0m\u001b[0;34m\u001b[0m\u001b[0;34m\u001b[0m\u001b[0m\n\u001b[0m\u001b[1;32m     17\u001b[0m \u001b[0;32mfrom\u001b[0m \u001b[0msklearn\u001b[0m\u001b[0;34m.\u001b[0m\u001b[0mbase\u001b[0m \u001b[0;32mimport\u001b[0m \u001b[0mRegressorMixin\u001b[0m\u001b[0;34m\u001b[0m\u001b[0;34m\u001b[0m\u001b[0m\n\u001b[1;32m     18\u001b[0m \u001b[0;32mfrom\u001b[0m \u001b[0msklearn\u001b[0m\u001b[0;34m.\u001b[0m\u001b[0mbase\u001b[0m \u001b[0;32mimport\u001b[0m \u001b[0mClassifierMixin\u001b[0m\u001b[0;34m\u001b[0m\u001b[0;34m\u001b[0m\u001b[0m\n",
      "\u001b[0;32m~/opt/anaconda3/envs/ckd/lib/python3.7/site-packages/sklearn/utils/testing.py\u001b[0m in \u001b[0;36m<module>\u001b[0;34m\u001b[0m\n\u001b[1;32m      5\u001b[0m \u001b[0;32mfrom\u001b[0m \u001b[0;34m.\u001b[0m \u001b[0;32mimport\u001b[0m \u001b[0m_testing\u001b[0m  \u001b[0;31m# type: ignore\u001b[0m\u001b[0;34m\u001b[0m\u001b[0;34m\u001b[0m\u001b[0m\n\u001b[1;32m      6\u001b[0m \u001b[0;32mfrom\u001b[0m \u001b[0;34m.\u001b[0m\u001b[0;34m.\u001b[0m\u001b[0mexternals\u001b[0m\u001b[0;34m.\u001b[0m\u001b[0m_pep562\u001b[0m \u001b[0;32mimport\u001b[0m \u001b[0mPep562\u001b[0m\u001b[0;34m\u001b[0m\u001b[0;34m\u001b[0m\u001b[0m\n\u001b[0;32m----> 7\u001b[0;31m \u001b[0;32mfrom\u001b[0m \u001b[0;34m.\u001b[0m\u001b[0;34m.\u001b[0m\u001b[0mutils\u001b[0m\u001b[0;34m.\u001b[0m\u001b[0mdeprecation\u001b[0m \u001b[0;32mimport\u001b[0m \u001b[0m_raise_dep_warning_if_not_pytest\u001b[0m\u001b[0;34m\u001b[0m\u001b[0;34m\u001b[0m\u001b[0m\n\u001b[0m\u001b[1;32m      8\u001b[0m \u001b[0;34m\u001b[0m\u001b[0m\n\u001b[1;32m      9\u001b[0m \u001b[0mdeprecated_path\u001b[0m \u001b[0;34m=\u001b[0m \u001b[0;34m'sklearn.utils.testing'\u001b[0m\u001b[0;34m\u001b[0m\u001b[0;34m\u001b[0m\u001b[0m\n",
      "\u001b[0;31mImportError\u001b[0m: cannot import name '_raise_dep_warning_if_not_pytest' from 'sklearn.utils.deprecation' (/Users/blaubear/opt/anaconda3/envs/ckd/lib/python3.7/site-packages/sklearn/utils/deprecation.py)"
     ]
    }
   ],
   "source": [
    "from lazypredict.Supervised import LazyClassifier\n",
    "\n",
    "clf = LazyClassifier(verbose=0, ignore_warnings=True, custom_metric=None)\n",
    "models, predictions = clf.fit(X_train_scaled, X_test_scaled, y_train, y_test)\n",
    "\n",
    "print(models)"
   ]
  },
  {
   "cell_type": "code",
   "execution_count": 183,
   "id": "384b97c1",
   "metadata": {
    "ExecuteTime": {
     "end_time": "2021-09-17T04:01:25.896987Z",
     "start_time": "2021-09-17T04:01:25.659690Z"
    }
   },
   "outputs": [
    {
     "name": "stdout",
     "output_type": "stream",
     "text": [
      "ROCAUC score: 0.6593137254901962\n",
      "Accuracy score: 0.7466666666666667\n",
      "F1 score: 0.5128205128205129\n",
      "RF train accuracy: 0.658\n",
      "RF test accuracy: 0.667\n"
     ]
    }
   ],
   "source": [
    "# load library\n",
    "from sklearn.ensemble import RandomForestClassifier\n",
    "from sklearn.metrics import roc_auc_score, accuracy_score, f1_score\n",
    "\n",
    "rfc = RandomForestClassifier()\n",
    "\n",
    "# fit the predictor and target\n",
    "rfc.fit(X_train_scaled, y_train)\n",
    "\n",
    "# predict\n",
    "rfc_predict = rfc.predict(X_test_scaled)  # check performance\n",
    "print('ROCAUC score:', roc_auc_score(y_test, rfc_predict))\n",
    "print('Accuracy score:', accuracy_score(y_test, rfc_predict))\n",
    "print('F1 score:', f1_score(y_test, rfc_predict))  # load library\n",
    "\n",
    "print(\"RF train accuracy: %0.3f\" % rfc.score(X_train, y_train))\n",
    "print(\"RF test accuracy: %0.3f\" % rfc.score(X_test, y_test))"
   ]
  },
  {
   "cell_type": "code",
   "execution_count": 184,
   "id": "db9f937d",
   "metadata": {
    "ExecuteTime": {
     "end_time": "2021-09-17T04:01:26.333147Z",
     "start_time": "2021-09-17T04:01:26.111011Z"
    }
   },
   "outputs": [
    {
     "data": {
      "image/png": "[encoded data removed]",
      "text/plain": [
       "<Figure size 432x288 with 1 Axes>"
      ]
     },
     "metadata": {
      "needs_background": "light"
     },
     "output_type": "display_data"
    }
   ],
   "source": [
    "from sklearn.inspection import permutation_importance\n",
    "\n",
    "# ohe = (rfc.named_steps['preprocess']\n",
    "#         .named_transformers_['cat'])\n",
    "#feature_names = ohe.get_feature_names(input_features=categorical_columns)\n",
    "#feature_names = np.r_[col_names]\n",
    "col_names = np.array(col_names)\n",
    "tree_feature_importances = (\n",
    "    rfc.feature_importances_)\n",
    "sorted_idx = tree_feature_importances.argsort()\n",
    "\n",
    "y_ticks = np.arange(0, len(col_names))\n",
    "fig, ax = plt.subplots()\n",
    "ax.barh(y_ticks, tree_feature_importances[sorted_idx])\n",
    "ax.set_yticks(y_ticks)\n",
    "ax.set_yticklabels(col_names[sorted_idx])\n",
    "ax.set_title(\"Random Forest Feature Importances (MDI)\")\n",
    "\n",
    "fig.tight_layout()\n",
    "plt.show()"
   ]
  },
  {
   "cell_type": "markdown",
   "id": "0a0f8e20",
   "metadata": {},
   "source": [
    "## AdaBoosted Decision Trees"
   ]
  },
  {
   "cell_type": "code",
   "execution_count": 185,
   "id": "70395106",
   "metadata": {
    "ExecuteTime": {
     "end_time": "2021-09-17T04:01:28.354460Z",
     "start_time": "2021-09-17T04:01:26.530789Z"
    }
   },
   "outputs": [
    {
     "name": "stdout",
     "output_type": "stream",
     "text": [
      "SAMME.R ROCAUC score: 0.704656862745098\n",
      "SAMME.R Accuracy score: 0.7333333333333333\n",
      "SAMME.R F1 score: 0.6\n",
      "SAMME.R train accuracy: 0.480\n",
      "SAMME.R test accuracy: 0.480\n"
     ]
    }
   ],
   "source": [
    "from sklearn.datasets import make_gaussian_quantiles\n",
    "from sklearn.ensemble import AdaBoostClassifier\n",
    "from sklearn.metrics import accuracy_score\n",
    "from sklearn.tree import DecisionTreeClassifier\n",
    "\n",
    "bdt_real = AdaBoostClassifier(\n",
    "    DecisionTreeClassifier(max_depth=2),\n",
    "    n_estimators=600,\n",
    "    learning_rate=1)\n",
    "\n",
    "bdt_discrete = AdaBoostClassifier(\n",
    "    DecisionTreeClassifier(max_depth=2),\n",
    "    n_estimators=600,\n",
    "    learning_rate=1.5,\n",
    "    algorithm=\"SAMME\")\n",
    "\n",
    "bdt_real.fit(X_train_scaled, y_train)\n",
    "bdt_discrete.fit(X_train_scaled, y_train)\n",
    "\n",
    "# predict\n",
    "bdt_real_predict = bdt_real.predict(X_test_scaled)  # check performance\n",
    "print('SAMME.R ROCAUC score:', roc_auc_score(y_test, bdt_real_predict))\n",
    "print('SAMME.R Accuracy score:', accuracy_score(y_test, bdt_real_predict))\n",
    "print('SAMME.R F1 score:', f1_score(y_test, bdt_real_predict))  # load library\n",
    "\n",
    "print(\"SAMME.R train accuracy: %0.3f\" % bdt_real.score(X_train, y_train))\n",
    "print(\"SAMME.R test accuracy: %0.3f\" % bdt_real.score(X_test, y_test))"
   ]
  },
  {
   "cell_type": "code",
   "execution_count": 186,
   "id": "a323b40c",
   "metadata": {
    "ExecuteTime": {
     "end_time": "2021-09-17T04:01:28.824657Z",
     "start_time": "2021-09-17T04:01:28.548610Z"
    }
   },
   "outputs": [
    {
     "name": "stdout",
     "output_type": "stream",
     "text": [
      "SAMME ROCAUC score: 0.6335784313725489\n",
      "SAMME Accuracy score: 0.6666666666666666\n",
      "SAMME F1 score: 0.5098039215686274\n",
      "SAMME train accuracy: 0.591\n",
      "SAMME test accuracy: 0.613\n"
     ]
    }
   ],
   "source": [
    "bdt_discrete_predict = bdt_discrete.predict(X_test_scaled)  # check performance\n",
    "print('SAMME ROCAUC score:', roc_auc_score(y_test, bdt_discrete_predict))\n",
    "print('SAMME Accuracy score:', accuracy_score(y_test, bdt_discrete_predict))\n",
    "print('SAMME F1 score:', f1_score(y_test, bdt_discrete_predict))  # load library\n",
    "\n",
    "print(\"SAMME train accuracy: %0.3f\" % bdt_discrete.score(X_train, y_train))\n",
    "print(\"SAMME test accuracy: %0.3f\" % bdt_discrete.score(X_test, y_test))"
   ]
  },
  {
   "cell_type": "code",
   "execution_count": 187,
   "id": "435312bb",
   "metadata": {
    "ExecuteTime": {
     "end_time": "2021-09-17T04:01:29.432511Z",
     "start_time": "2021-09-17T04:01:29.017464Z"
    }
   },
   "outputs": [],
   "source": [
    "real_test_errors = []\n",
    "discrete_test_errors = []\n",
    "\n",
    "for real_test_predict, discrete_train_predict in zip(\n",
    "        bdt_real.staged_predict(X_test_scaled), bdt_discrete.staged_predict(X_test_scaled)):\n",
    "    real_test_errors.append(\n",
    "        1. - accuracy_score(real_test_predict, y_test))\n",
    "    discrete_test_errors.append(\n",
    "        1. - accuracy_score(discrete_train_predict, y_test))\n",
    "\n",
    "n_trees_discrete = len(bdt_discrete)\n",
    "n_trees_real = len(bdt_real)"
   ]
  },
  {
   "cell_type": "code",
   "execution_count": 188,
   "id": "a779d536",
   "metadata": {
    "ExecuteTime": {
     "end_time": "2021-09-17T04:01:30.008055Z",
     "start_time": "2021-09-17T04:01:29.605325Z"
    }
   },
   "outputs": [
    {
     "data": {
      "image/png": "[encoded data removed]",
      "text/plain": [
       "<Figure size 1080x360 with 3 Axes>"
      ]
     },
     "metadata": {
      "needs_background": "light"
     },
     "output_type": "display_data"
    }
   ],
   "source": [
    "# Boosting might terminate early, but the following arrays are always\n",
    "# n_estimators long. We crop them to the actual number of trees here:\n",
    "discrete_estimator_errors = bdt_discrete.estimator_errors_[:n_trees_discrete]\n",
    "real_estimator_errors = bdt_real.estimator_errors_[:n_trees_real]\n",
    "discrete_estimator_weights = bdt_discrete.estimator_weights_[:n_trees_discrete]\n",
    "\n",
    "plt.figure(figsize=(15, 5))\n",
    "\n",
    "plt.subplot(131)\n",
    "plt.plot(range(1, n_trees_discrete + 1),\n",
    "         discrete_test_errors, c='black', label='SAMME')\n",
    "plt.plot(range(1, n_trees_real + 1),\n",
    "         real_test_errors, c='black',\n",
    "         linestyle='dashed', label='SAMME.R')\n",
    "plt.legend()\n",
    "plt.ylim(0.18, 0.62)\n",
    "plt.ylabel('Test Error')\n",
    "plt.xlabel('Number of Trees')\n",
    "\n",
    "plt.subplot(132)\n",
    "plt.plot(range(1, n_trees_discrete + 1), discrete_estimator_errors,\n",
    "         \"b\", label='SAMME', alpha=.5)\n",
    "plt.plot(range(1, n_trees_real + 1), real_estimator_errors,\n",
    "         \"r\", label='SAMME.R', alpha=.5)\n",
    "plt.legend()\n",
    "plt.ylabel('Error')\n",
    "plt.xlabel('Number of Trees')\n",
    "plt.ylim((.2,\n",
    "         max(real_estimator_errors.max(),\n",
    "             discrete_estimator_errors.max()) * 1.2))\n",
    "plt.xlim((-20, len(bdt_discrete) + 20))\n",
    "\n",
    "plt.subplot(133)\n",
    "plt.plot(range(1, n_trees_discrete + 1), discrete_estimator_weights,\n",
    "         \"b\", label='SAMME')\n",
    "plt.legend()\n",
    "plt.ylabel('Weight')\n",
    "plt.xlabel('Number of Trees')\n",
    "plt.ylim((0, discrete_estimator_weights.max() * 1.2))\n",
    "plt.xlim((-20, n_trees_discrete + 20))\n",
    "\n",
    "# prevent overlapping y-axis labels\n",
    "plt.subplots_adjust(wspace=0.25)\n",
    "plt.show()"
   ]
  },
  {
   "cell_type": "code",
   "execution_count": 189,
   "id": "ff3d568b",
   "metadata": {
    "ExecuteTime": {
     "end_time": "2021-09-17T04:01:51.061343Z",
     "start_time": "2021-09-17T04:01:30.227349Z"
    }
   },
   "outputs": [
    {
     "data": {
      "text/plain": [
       "AdaBoostClassifier(algorithm='SAMME',\n",
       "                   base_estimator=RandomForestClassifier(max_depth=2),\n",
       "                   learning_rate=1.5, n_estimators=100)"
      ]
     },
     "execution_count": 189,
     "metadata": {},
     "output_type": "execute_result"
    }
   ],
   "source": [
    "rfc_real = AdaBoostClassifier(\n",
    "    RandomForestClassifier(max_depth=2),\n",
    "    n_estimators=100,\n",
    "    learning_rate=1)\n",
    "\n",
    "rfc_discrete = AdaBoostClassifier(\n",
    "    RandomForestClassifier(max_depth=2),\n",
    "    n_estimators=100,\n",
    "    learning_rate=1.5,\n",
    "    algorithm=\"SAMME\")\n",
    "\n",
    "rfc_real.fit(X_train_scaled, y_train)\n",
    "rfc_discrete.fit(X_train_scaled, y_train)"
   ]
  },
  {
   "cell_type": "code",
   "execution_count": 191,
   "id": "c96f8f01",
   "metadata": {
    "ExecuteTime": {
     "end_time": "2021-09-17T04:01:57.396778Z",
     "start_time": "2021-09-17T04:01:54.628680Z"
    }
   },
   "outputs": [
    {
     "name": "stdout",
     "output_type": "stream",
     "text": [
      "SAMME ROCAUC score: 0.6470588235294117\n",
      "SAMME Accuracy score: 0.64\n",
      "SAMME F1 score: 0.5423728813559322\n",
      "SAMME train accuracy: 0.644\n",
      "SAMME test accuracy: 0.680\n"
     ]
    }
   ],
   "source": [
    "rfc_discrete_predict = rfc_discrete.predict(X_test_scaled)  # check performance\n",
    "print('SAMME ROCAUC score:', roc_auc_score(y_test, rfc_discrete_predict))\n",
    "print('SAMME Accuracy score:', accuracy_score(y_test, rfc_discrete_predict))\n",
    "print('SAMME F1 score:', f1_score(y_test, rfc_discrete_predict))  # load library\n",
    "\n",
    "print(\"SAMME train accuracy: %0.3f\" % rfc_discrete.score(X_train, y_train))\n",
    "print(\"SAMME test accuracy: %0.3f\" % rfc_discrete.score(X_test, y_test))"
   ]
  },
  {
   "cell_type": "code",
   "execution_count": 190,
   "id": "0d3a4349",
   "metadata": {
    "ExecuteTime": {
     "end_time": "2021-09-17T04:01:54.416069Z",
     "start_time": "2021-09-17T04:01:51.412828Z"
    }
   },
   "outputs": [
    {
     "name": "stdout",
     "output_type": "stream",
     "text": [
      "SAMME.R ROCAUC score: 0.6544117647058825\n",
      "SAMME.R Accuracy score: 0.68\n",
      "SAMME.R F1 score: 0.5384615384615384\n",
      "SAMME.R train accuracy: 0.640\n",
      "SAMME.R test accuracy: 0.720\n"
     ]
    }
   ],
   "source": [
    "# predict\n",
    "rfc_real_predict = rfc_real.predict(X_test_scaled)  # check performance\n",
    "print('SAMME.R ROCAUC score:', roc_auc_score(y_test, rfc_real_predict))\n",
    "print('SAMME.R Accuracy score:', accuracy_score(y_test, rfc_real_predict))\n",
    "print('SAMME.R F1 score:', f1_score(y_test, rfc_real_predict))  # load library\n",
    "\n",
    "print(\"SAMME.R train accuracy: %0.3f\" % rfc_real.score(X_train, y_train))\n",
    "print(\"SAMME.R test accuracy: %0.3f\" % rfc_real.score(X_test, y_test))"
   ]
  },
  {
   "cell_type": "markdown",
   "id": "8cbda61a",
   "metadata": {},
   "source": [
    "# Results\n",
    "Show graphs and stats here"
   ]
  },
  {
   "cell_type": "markdown",
   "id": "1c9d64ca",
   "metadata": {},
   "source": [
    "# Conclusions and Next Steps\n",
    "Summarize findings here"
   ]
  },
  {
   "cell_type": "code",
   "execution_count": null,
   "id": "48263fc0",
   "metadata": {},
   "outputs": [],
   "source": []
  },
  {
   "cell_type": "code",
   "execution_count": null,
   "id": "8a255673",
   "metadata": {},
   "outputs": [],
   "source": []
  },
  {
   "cell_type": "code",
   "execution_count": null,
   "id": "b3b541c8",
   "metadata": {},
   "outputs": [],
   "source": []
  },
  {
   "cell_type": "code",
   "execution_count": null,
   "id": "45c6d77e",
   "metadata": {},
   "outputs": [],
   "source": []
  },
  {
   "cell_type": "code",
   "execution_count": null,
   "id": "40aeaa25",
   "metadata": {},
   "outputs": [],
   "source": []
  },
  {
   "cell_type": "code",
   "execution_count": null,
   "id": "d879e845",
   "metadata": {},
   "outputs": [],
   "source": []
  },
  {
   "cell_type": "code",
   "execution_count": null,
   "id": "35bda833",
   "metadata": {},
   "outputs": [],
   "source": []
  },
  {
   "cell_type": "code",
   "execution_count": null,
   "id": "b5a24301",
   "metadata": {},
   "outputs": [],
   "source": []
  },
  {
   "cell_type": "code",
   "execution_count": null,
   "id": "c9a0d9cc",
   "metadata": {},
   "outputs": [],
   "source": []
  },
  {
   "cell_type": "code",
   "execution_count": null,
   "id": "661dfee6",
   "metadata": {},
   "outputs": [],
   "source": []
  },
  {
   "cell_type": "code",
   "execution_count": null,
   "id": "c75a9c35",
   "metadata": {},
   "outputs": [],
   "source": []
  },
  {
   "cell_type": "code",
   "execution_count": null,
   "id": "85faca7e",
   "metadata": {},
   "outputs": [],
   "source": []
  }
 ],
 "metadata": {
  "kernelspec": {
   "display_name": "Python 3",
   "language": "python",
   "name": "python3"
  },
  "language_info": {
   "codemirror_mode": {
    "name": "ipython",
    "version": 3
   },
   "file_extension": ".py",
   "mimetype": "text/x-python",
   "name": "python",
   "nbconvert_exporter": "python",
   "pygments_lexer": "ipython3",
   "version": "3.7.6"
  },
  "toc": {
   "base_numbering": 1,
   "nav_menu": {},
   "number_sections": true,
   "sideBar": true,
   "skip_h1_title": false,
   "title_cell": "Table of Contents",
   "title_sidebar": "Contents",
   "toc_cell": false,
   "toc_position": {},
   "toc_section_display": true,
   "toc_window_display": false
  },
  "varInspector": {
   "cols": {
    "lenName": 16,
    "lenType": 16,
    "lenVar": 40
   },
   "kernels_config": {
    "python": {
     "delete_cmd_postfix": "",
     "delete_cmd_prefix": "del ",
     "library": "var_list.py",
     "varRefreshCmd": "print(var_dic_list())"
    },
    "r": {
     "delete_cmd_postfix": ") ",
     "delete_cmd_prefix": "rm(",
     "library": "var_list.r",
     "varRefreshCmd": "cat(var_dic_list()) "
    }
   },
   "types_to_exclude": [
    "module",
    "function",
    "builtin_function_or_method",
    "instance",
    "_Feature"
   ],
   "window_display": false
  }
 },
 "nbformat": 4,
 "nbformat_minor": 5
}
