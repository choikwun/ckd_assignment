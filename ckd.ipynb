{
 "cells": [
  {
   "cell_type": "markdown",
   "id": "88252afe",
   "metadata": {},
   "source": [
    "# Introduction\n",
    "State notebook purpose here"
   ]
  },
  {
   "cell_type": "markdown",
   "id": "3fc1cd35",
   "metadata": {},
   "source": [
    "### Imports\n",
    "Import libraries and write settings here."
   ]
  },
  {
   "cell_type": "code",
   "execution_count": null,
   "id": "41448ec9",
   "metadata": {
    "ExecuteTime": {
     "end_time": "2021-09-16T20:28:39.092693Z",
     "start_time": "2021-09-16T20:28:38.793Z"
    }
   },
   "outputs": [],
   "source": [
    "# Data manipulation\n",
    "import cufflinks as cf\n",
    "import altair as alt\n",
    "from IPython import get_ipython\n",
    "from IPython.core.interactiveshell import InteractiveShell\n",
    "import pandas as pd\n",
    "import numpy as np\n",
    "#from sklearnex import patch_sklearn\n",
    "\n",
    "# Additional packages\n",
    "from sklearn import preprocessing\n",
    "import lazypredict\n",
    "\n",
    "# Options for pandas\n",
    "pd.options.display.max_columns = 50\n",
    "pd.options.display.max_rows = 30\n",
    "\n",
    "# Display all cell outputs\n",
    "InteractiveShell.ast_node_interactivity = 'all'\n",
    "\n",
    "ipython = get_ipython()\n",
    "\n",
    "# autoreload extension\n",
    "if 'autoreload' not in ipython.extension_manager.loaded:\n",
    "    %load_ext autoreload\n",
    "\n",
    "%autoreload 2\n",
    "\n",
    "# Visualizations\n",
    "alt.renderers.enable('notebook')\n",
    "alt.renderers.enable('html')\n",
    "\n",
    "cf.go_offline(connected=True)\n",
    "cf.set_config_file(theme='white')"
   ]
  },
  {
   "cell_type": "markdown",
   "id": "f6db66ff",
   "metadata": {},
   "source": [
    "# Data Wrangling"
   ]
  },
  {
   "cell_type": "markdown",
   "id": "bcefb343",
   "metadata": {},
   "source": [
    "## Basic Data Manipulation"
   ]
  },
  {
   "cell_type": "code",
   "execution_count": null,
   "id": "811fe6b9",
   "metadata": {
    "ExecuteTime": {
     "end_time": "2021-09-16T20:28:39.094052Z",
     "start_time": "2021-09-16T20:28:38.795Z"
    }
   },
   "outputs": [],
   "source": [
    "# Reading in data\n",
    "demographics = pd.read_csv(\"dataScienceTask/T_demo.csv\")\n",
    "dbp = pd.read_csv(\"dataScienceTask/T_DBP.csv\")\n",
    "sbp = pd.read_csv(\"dataScienceTask/T_SBP.csv\")\n",
    "creatinine = pd.read_csv(\"dataScienceTask/T_creatinine.csv\")\n",
    "glucose = pd.read_csv(\"dataScienceTask/T_glucose.csv\")\n",
    "meds = pd.read_csv(\"dataScienceTask/T_meds.csv\")\n",
    "hgb = pd.read_csv(\"dataScienceTask/T_HGB.csv\")\n",
    "ldl = pd.read_csv(\"dataScienceTask/T_ldl.csv\")\n",
    "stage = pd.read_csv(\"dataScienceTask/T_stage.csv\")"
   ]
  },
  {
   "cell_type": "code",
   "execution_count": null,
   "id": "598d01c1",
   "metadata": {
    "ExecuteTime": {
     "end_time": "2021-09-16T20:28:39.095312Z",
     "start_time": "2021-09-16T20:28:38.798Z"
    }
   },
   "outputs": [],
   "source": [
    "# Aggregating data into 1 dataframe\n",
    "df = pd.DataFrame()\n",
    "\n",
    "for i in demographics['id']:\n",
    "    temp = dbp.loc[dbp['id'] == i][['time', 'value']].merge(sbp.loc[sbp['id'] == i][[\n",
    "        'value', 'time']], left_on='time', right_on='time', suffixes=('_dbp', '_sbp'), how='outer')\n",
    "    temp = temp.merge(creatinine.loc[creatinine['id'] == i][['time', 'value']], left_on='time',\n",
    "                      right_on='time', how='outer').rename(columns={\"value\": \"value_creatinine\"})\n",
    "    temp = temp.merge(glucose.loc[glucose['id'] == i][['time', 'value']], left_on='time',\n",
    "                      right_on='time', how='outer').rename(columns={\"value\": \"value_glucose\"})\n",
    "    temp = temp.merge(hgb.loc[hgb['id'] == i][['time', 'value']], left_on='time',\n",
    "                      right_on='time', how='outer').rename(columns={\"value\": \"value_hgb\"})\n",
    "    temp = temp.merge(ldl.loc[ldl['id'] == i][['time', 'value']], left_on='time',\n",
    "                      right_on='time', how='outer').rename(columns={\"value\": \"value_ldl\"})\n",
    "    temp = temp.sort_values(by=['time'])\n",
    "    temp['id'] = i\n",
    "    df = df.append(temp)\n",
    "\n",
    "df = df.merge(demographics[['id', 'gender', 'race']],\n",
    "              left_on='id', right_on='id')\n",
    "\n",
    "df"
   ]
  },
  {
   "cell_type": "code",
   "execution_count": null,
   "id": "1abe59ff",
   "metadata": {
    "ExecuteTime": {
     "end_time": "2021-09-16T20:28:39.096474Z",
     "start_time": "2021-09-16T20:28:38.800Z"
    }
   },
   "outputs": [],
   "source": [
    "# Brief look at the data\n",
    "df.describe()"
   ]
  },
  {
   "cell_type": "code",
   "execution_count": null,
   "id": "fc5f0132",
   "metadata": {
    "ExecuteTime": {
     "end_time": "2021-09-16T20:28:39.097765Z",
     "start_time": "2021-09-16T20:28:38.802Z"
    }
   },
   "outputs": [],
   "source": [
    "# merging demographics and disease stage progression\n",
    "demo_stage = demographics.merge(\n",
    "    stage, left_on='id', right_on='id', how='outer')"
   ]
  },
  {
   "cell_type": "code",
   "execution_count": null,
   "id": "cb28bb15",
   "metadata": {
    "ExecuteTime": {
     "end_time": "2021-09-16T20:28:39.098887Z",
     "start_time": "2021-09-16T20:28:38.804Z"
    },
    "scrolled": true
   },
   "outputs": [],
   "source": [
    "# the medication proved to be most difficult to sort because of the number of medications, variations in dosage, and dates\n",
    "meds.describe()\n",
    "meds['drug'].unique()"
   ]
  },
  {
   "cell_type": "markdown",
   "id": "8683f1f2",
   "metadata": {
    "ExecuteTime": {
     "end_time": "2021-09-15T21:58:38.679763Z",
     "start_time": "2021-09-15T21:58:38.629322Z"
    }
   },
   "source": [
    "Looking at the different medications there are several major groups of medication. Statins (atorvastatin, rosuvastatin, pravastatin, simvastatin, lovastatin, pitavastatin), angiotensin receptor blocker (losartan, valsartan, olmesartan, irbesartan, telmisartan), biguanide antihyperglycemic agent (metformin), beta blocker (carvedilol, metoprolol, bisoprolol, atenolol, labeltalol, nebivolol, propranolol) and sodium-glucose cotransporter-2 (SGLT2) inhibitor (canagliflozin). Statins reduce cholestrol, angiotensin receptor blockers and beta blockers reduce blood pressure, and biguanide antihyperglycemic agent and sodium-glucose cotransporter-2 (SGLT2) inhibitor reduce blood glucose levels. Choice was made to just add the number of medications for each person as a simple initial feature engineering move. The number of medications would be a strong correlation to the number of risk factors the patient has for CKD. "
   ]
  },
  {
   "cell_type": "code",
   "execution_count": null,
   "id": "0c5bd3ea",
   "metadata": {
    "ExecuteTime": {
     "end_time": "2021-09-16T20:28:39.100028Z",
     "start_time": "2021-09-16T20:28:38.806Z"
    }
   },
   "outputs": [],
   "source": [
    "aggregate = pd.DataFrame()"
   ]
  },
  {
   "cell_type": "code",
   "execution_count": null,
   "id": "f52fffc8",
   "metadata": {
    "ExecuteTime": {
     "end_time": "2021-09-16T20:28:39.101097Z",
     "start_time": "2021-09-16T20:28:38.808Z"
    }
   },
   "outputs": [],
   "source": [
    "for i in demographics['id']:\n",
    "    dbp = df[(df['id'] == i) & (df['value_dbp'] > 85)\n",
    "             ]['value_dbp'].count() / df[(df['id'] == i)]['value_dbp'].count()\n",
    "    sbp = df[(df['id'] == i) & (df['value_sbp'] > 129)\n",
    "             ]['value_sbp'].count() / df[(df['id'] == i)]['value_sbp'].count()\n",
    "    hgb = df[(df['id'] == i) & (df['value_hgb'] < 9)\n",
    "             ]['value_hgb'].count() / df[(df['id'] == i)]['value_hgb'].count()\n",
    "    ldl = df[(df['id'] == i) & (df['value_ldl'] > 160)\n",
    "             ]['value_ldl'].count() / df[(df['id'] == i)]['value_ldl'].count()\n",
    "    glucose = df[(df['id'] == i) & ((df['value_glucose'] > 6.9) | (df['value_glucose'] < 3.8))\n",
    "                 ]['value_glucose'].count() / df[(df['id'] == i)]['value_glucose'].count()\n",
    "    medications = len(meds[meds['id'] == i]['drug'].unique())\n",
    "    if demographics[demographics['id'] == i]['gender'].item() == 'Male':\n",
    "        creatinine = df[(df['id'] == i) & (df['value_creatinine'] > 1.2)]['value_creatinine'].count(\n",
    "        ) / df[(df['id'] == i)]['value_creatinine'].count()\n",
    "    else:\n",
    "        creatinine = df[(df['id'] == i) & (df['value_creatinine'] > 1.0)]['value_creatinine'].count(\n",
    "        ) / df[(df['id'] == i)]['value_creatinine'].count()\n",
    "\n",
    "    temp = pd.DataFrame({'id': i, 'gender': demographics[demographics['id'] == i]['gender'],\n",
    "                        'dbp': dbp, 'sbp': sbp, 'hgb': hgb, 'ldl': ldl, 'glucose': glucose, 'creatinine': creatinine, 'medications': medications})\n",
    "    aggregate = aggregate.append(temp)\n",
    "\n",
    "aggregate = aggregate.merge(\n",
    "    demo_stage[['race', 'age', 'Stage_Progress', 'id']], left_on='id', right_on='id', how='inner')"
   ]
  },
  {
   "cell_type": "code",
   "execution_count": null,
   "id": "4cd85935",
   "metadata": {
    "ExecuteTime": {
     "end_time": "2021-09-16T20:28:39.102305Z",
     "start_time": "2021-09-16T20:28:38.810Z"
    }
   },
   "outputs": [],
   "source": [
    "# looking at some calculated factors in ckd\n",
    "aggregate.describe()\n",
    "aggregate"
   ]
  },
  {
   "cell_type": "markdown",
   "id": "0291e718",
   "metadata": {
    "ExecuteTime": {
     "end_time": "2021-09-15T02:03:58.664819Z",
     "start_time": "2021-09-15T02:03:58.608430Z"
    }
   },
   "source": [
    "## Data Manipulation for Machine Learning"
   ]
  },
  {
   "cell_type": "code",
   "execution_count": null,
   "id": "4ee06df8",
   "metadata": {
    "ExecuteTime": {
     "end_time": "2021-09-16T20:28:39.103386Z",
     "start_time": "2021-09-16T20:28:38.812Z"
    }
   },
   "outputs": [],
   "source": [
    "# Dealing with categorical data\n",
    "# Checking gender\n",
    "data_array = np.array(aggregate)\n",
    "data_array"
   ]
  },
  {
   "cell_type": "code",
   "execution_count": null,
   "id": "04249f9c",
   "metadata": {
    "ExecuteTime": {
     "end_time": "2021-09-16T20:28:39.104633Z",
     "start_time": "2021-09-16T20:28:38.813Z"
    }
   },
   "outputs": [],
   "source": [
    "# Changing gender from categorical to ordinal\n",
    "enc = preprocessing.OrdinalEncoder()\n",
    "enc.fit(data_array[:, 1].reshape(-1, 1))\n",
    "data_array[:, 1] = enc.transform(\n",
    "    data_array[:, 1].reshape(-1, 1)).reshape(1, -1)\n",
    "data_array\n",
    "enc.get_params()"
   ]
  },
  {
   "cell_type": "code",
   "execution_count": null,
   "id": "f2cdba09",
   "metadata": {
    "ExecuteTime": {
     "end_time": "2021-09-16T20:28:39.105722Z",
     "start_time": "2021-09-16T20:28:38.815Z"
    }
   },
   "outputs": [],
   "source": [
    "# Changing stage progress from categorical to ordinal\n",
    "enc.fit(data_array[:, -1].reshape(-1, 1))\n",
    "data_array[:, -\n",
    "           1] = enc.transform(data_array[:, -1].reshape(-1, 1)).reshape(1, -1)\n",
    "data_array\n",
    "enc.get_params()"
   ]
  },
  {
   "cell_type": "code",
   "execution_count": null,
   "id": "a0c570b7",
   "metadata": {
    "ExecuteTime": {
     "end_time": "2021-09-16T20:28:39.106883Z",
     "start_time": "2021-09-16T20:28:38.817Z"
    }
   },
   "outputs": [],
   "source": [
    "# Do one hot encoding for race (categorical data)\n",
    "# Change \"Unknown\" into np.nan\n",
    "data_array[:, -3] = np.where(data_array[:, -3] ==\n",
    "                             'Unknown', np.nan, data_array[:, -3])\n",
    "# Do one hot encoding for race\n",
    "enc2 = preprocessing.OneHotEncoder()\n",
    "enc2.fit(data_array[:, -3].reshape(-1, 1))\n",
    "race = enc2.transform(data_array[:, -3].reshape(-1, 1)).toarray()\n",
    "enc2.get_feature_names()"
   ]
  },
  {
   "cell_type": "code",
   "execution_count": null,
   "id": "61e0220c",
   "metadata": {
    "ExecuteTime": {
     "end_time": "2021-09-16T20:28:39.108046Z",
     "start_time": "2021-09-16T20:28:38.819Z"
    }
   },
   "outputs": [],
   "source": [
    "data_array_final = np.delete(data_array, -3, 1)\n",
    "data_array_final = np.insert(data_array_final, [-2], race, 1)\n",
    "data_array_final"
   ]
  },
  {
   "cell_type": "code",
   "execution_count": null,
   "id": "1977ce34",
   "metadata": {
    "ExecuteTime": {
     "end_time": "2021-09-16T20:28:39.109065Z",
     "start_time": "2021-09-16T20:28:38.821Z"
    }
   },
   "outputs": [],
   "source": [
    "data_array_final"
   ]
  },
  {
   "cell_type": "code",
   "execution_count": null,
   "id": "32d75cf5",
   "metadata": {
    "ExecuteTime": {
     "end_time": "2021-09-16T20:28:39.110233Z",
     "start_time": "2021-09-16T20:28:38.823Z"
    }
   },
   "outputs": [],
   "source": [
    "# get 'column names for array'\n",
    "col_names = ['id',\n",
    "             'gender',\n",
    "             'dbp',\n",
    "             'sbp',\n",
    "             'hgb',\n",
    "             'ldl',\n",
    "             'glucose',\n",
    "             'creatinine',\n",
    "             'medications',\n",
    "             'x0_Asian', 'x0_Black', 'x0_Hispanic', 'x0_White', 'x0_nan'\n",
    "             'age',\n",
    "             'Stage_Progress']"
   ]
  },
  {
   "cell_type": "markdown",
   "id": "a75cf326",
   "metadata": {
    "ExecuteTime": {
     "end_time": "2021-09-14T21:57:50.345714Z",
     "start_time": "2021-09-14T21:57:50.307723Z"
    }
   },
   "source": [
    "# Basic Data Visualization of the Demographics\n",
    "Looking at basic demographics of the patients"
   ]
  },
  {
   "cell_type": "code",
   "execution_count": null,
   "id": "44530a25",
   "metadata": {
    "ExecuteTime": {
     "end_time": "2021-09-16T20:28:39.111404Z",
     "start_time": "2021-09-16T20:28:38.825Z"
    }
   },
   "outputs": [],
   "source": [
    "alt.Chart(demo_stage).mark_bar().encode(\n",
    "    alt.X(\"age:Q\", bin=True),\n",
    "    alt.Y('count()', title='Number of Patients'),\n",
    "    column='race',\n",
    "    color='Stage_Progress'\n",
    ").properties(\n",
    "    width=150,\n",
    "    height=120\n",
    ")"
   ]
  },
  {
   "cell_type": "code",
   "execution_count": null,
   "id": "470004ea",
   "metadata": {
    "ExecuteTime": {
     "end_time": "2021-09-16T20:28:39.112535Z",
     "start_time": "2021-09-16T20:28:38.826Z"
    }
   },
   "outputs": [],
   "source": [
    "alt.Chart(demo_stage).mark_bar().encode(\n",
    "    alt.X(\"age:Q\", bin=True),\n",
    "    alt.Y(\"count()\", title='Number of Patients'),\n",
    "    column='gender',\n",
    "    color='Stage_Progress'\n",
    ").properties(\n",
    "    width=300,\n",
    "    height=150\n",
    ")"
   ]
  },
  {
   "cell_type": "markdown",
   "id": "a8ff1016",
   "metadata": {},
   "source": [
    "Looking at the demographics data, there are more white patients than of the other races. In terms of gender, there are more more female patients across all age bins, but the difference is not as large as compared to the race differences. "
   ]
  },
  {
   "cell_type": "code",
   "execution_count": null,
   "id": "fc3b6fb0",
   "metadata": {
    "ExecuteTime": {
     "end_time": "2021-09-16T20:28:39.113634Z",
     "start_time": "2021-09-16T20:28:38.828Z"
    }
   },
   "outputs": [],
   "source": [
    "alt.Chart(demo_stage, title='Percentage of CKD patients').mark_bar().encode(\n",
    "    alt.X(\"age:Q\", bin=True),\n",
    "    alt.Y('count()', stack=\"normalize\", axis=alt.Axis(\n",
    "        format=\".0%\"), title='Precentage of Patients'),\n",
    "    color='Stage_Progress'\n",
    ").properties(\n",
    "    width=300,\n",
    "    height=150\n",
    ")"
   ]
  },
  {
   "cell_type": "markdown",
   "id": "8b0fb305",
   "metadata": {},
   "source": [
    "Just looking at outcomes (Stage_Progress), there are more patients who do not have chronic kidney disease (CKD) compared to patients who have CKD (inbalanced dataset). "
   ]
  },
  {
   "cell_type": "code",
   "execution_count": null,
   "id": "d5d11bee",
   "metadata": {
    "ExecuteTime": {
     "end_time": "2021-09-16T20:28:39.114673Z",
     "start_time": "2021-09-16T20:28:38.830Z"
    }
   },
   "outputs": [],
   "source": [
    "positive = alt.Chart(demo_stage.loc[demo_stage['Stage_Progress'] == True], title=\"CKD Positive\").mark_bar(\n",
    "    cornerRadiusTopLeft=3,\n",
    "    cornerRadiusTopRight=3\n",
    ").encode(\n",
    "    x=alt.X('age:Q', bin=True),\n",
    "    y=alt.Y('count():Q', scale=alt.Scale(\n",
    "        domain=(0, 46)), title='Number of Patients'),\n",
    "    color='race:N'\n",
    ")\n",
    "negative = alt.Chart(demo_stage.loc[demo_stage['Stage_Progress'] == 0], title=\"CKD Negative\").mark_bar(\n",
    "    cornerRadiusTopLeft=3,\n",
    "    cornerRadiusTopRight=3\n",
    ").encode(\n",
    "    x=alt.X('age:Q', bin=True),\n",
    "    y=alt.Y('count():Q', scale=alt.Scale(\n",
    "        domain=(0, 46)), title='Number of Patients'),\n",
    "    color='race:N'\n",
    ")\n",
    "\n",
    "positive | negative"
   ]
  },
  {
   "cell_type": "code",
   "execution_count": null,
   "id": "bbe8412c",
   "metadata": {
    "ExecuteTime": {
     "end_time": "2021-09-16T20:28:39.115907Z",
     "start_time": "2021-09-16T20:28:38.832Z"
    }
   },
   "outputs": [],
   "source": [
    "male = alt.Chart(demo_stage.loc[demo_stage['gender'] == 'Male'], title=\"Male\").mark_bar(\n",
    "    cornerRadiusTopLeft=3,\n",
    "    cornerRadiusTopRight=3\n",
    ").encode(\n",
    "    x=alt.X('age:Q', bin=True),\n",
    "    y=alt.Y('count():Q', scale=alt.Scale(\n",
    "        domain=(0, 46)), title='Number of Patients'),\n",
    "    color='race:N'\n",
    ")\n",
    "\n",
    "female = alt.Chart(demo_stage.loc[demo_stage['gender'] == 'Female'], title=\"Female\").mark_bar(\n",
    "    cornerRadiusTopLeft=3,\n",
    "    cornerRadiusTopRight=3\n",
    ").encode(\n",
    "    x=alt.X('age:Q', bin=True),\n",
    "    y=alt.Y('count():Q', scale=alt.Scale(\n",
    "        domain=(0, 46)), title='Number of Patients'),\n",
    "    color='race:N'\n",
    ")\n",
    "\n",
    "male | female"
   ]
  },
  {
   "cell_type": "code",
   "execution_count": null,
   "id": "90e3b063",
   "metadata": {},
   "outputs": [],
   "source": []
  },
  {
   "cell_type": "code",
   "execution_count": null,
   "id": "a93c131d",
   "metadata": {},
   "outputs": [],
   "source": []
  },
  {
   "cell_type": "markdown",
   "id": "63359e9e",
   "metadata": {},
   "source": [
    "# Analysis/Modeling\n",
    "Do work here"
   ]
  },
  {
   "cell_type": "markdown",
   "id": "8cbda61a",
   "metadata": {},
   "source": [
    "# Results\n",
    "Show graphs and stats here"
   ]
  },
  {
   "cell_type": "markdown",
   "id": "1c9d64ca",
   "metadata": {},
   "source": [
    "# Conclusions and Next Steps\n",
    "Summarize findings here"
   ]
  },
  {
   "cell_type": "code",
   "execution_count": null,
   "id": "48263fc0",
   "metadata": {},
   "outputs": [],
   "source": []
  },
  {
   "cell_type": "code",
   "execution_count": null,
   "id": "8a255673",
   "metadata": {},
   "outputs": [],
   "source": []
  },
  {
   "cell_type": "code",
   "execution_count": null,
   "id": "b3b541c8",
   "metadata": {},
   "outputs": [],
   "source": []
  },
  {
   "cell_type": "code",
   "execution_count": null,
   "id": "45c6d77e",
   "metadata": {},
   "outputs": [],
   "source": []
  },
  {
   "cell_type": "code",
   "execution_count": null,
   "id": "40aeaa25",
   "metadata": {},
   "outputs": [],
   "source": []
  },
  {
   "cell_type": "code",
   "execution_count": null,
   "id": "d879e845",
   "metadata": {},
   "outputs": [],
   "source": []
  },
  {
   "cell_type": "code",
   "execution_count": null,
   "id": "35bda833",
   "metadata": {},
   "outputs": [],
   "source": []
  },
  {
   "cell_type": "code",
   "execution_count": null,
   "id": "b5a24301",
   "metadata": {},
   "outputs": [],
   "source": []
  },
  {
   "cell_type": "code",
   "execution_count": null,
   "id": "c9a0d9cc",
   "metadata": {},
   "outputs": [],
   "source": []
  },
  {
   "cell_type": "code",
   "execution_count": null,
   "id": "661dfee6",
   "metadata": {},
   "outputs": [],
   "source": []
  },
  {
   "cell_type": "code",
   "execution_count": null,
   "id": "c75a9c35",
   "metadata": {},
   "outputs": [],
   "source": []
  },
  {
   "cell_type": "code",
   "execution_count": null,
   "id": "85faca7e",
   "metadata": {},
   "outputs": [],
   "source": []
  }
 ],
 "metadata": {
  "kernelspec": {
   "display_name": "Python 3",
   "language": "python",
   "name": "python3"
  },
  "language_info": {
   "codemirror_mode": {
    "name": "ipython",
    "version": 3
   },
   "file_extension": ".py",
   "mimetype": "text/x-python",
   "name": "python",
   "nbconvert_exporter": "python",
   "pygments_lexer": "ipython3",
   "version": "3.7.6"
  },
  "toc": {
   "base_numbering": 1,
   "nav_menu": {},
   "number_sections": true,
   "sideBar": true,
   "skip_h1_title": false,
   "title_cell": "Table of Contents",
   "title_sidebar": "Contents",
   "toc_cell": false,
   "toc_position": {},
   "toc_section_display": true,
   "toc_window_display": false
  },
  "varInspector": {
   "cols": {
    "lenName": 16,
    "lenType": 16,
    "lenVar": 40
   },
   "kernels_config": {
    "python": {
     "delete_cmd_postfix": "",
     "delete_cmd_prefix": "del ",
     "library": "var_list.py",
     "varRefreshCmd": "print(var_dic_list())"
    },
    "r": {
     "delete_cmd_postfix": ") ",
     "delete_cmd_prefix": "rm(",
     "library": "var_list.r",
     "varRefreshCmd": "cat(var_dic_list()) "
    }
   },
   "types_to_exclude": [
    "module",
    "function",
    "builtin_function_or_method",
    "instance",
    "_Feature"
   ],
   "window_display": false
  }
 },
 "nbformat": 4,
 "nbformat_minor": 5
}
